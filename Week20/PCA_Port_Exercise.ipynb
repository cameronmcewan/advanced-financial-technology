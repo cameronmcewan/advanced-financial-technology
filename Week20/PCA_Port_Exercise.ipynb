{
 "cells": [
  {
   "cell_type": "markdown",
   "metadata": {
    "_cell_guid": "83708667-4fdc-1563-7b3a-06b6575d2865"
   },
   "source": [
    "\n",
    "\n",
    "# Portfolio Management-Eigen Portfolio\n",
    "\n",
    "In this case study we use dimensionality reduction techniques for portfolio management and allocation.\n"
   ]
  },
  {
   "cell_type": "markdown",
   "metadata": {},
   "source": [
    "Reference: [1] Tatsat, Hariom, Sahil Puri, and Brad Lookabaugh. Machine Learning and Data Science Blueprints for Finance. O'Reilly Media, Incorporated, 2020."
   ]
  },
  {
   "cell_type": "markdown",
   "metadata": {},
   "source": [
    "## Content"
   ]
  },
  {
   "cell_type": "markdown",
   "metadata": {},
   "source": [
    "* [1. Problem Definition](#0)\n",
    "* [2. Getting Started - Load Libraries and Dataset](#1)\n",
    "    * [2.1. Load Libraries](#1.1)    \n",
    "    * [2.2. Load Dataset](#1.2)\n",
    "* [3. Exploratory Data Analysis](#2)\n",
    "    * [3.1 Descriptive Statistics](#2.1)    \n",
    "    * [3.2. Data Visualisation](#2.2)\n",
    "* [4. Data Preparation](#3)\n",
    "    * [4.1 Data Cleaning](#3.1)\n",
    "    * [4.3.Data Transformation](#3.2)  \n",
    "* [5.Evaluate Algorithms and Models](#4)        \n",
    "    * [5.1. Train Test Split](#4.1)\n",
    "    * [5.2. Model Evaluation- Applying Principle Component Analysis](#4.2)\n",
    "        * [5.2.1. Explained Variance using PCA](#4.2.1)\n",
    "        * [5.2.2. Looking at Portfolio weights](#4.2.2)\n",
    "        * [5.2.3. Finding the Best Eigen Portfolio](#4.2.3)\n",
    "        * [5.2.4. Backtesting Eigenportfolio](#4.2.4)"
   ]
  },
  {
   "cell_type": "markdown",
   "metadata": {},
   "source": [
    "<a id='0'></a>\n",
    "# 1. Problem Definition"
   ]
  },
  {
   "cell_type": "markdown",
   "metadata": {},
   "source": [
    "Our goal in this case study is to maximize risk-adjusted returns using dimensionality\n",
    "reduction-based algorithm on a dataset of stocks to allocate capital into different asset\n",
    "classes.\n",
    "\n",
    "The dataset used for this case study is Dow Jones Industrial Average (DJIA) index and\n",
    "its respective 30 stocks from year 2000-2017. The dataset can be downloaded from\n",
    "yahoo finance.\n"
   ]
  },
  {
   "cell_type": "markdown",
   "metadata": {},
   "source": [
    "<a id='1'></a>\n",
    "# 2. Getting Started- Loading the data and python packages"
   ]
  },
  {
   "cell_type": "markdown",
   "metadata": {},
   "source": [
    "<a id='1.1'></a>\n",
    "## 2.1. Loading the python packages"
   ]
  },
  {
   "cell_type": "code",
   "execution_count": 415,
   "metadata": {
    "_cell_guid": "5d8fee34-f454-2642-8b06-ed719f0317e1"
   },
   "outputs": [],
   "source": [
    "# Load libraries\n",
    "import numpy as np\n",
    "import pandas as pd\n",
    "import matplotlib.pyplot as plt\n",
    "from pandas import read_csv, set_option\n",
    "from pandas.plotting import scatter_matrix\n",
    "import seaborn as sns\n",
    "from sklearn.preprocessing import StandardScaler\n",
    "\n",
    "#Import Model Packages \n",
    "from sklearn.decomposition import PCA\n",
    "from sklearn.decomposition import TruncatedSVD\n",
    "from numpy.linalg import inv, eig, svd\n",
    "\n",
    "from sklearn.manifold import TSNE\n",
    "from sklearn.decomposition import KernelPCA"
   ]
  },
  {
   "cell_type": "markdown",
   "metadata": {},
   "source": [
    "<a id='1.2'></a>\n",
    "## 2.2. Loading the Data"
   ]
  },
  {
   "cell_type": "code",
   "execution_count": 417,
   "metadata": {},
   "outputs": [],
   "source": [
    "# load dataset\n",
    "dataset = read_csv('Dow_adjcloses_2000_2017.csv',index_col=0)"
   ]
  },
  {
   "cell_type": "code",
   "execution_count": 418,
   "metadata": {},
   "outputs": [],
   "source": [
    "#Diable the warnings\n",
    "import warnings\n",
    "warnings.filterwarnings('ignore')"
   ]
  },
  {
   "cell_type": "code",
   "execution_count": 419,
   "metadata": {},
   "outputs": [
    {
     "data": {
      "text/plain": [
       "pandas.core.frame.DataFrame"
      ]
     },
     "execution_count": 419,
     "metadata": {},
     "output_type": "execute_result"
    }
   ],
   "source": [
    "type(dataset)"
   ]
  },
  {
   "cell_type": "markdown",
   "metadata": {
    "_cell_guid": "df6a4523-b385-69ee-c933-592826d81431"
   },
   "source": [
    "<a id='2'></a>\n",
    "# 3. Exploratory Data Analysis"
   ]
  },
  {
   "cell_type": "markdown",
   "metadata": {},
   "source": [
    "<a id='2.1'></a>\n",
    "## 3.1. Descriptive Statistics"
   ]
  },
  {
   "cell_type": "code",
   "execution_count": 420,
   "metadata": {
    "_cell_guid": "52f85dc2-0f91-3c50-400e-ddc38bea966b"
   },
   "outputs": [
    {
     "data": {
      "text/plain": [
       "(4528, 30)"
      ]
     },
     "execution_count": 420,
     "metadata": {},
     "output_type": "execute_result"
    }
   ],
   "source": [
    "# shape\n",
    "dataset.shape"
   ]
  },
  {
   "cell_type": "code",
   "execution_count": 421,
   "metadata": {},
   "outputs": [
    {
     "data": {
      "text/html": [
       "<div>\n",
       "<style scoped>\n",
       "    .dataframe tbody tr th:only-of-type {\n",
       "        vertical-align: middle;\n",
       "    }\n",
       "\n",
       "    .dataframe tbody tr th {\n",
       "        vertical-align: top;\n",
       "    }\n",
       "\n",
       "    .dataframe thead th {\n",
       "        text-align: right;\n",
       "    }\n",
       "</style>\n",
       "<table border=\"1\" class=\"dataframe\">\n",
       "  <thead>\n",
       "    <tr style=\"text-align: right;\">\n",
       "      <th></th>\n",
       "      <th>MMM</th>\n",
       "      <th>AXP</th>\n",
       "      <th>AAPL</th>\n",
       "      <th>BA</th>\n",
       "      <th>CAT</th>\n",
       "      <th>CVX</th>\n",
       "      <th>CSCO</th>\n",
       "      <th>KO</th>\n",
       "      <th>DIS</th>\n",
       "      <th>DWDP</th>\n",
       "      <th>...</th>\n",
       "      <th>NKE</th>\n",
       "      <th>PFE</th>\n",
       "      <th>PG</th>\n",
       "      <th>TRV</th>\n",
       "      <th>UTX</th>\n",
       "      <th>UNH</th>\n",
       "      <th>VZ</th>\n",
       "      <th>V</th>\n",
       "      <th>WMT</th>\n",
       "      <th>WBA</th>\n",
       "    </tr>\n",
       "    <tr>\n",
       "      <th>Date</th>\n",
       "      <th></th>\n",
       "      <th></th>\n",
       "      <th></th>\n",
       "      <th></th>\n",
       "      <th></th>\n",
       "      <th></th>\n",
       "      <th></th>\n",
       "      <th></th>\n",
       "      <th></th>\n",
       "      <th></th>\n",
       "      <th></th>\n",
       "      <th></th>\n",
       "      <th></th>\n",
       "      <th></th>\n",
       "      <th></th>\n",
       "      <th></th>\n",
       "      <th></th>\n",
       "      <th></th>\n",
       "      <th></th>\n",
       "      <th></th>\n",
       "      <th></th>\n",
       "    </tr>\n",
       "  </thead>\n",
       "  <tbody>\n",
       "    <tr>\n",
       "      <th>2000-01-03</th>\n",
       "      <td>29.847</td>\n",
       "      <td>35.477</td>\n",
       "      <td>3.531</td>\n",
       "      <td>26.650</td>\n",
       "      <td>14.561</td>\n",
       "      <td>21.582</td>\n",
       "      <td>43.004</td>\n",
       "      <td>16.984</td>\n",
       "      <td>23.522</td>\n",
       "      <td>NaN</td>\n",
       "      <td>...</td>\n",
       "      <td>4.701</td>\n",
       "      <td>16.747</td>\n",
       "      <td>32.228</td>\n",
       "      <td>20.159</td>\n",
       "      <td>21.319</td>\n",
       "      <td>5.841</td>\n",
       "      <td>22.564</td>\n",
       "      <td>NaN</td>\n",
       "      <td>47.338</td>\n",
       "      <td>21.713</td>\n",
       "    </tr>\n",
       "    <tr>\n",
       "      <th>2000-01-04</th>\n",
       "      <td>28.661</td>\n",
       "      <td>34.134</td>\n",
       "      <td>3.233</td>\n",
       "      <td>26.610</td>\n",
       "      <td>14.372</td>\n",
       "      <td>21.582</td>\n",
       "      <td>40.577</td>\n",
       "      <td>17.041</td>\n",
       "      <td>24.900</td>\n",
       "      <td>NaN</td>\n",
       "      <td>...</td>\n",
       "      <td>4.445</td>\n",
       "      <td>16.122</td>\n",
       "      <td>31.596</td>\n",
       "      <td>19.890</td>\n",
       "      <td>20.446</td>\n",
       "      <td>5.766</td>\n",
       "      <td>21.834</td>\n",
       "      <td>NaN</td>\n",
       "      <td>45.566</td>\n",
       "      <td>20.907</td>\n",
       "    </tr>\n",
       "    <tr>\n",
       "      <th>2000-01-05</th>\n",
       "      <td>30.122</td>\n",
       "      <td>33.959</td>\n",
       "      <td>3.280</td>\n",
       "      <td>28.474</td>\n",
       "      <td>14.914</td>\n",
       "      <td>22.049</td>\n",
       "      <td>40.895</td>\n",
       "      <td>17.228</td>\n",
       "      <td>25.782</td>\n",
       "      <td>NaN</td>\n",
       "      <td>...</td>\n",
       "      <td>4.702</td>\n",
       "      <td>16.416</td>\n",
       "      <td>31.326</td>\n",
       "      <td>20.086</td>\n",
       "      <td>20.255</td>\n",
       "      <td>5.753</td>\n",
       "      <td>22.564</td>\n",
       "      <td>NaN</td>\n",
       "      <td>44.503</td>\n",
       "      <td>21.097</td>\n",
       "    </tr>\n",
       "  </tbody>\n",
       "</table>\n",
       "<p>3 rows × 30 columns</p>\n",
       "</div>"
      ],
      "text/plain": [
       "               MMM     AXP   AAPL      BA     CAT     CVX    CSCO      KO     DIS  DWDP  ...  \\\n",
       "Date                                                                                     ...   \n",
       "2000-01-03  29.847  35.477  3.531  26.650  14.561  21.582  43.004  16.984  23.522   NaN  ...   \n",
       "2000-01-04  28.661  34.134  3.233  26.610  14.372  21.582  40.577  17.041  24.900   NaN  ...   \n",
       "2000-01-05  30.122  33.959  3.280  28.474  14.914  22.049  40.895  17.228  25.782   NaN  ...   \n",
       "\n",
       "              NKE     PFE      PG     TRV     UTX    UNH      VZ   V     WMT     WBA  \n",
       "Date                                                                                  \n",
       "2000-01-03  4.701  16.747  32.228  20.159  21.319  5.841  22.564 NaN  47.338  21.713  \n",
       "2000-01-04  4.445  16.122  31.596  19.890  20.446  5.766  21.834 NaN  45.566  20.907  \n",
       "2000-01-05  4.702  16.416  31.326  20.086  20.255  5.753  22.564 NaN  44.503  21.097  \n",
       "\n",
       "[3 rows x 30 columns]"
      ]
     },
     "execution_count": 421,
     "metadata": {},
     "output_type": "execute_result"
    }
   ],
   "source": [
    "# peek at data\n",
    "set_option('display.width', 100)\n",
    "dataset.head(3)"
   ]
  },
  {
   "cell_type": "code",
   "execution_count": 422,
   "metadata": {
    "_cell_guid": "f36dd804-0c16-f0c9-05c9-d22b85a79e75"
   },
   "outputs": [],
   "source": [
    "# types\n",
    "set_option('display.max_rows', 500)\n",
    "# dataset.dtypes"
   ]
  },
  {
   "cell_type": "code",
   "execution_count": 423,
   "metadata": {
    "_cell_guid": "7bffeec0-5bbc-fffb-18f2-3da56b862ca3"
   },
   "outputs": [
    {
     "data": {
      "text/html": [
       "<div>\n",
       "<style scoped>\n",
       "    .dataframe tbody tr th:only-of-type {\n",
       "        vertical-align: middle;\n",
       "    }\n",
       "\n",
       "    .dataframe tbody tr th {\n",
       "        vertical-align: top;\n",
       "    }\n",
       "\n",
       "    .dataframe thead th {\n",
       "        text-align: right;\n",
       "    }\n",
       "</style>\n",
       "<table border=\"1\" class=\"dataframe\">\n",
       "  <thead>\n",
       "    <tr style=\"text-align: right;\">\n",
       "      <th></th>\n",
       "      <th>MMM</th>\n",
       "      <th>AXP</th>\n",
       "      <th>AAPL</th>\n",
       "      <th>BA</th>\n",
       "      <th>CAT</th>\n",
       "      <th>CVX</th>\n",
       "      <th>CSCO</th>\n",
       "      <th>KO</th>\n",
       "      <th>DIS</th>\n",
       "      <th>DWDP</th>\n",
       "      <th>...</th>\n",
       "      <th>NKE</th>\n",
       "      <th>PFE</th>\n",
       "      <th>PG</th>\n",
       "      <th>TRV</th>\n",
       "      <th>UTX</th>\n",
       "      <th>UNH</th>\n",
       "      <th>VZ</th>\n",
       "      <th>V</th>\n",
       "      <th>WMT</th>\n",
       "      <th>WBA</th>\n",
       "    </tr>\n",
       "  </thead>\n",
       "  <tbody>\n",
       "    <tr>\n",
       "      <th>count</th>\n",
       "      <td>4528.000</td>\n",
       "      <td>4528.000</td>\n",
       "      <td>4528.000</td>\n",
       "      <td>4528.000</td>\n",
       "      <td>4528.000</td>\n",
       "      <td>4528.000</td>\n",
       "      <td>4528.000</td>\n",
       "      <td>4528.000</td>\n",
       "      <td>4528.000</td>\n",
       "      <td>87.000</td>\n",
       "      <td>...</td>\n",
       "      <td>4528.000</td>\n",
       "      <td>4528.000</td>\n",
       "      <td>4528.000</td>\n",
       "      <td>4528.000</td>\n",
       "      <td>4528.000</td>\n",
       "      <td>4528.000</td>\n",
       "      <td>4528.000</td>\n",
       "      <td>2465.000</td>\n",
       "      <td>4528.000</td>\n",
       "      <td>4528.000</td>\n",
       "    </tr>\n",
       "    <tr>\n",
       "      <th>mean</th>\n",
       "      <td>79.444</td>\n",
       "      <td>46.591</td>\n",
       "      <td>40.824</td>\n",
       "      <td>69.771</td>\n",
       "      <td>51.553</td>\n",
       "      <td>58.333</td>\n",
       "      <td>20.320</td>\n",
       "      <td>23.773</td>\n",
       "      <td>42.640</td>\n",
       "      <td>68.332</td>\n",
       "      <td>...</td>\n",
       "      <td>20.715</td>\n",
       "      <td>19.649</td>\n",
       "      <td>48.026</td>\n",
       "      <td>51.525</td>\n",
       "      <td>58.335</td>\n",
       "      <td>53.254</td>\n",
       "      <td>25.733</td>\n",
       "      <td>44.440</td>\n",
       "      <td>48.273</td>\n",
       "      <td>39.992</td>\n",
       "    </tr>\n",
       "    <tr>\n",
       "      <th>std</th>\n",
       "      <td>46.247</td>\n",
       "      <td>19.358</td>\n",
       "      <td>44.589</td>\n",
       "      <td>48.126</td>\n",
       "      <td>28.378</td>\n",
       "      <td>29.387</td>\n",
       "      <td>8.739</td>\n",
       "      <td>9.673</td>\n",
       "      <td>29.883</td>\n",
       "      <td>2.153</td>\n",
       "      <td>...</td>\n",
       "      <td>17.533</td>\n",
       "      <td>6.348</td>\n",
       "      <td>18.610</td>\n",
       "      <td>30.471</td>\n",
       "      <td>29.406</td>\n",
       "      <td>44.853</td>\n",
       "      <td>10.672</td>\n",
       "      <td>27.972</td>\n",
       "      <td>14.049</td>\n",
       "      <td>19.208</td>\n",
       "    </tr>\n",
       "    <tr>\n",
       "      <th>min</th>\n",
       "      <td>25.140</td>\n",
       "      <td>8.713</td>\n",
       "      <td>0.828</td>\n",
       "      <td>17.463</td>\n",
       "      <td>9.247</td>\n",
       "      <td>17.566</td>\n",
       "      <td>6.842</td>\n",
       "      <td>11.699</td>\n",
       "      <td>11.018</td>\n",
       "      <td>61.620</td>\n",
       "      <td>...</td>\n",
       "      <td>2.595</td>\n",
       "      <td>8.041</td>\n",
       "      <td>16.204</td>\n",
       "      <td>13.287</td>\n",
       "      <td>14.521</td>\n",
       "      <td>5.175</td>\n",
       "      <td>11.210</td>\n",
       "      <td>9.846</td>\n",
       "      <td>30.748</td>\n",
       "      <td>17.317</td>\n",
       "    </tr>\n",
       "    <tr>\n",
       "      <th>25%</th>\n",
       "      <td>49.438</td>\n",
       "      <td>33.434</td>\n",
       "      <td>3.484</td>\n",
       "      <td>36.192</td>\n",
       "      <td>25.666</td>\n",
       "      <td>28.221</td>\n",
       "      <td>14.751</td>\n",
       "      <td>15.203</td>\n",
       "      <td>21.631</td>\n",
       "      <td>68.020</td>\n",
       "      <td>...</td>\n",
       "      <td>7.705</td>\n",
       "      <td>14.839</td>\n",
       "      <td>34.932</td>\n",
       "      <td>29.415</td>\n",
       "      <td>33.540</td>\n",
       "      <td>22.634</td>\n",
       "      <td>17.258</td>\n",
       "      <td>18.473</td>\n",
       "      <td>37.813</td>\n",
       "      <td>27.371</td>\n",
       "    </tr>\n",
       "    <tr>\n",
       "      <th>50%</th>\n",
       "      <td>60.891</td>\n",
       "      <td>40.834</td>\n",
       "      <td>20.687</td>\n",
       "      <td>56.646</td>\n",
       "      <td>51.219</td>\n",
       "      <td>54.888</td>\n",
       "      <td>18.138</td>\n",
       "      <td>19.850</td>\n",
       "      <td>29.050</td>\n",
       "      <td>68.988</td>\n",
       "      <td>...</td>\n",
       "      <td>13.088</td>\n",
       "      <td>17.862</td>\n",
       "      <td>45.796</td>\n",
       "      <td>38.892</td>\n",
       "      <td>53.776</td>\n",
       "      <td>41.724</td>\n",
       "      <td>20.848</td>\n",
       "      <td>37.958</td>\n",
       "      <td>42.218</td>\n",
       "      <td>31.621</td>\n",
       "    </tr>\n",
       "    <tr>\n",
       "      <th>75%</th>\n",
       "      <td>97.710</td>\n",
       "      <td>59.393</td>\n",
       "      <td>71.059</td>\n",
       "      <td>89.976</td>\n",
       "      <td>73.265</td>\n",
       "      <td>86.010</td>\n",
       "      <td>22.861</td>\n",
       "      <td>32.890</td>\n",
       "      <td>58.913</td>\n",
       "      <td>69.616</td>\n",
       "      <td>...</td>\n",
       "      <td>29.682</td>\n",
       "      <td>24.000</td>\n",
       "      <td>64.634</td>\n",
       "      <td>73.367</td>\n",
       "      <td>82.736</td>\n",
       "      <td>60.697</td>\n",
       "      <td>37.335</td>\n",
       "      <td>68.023</td>\n",
       "      <td>62.462</td>\n",
       "      <td>44.243</td>\n",
       "    </tr>\n",
       "    <tr>\n",
       "      <th>max</th>\n",
       "      <td>236.889</td>\n",
       "      <td>97.873</td>\n",
       "      <td>173.813</td>\n",
       "      <td>292.090</td>\n",
       "      <td>153.954</td>\n",
       "      <td>121.340</td>\n",
       "      <td>63.698</td>\n",
       "      <td>45.469</td>\n",
       "      <td>115.471</td>\n",
       "      <td>71.251</td>\n",
       "      <td>...</td>\n",
       "      <td>64.619</td>\n",
       "      <td>35.615</td>\n",
       "      <td>89.752</td>\n",
       "      <td>132.553</td>\n",
       "      <td>125.350</td>\n",
       "      <td>225.140</td>\n",
       "      <td>50.478</td>\n",
       "      <td>113.600</td>\n",
       "      <td>97.095</td>\n",
       "      <td>90.188</td>\n",
       "    </tr>\n",
       "  </tbody>\n",
       "</table>\n",
       "<p>8 rows × 30 columns</p>\n",
       "</div>"
      ],
      "text/plain": [
       "            MMM       AXP      AAPL        BA       CAT       CVX      CSCO        KO       DIS  \\\n",
       "count  4528.000  4528.000  4528.000  4528.000  4528.000  4528.000  4528.000  4528.000  4528.000   \n",
       "mean     79.444    46.591    40.824    69.771    51.553    58.333    20.320    23.773    42.640   \n",
       "std      46.247    19.358    44.589    48.126    28.378    29.387     8.739     9.673    29.883   \n",
       "min      25.140     8.713     0.828    17.463     9.247    17.566     6.842    11.699    11.018   \n",
       "25%      49.438    33.434     3.484    36.192    25.666    28.221    14.751    15.203    21.631   \n",
       "50%      60.891    40.834    20.687    56.646    51.219    54.888    18.138    19.850    29.050   \n",
       "75%      97.710    59.393    71.059    89.976    73.265    86.010    22.861    32.890    58.913   \n",
       "max     236.889    97.873   173.813   292.090   153.954   121.340    63.698    45.469   115.471   \n",
       "\n",
       "         DWDP  ...       NKE       PFE        PG       TRV       UTX       UNH        VZ  \\\n",
       "count  87.000  ...  4528.000  4528.000  4528.000  4528.000  4528.000  4528.000  4528.000   \n",
       "mean   68.332  ...    20.715    19.649    48.026    51.525    58.335    53.254    25.733   \n",
       "std     2.153  ...    17.533     6.348    18.610    30.471    29.406    44.853    10.672   \n",
       "min    61.620  ...     2.595     8.041    16.204    13.287    14.521     5.175    11.210   \n",
       "25%    68.020  ...     7.705    14.839    34.932    29.415    33.540    22.634    17.258   \n",
       "50%    68.988  ...    13.088    17.862    45.796    38.892    53.776    41.724    20.848   \n",
       "75%    69.616  ...    29.682    24.000    64.634    73.367    82.736    60.697    37.335   \n",
       "max    71.251  ...    64.619    35.615    89.752   132.553   125.350   225.140    50.478   \n",
       "\n",
       "              V       WMT       WBA  \n",
       "count  2465.000  4528.000  4528.000  \n",
       "mean     44.440    48.273    39.992  \n",
       "std      27.972    14.049    19.208  \n",
       "min       9.846    30.748    17.317  \n",
       "25%      18.473    37.813    27.371  \n",
       "50%      37.958    42.218    31.621  \n",
       "75%      68.023    62.462    44.243  \n",
       "max     113.600    97.095    90.188  \n",
       "\n",
       "[8 rows x 30 columns]"
      ]
     },
     "execution_count": 423,
     "metadata": {},
     "output_type": "execute_result"
    }
   ],
   "source": [
    "# describe data\n",
    "set_option('precision', 3)\n",
    "dataset.describe()"
   ]
  },
  {
   "cell_type": "markdown",
   "metadata": {},
   "source": [
    "<a id='2.2'></a>\n",
    "## 3.2. Data Visualization"
   ]
  },
  {
   "cell_type": "markdown",
   "metadata": {},
   "source": [
    "Taking a look at the correlation. More detailed look at the data will be performed after implementing the Dimensionality Reduction Models."
   ]
  },
  {
   "cell_type": "code",
   "execution_count": 1,
   "metadata": {},
   "outputs": [],
   "source": [
    "# plot a correlation matrix\n"
   ]
  },
  {
   "cell_type": "markdown",
   "metadata": {},
   "source": [
    "As it can be seen by the chart above, there is a significant positive correlation between\n",
    "the stocks. "
   ]
  },
  {
   "cell_type": "markdown",
   "metadata": {},
   "source": [
    "<a id='3'></a>\n",
    "## 4. Data Preparation"
   ]
  },
  {
   "cell_type": "markdown",
   "metadata": {},
   "source": [
    "<a id='3.1'></a>\n",
    "## 4.1. Data Cleaning\n",
    "Let us check for the NAs in the rows, either drop them or fill them with the mean of the column"
   ]
  },
  {
   "cell_type": "code",
   "execution_count": 425,
   "metadata": {},
   "outputs": [
    {
     "name": "stdout",
     "output_type": "stream",
     "text": [
      "Null Values = True\n"
     ]
    }
   ],
   "source": [
    "#Checking for any null values and removing the null values'''\n",
    "print('Null Values =',dataset.isnull().values.any())"
   ]
  },
  {
   "cell_type": "code",
   "execution_count": 2,
   "metadata": {},
   "outputs": [],
   "source": [
    "# Getting rid of the columns with more than 30% missing values. \n"
   ]
  },
  {
   "cell_type": "markdown",
   "metadata": {},
   "source": [
    "Given that there are null values drop the rown contianing the null values."
   ]
  },
  {
   "cell_type": "code",
   "execution_count": null,
   "metadata": {},
   "outputs": [],
   "source": [
    "# Fill the missing values with the last value available in the dataset. \n"
   ]
  },
  {
   "cell_type": "code",
   "execution_count": 427,
   "metadata": {},
   "outputs": [
    {
     "data": {
      "text/html": [
       "<div>\n",
       "<style scoped>\n",
       "    .dataframe tbody tr th:only-of-type {\n",
       "        vertical-align: middle;\n",
       "    }\n",
       "\n",
       "    .dataframe tbody tr th {\n",
       "        vertical-align: top;\n",
       "    }\n",
       "\n",
       "    .dataframe thead th {\n",
       "        text-align: right;\n",
       "    }\n",
       "</style>\n",
       "<table border=\"1\" class=\"dataframe\">\n",
       "  <thead>\n",
       "    <tr style=\"text-align: right;\">\n",
       "      <th></th>\n",
       "      <th>MMM</th>\n",
       "      <th>AXP</th>\n",
       "      <th>AAPL</th>\n",
       "      <th>BA</th>\n",
       "      <th>CAT</th>\n",
       "      <th>CVX</th>\n",
       "      <th>CSCO</th>\n",
       "      <th>KO</th>\n",
       "      <th>DIS</th>\n",
       "      <th>XOM</th>\n",
       "      <th>...</th>\n",
       "      <th>MSFT</th>\n",
       "      <th>NKE</th>\n",
       "      <th>PFE</th>\n",
       "      <th>PG</th>\n",
       "      <th>TRV</th>\n",
       "      <th>UTX</th>\n",
       "      <th>UNH</th>\n",
       "      <th>VZ</th>\n",
       "      <th>WMT</th>\n",
       "      <th>WBA</th>\n",
       "    </tr>\n",
       "    <tr>\n",
       "      <th>Date</th>\n",
       "      <th></th>\n",
       "      <th></th>\n",
       "      <th></th>\n",
       "      <th></th>\n",
       "      <th></th>\n",
       "      <th></th>\n",
       "      <th></th>\n",
       "      <th></th>\n",
       "      <th></th>\n",
       "      <th></th>\n",
       "      <th></th>\n",
       "      <th></th>\n",
       "      <th></th>\n",
       "      <th></th>\n",
       "      <th></th>\n",
       "      <th></th>\n",
       "      <th></th>\n",
       "      <th></th>\n",
       "      <th></th>\n",
       "      <th></th>\n",
       "      <th></th>\n",
       "    </tr>\n",
       "  </thead>\n",
       "  <tbody>\n",
       "    <tr>\n",
       "      <th>2000-01-03</th>\n",
       "      <td>29.847</td>\n",
       "      <td>35.477</td>\n",
       "      <td>3.531</td>\n",
       "      <td>26.65</td>\n",
       "      <td>14.561</td>\n",
       "      <td>21.582</td>\n",
       "      <td>43.004</td>\n",
       "      <td>16.984</td>\n",
       "      <td>23.522</td>\n",
       "      <td>23.862</td>\n",
       "      <td>...</td>\n",
       "      <td>38.135</td>\n",
       "      <td>4.701</td>\n",
       "      <td>16.747</td>\n",
       "      <td>32.228</td>\n",
       "      <td>20.159</td>\n",
       "      <td>21.319</td>\n",
       "      <td>5.841</td>\n",
       "      <td>22.564</td>\n",
       "      <td>47.338</td>\n",
       "      <td>21.713</td>\n",
       "    </tr>\n",
       "    <tr>\n",
       "      <th>2000-01-04</th>\n",
       "      <td>28.661</td>\n",
       "      <td>34.134</td>\n",
       "      <td>3.233</td>\n",
       "      <td>26.61</td>\n",
       "      <td>14.372</td>\n",
       "      <td>21.582</td>\n",
       "      <td>40.577</td>\n",
       "      <td>17.041</td>\n",
       "      <td>24.900</td>\n",
       "      <td>23.405</td>\n",
       "      <td>...</td>\n",
       "      <td>36.846</td>\n",
       "      <td>4.445</td>\n",
       "      <td>16.122</td>\n",
       "      <td>31.596</td>\n",
       "      <td>19.890</td>\n",
       "      <td>20.446</td>\n",
       "      <td>5.766</td>\n",
       "      <td>21.834</td>\n",
       "      <td>45.566</td>\n",
       "      <td>20.907</td>\n",
       "    </tr>\n",
       "  </tbody>\n",
       "</table>\n",
       "<p>2 rows × 28 columns</p>\n",
       "</div>"
      ],
      "text/plain": [
       "               MMM     AXP   AAPL     BA     CAT     CVX    CSCO      KO     DIS     XOM  ...  \\\n",
       "Date                                                                                      ...   \n",
       "2000-01-03  29.847  35.477  3.531  26.65  14.561  21.582  43.004  16.984  23.522  23.862  ...   \n",
       "2000-01-04  28.661  34.134  3.233  26.61  14.372  21.582  40.577  17.041  24.900  23.405  ...   \n",
       "\n",
       "              MSFT    NKE     PFE      PG     TRV     UTX    UNH      VZ     WMT     WBA  \n",
       "Date                                                                                      \n",
       "2000-01-03  38.135  4.701  16.747  32.228  20.159  21.319  5.841  22.564  47.338  21.713  \n",
       "2000-01-04  36.846  4.445  16.122  31.596  19.890  20.446  5.766  21.834  45.566  20.907  \n",
       "\n",
       "[2 rows x 28 columns]"
      ]
     },
     "execution_count": 427,
     "metadata": {},
     "output_type": "execute_result"
    }
   ],
   "source": [
    "# Drop the rows containing NA\n",
    "dataset= dataset.dropna(axis=0)\n",
    "\n",
    "dataset.head(2)"
   ]
  },
  {
   "cell_type": "markdown",
   "metadata": {},
   "source": [
    "Computing Daily Return"
   ]
  },
  {
   "cell_type": "code",
   "execution_count": 3,
   "metadata": {},
   "outputs": [],
   "source": [
    "# Daily Linear Returns (%)\n"
   ]
  },
  {
   "cell_type": "code",
   "execution_count": 4,
   "metadata": {},
   "outputs": [],
   "source": [
    "#Remove Outliers beyong 3 standard deviation\n"
   ]
  },
  {
   "cell_type": "markdown",
   "metadata": {},
   "source": [
    "<a id='3.2'></a>\n",
    "## 4.2. Data Transformation"
   ]
  },
  {
   "cell_type": "markdown",
   "metadata": {},
   "source": [
    "All the variables should be on the same scale before applying PCA, otherwise a feature with large values will dominate the result. Below we use StandardScaler in sklearn to standardize the dataset’s features onto unit scale (mean = 0 and variance = 1).\n",
    "\n",
    "Standardization is a useful technique to transform attributes to a standard Normal distribution with a mean of\n",
    "0 and a standard deviation of 1."
   ]
  },
  {
   "cell_type": "code",
   "execution_count": null,
   "metadata": {},
   "outputs": [],
   "source": [
    "from sklearn.preprocessing import StandardScaler\n",
    "\n",
    "# Standardization \n"
   ]
  },
  {
   "cell_type": "code",
   "execution_count": null,
   "metadata": {},
   "outputs": [],
   "source": [
    "# summarize transformed data\n",
    "datareturns.dropna(how='any', inplace=True)\n",
    "rescaledDataset.dropna(how='any', inplace=True)\n",
    "rescaledDataset.head(2)"
   ]
  },
  {
   "cell_type": "code",
   "execution_count": 430,
   "metadata": {},
   "outputs": [
    {
     "data": {
      "image/png": "[encoded data removed]",
      "text/plain": [
       "<Figure size 1152x360 with 1 Axes>"
      ]
     },
     "metadata": {
      "needs_background": "light"
     },
     "output_type": "display_data"
    }
   ],
   "source": [
    "# Visualizing Log Returns for the DJIA \n",
    "plt.figure(figsize=(16, 5))\n",
    "plt.title(\"AAPL Return\")\n",
    "plt.ylabel(\"Return\")\n",
    "rescaledDataset.AAPL.plot()\n",
    "plt.grid(True);\n",
    "plt.legend()\n",
    "plt.show()"
   ]
  },
  {
   "cell_type": "markdown",
   "metadata": {},
   "source": [
    "<a id='4'></a>\n",
    "# 5. Evaluate Algorithms and Models"
   ]
  },
  {
   "cell_type": "markdown",
   "metadata": {},
   "source": [
    "<a id='4.1'></a>\n",
    "## 5.1. Train Test Split"
   ]
  },
  {
   "cell_type": "markdown",
   "metadata": {},
   "source": [
    "The portfolio is divided into train and test split to perform the analysis regarding the best porfolio and backtesting shown later. "
   ]
  },
  {
   "cell_type": "code",
   "execution_count": 6,
   "metadata": {},
   "outputs": [],
   "source": [
    "# Dividing the dataset into training and testing sets\n"
   ]
  },
  {
   "cell_type": "markdown",
   "metadata": {},
   "source": [
    "<a id='4.2'></a>\n",
    "## 5.2. Model Evaluation- Applying Principle Component Analysis"
   ]
  },
  {
   "cell_type": "markdown",
   "metadata": {},
   "source": [
    "As this step, we create a function to compute principle component analysis from sklearn. This function computes an inversed elbow chart that shows the amount of principle components and how many of them explain the variance treshold."
   ]
  },
  {
   "cell_type": "code",
   "execution_count": 432,
   "metadata": {},
   "outputs": [],
   "source": [
    "# Train a PCA model\n"
   ]
  },
  {
   "cell_type": "code",
   "execution_count": 7,
   "metadata": {},
   "outputs": [],
   "source": [
    "# First Principal Component /Eigenvector\n"
   ]
  },
  {
   "cell_type": "markdown",
   "metadata": {},
   "source": [
    "<a id='4.2.1'></a>\n",
    "## 5.2.1.Explained Variance using PCA"
   ]
  },
  {
   "cell_type": "code",
   "execution_count": 8,
   "metadata": {},
   "outputs": [],
   "source": [
    "# plot explained variance\n"
   ]
  },
  {
   "cell_type": "markdown",
   "metadata": {},
   "source": [
    "We find that the most important factor explains around 40% of the daily return variation. The dominant factor is usually interpreted as ‘the market’, depending on the results of closer inspection.\n",
    "\n",
    "The plot on the right shows the cumulative explained variance and indicates that around 10 factors explain 73% of the returns of this large cross-section of stocks.  "
   ]
  },
  {
   "cell_type": "markdown",
   "metadata": {},
   "source": [
    "<a id='4.2.2'></a>\n",
    "## 5.2.2.Looking at Portfolio weights"
   ]
  },
  {
   "cell_type": "markdown",
   "metadata": {},
   "source": [
    "We compute several functions to determine the weights of each principle component. We then visualize a scatterplot that visualizes an organized descending plot with the respective weight of every company at the current chosen principle component."
   ]
  },
  {
   "cell_type": "code",
   "execution_count": 450,
   "metadata": {},
   "outputs": [],
   "source": [
    "def PCWeights():\n",
    "    '''\n",
    "    Principal Components (PC) weights for each 28 PCs\n",
    "    '''\n",
    "    weights = pd.DataFrame()\n",
    "\n",
    "    for i in range(len(pca.components_)):\n",
    "        weights[\"weights_{}\".format(i)] = pca.components_[i] / sum(pca.components_[i])\n",
    "\n",
    "    weights = weights.values.T\n",
    "    return weights\n",
    "\n",
    "weights=PCWeights()"
   ]
  },
  {
   "cell_type": "code",
   "execution_count": 9,
   "metadata": {
    "scrolled": true
   },
   "outputs": [],
   "source": [
    "# plot first five eigen portfolio"
   ]
  },
  {
   "cell_type": "markdown",
   "metadata": {},
   "source": [
    "<a id='4.2.3'></a>\n",
    "## 5.2.3. Finding the Best Eigen Portfolio"
   ]
  },
  {
   "cell_type": "markdown",
   "metadata": {},
   "source": [
    "In order to find the best eigen portfolios and perform backtesting in the next step, we use the sharpe ratio, which is a performance\n",
    "metric that explains the annualized returns against the annualized volatility of each company in a portfolio. A high sharpe ratio explains higher returns and/or lower volatility for the specified portfolio. The annualized sharpe ratio is computed by dividing\n",
    "the annualized returns against the annualized volatility. For annualized return we\n",
    "apply the geometric average of all the returns in respect to the periods per year (days\n",
    "of operations in the exchange in a year). Annualized volatility is computed by taking the standard deviation of the returns and multiplying it by the square root of the peri‐\n",
    "ods per year."
   ]
  },
  {
   "cell_type": "code",
   "execution_count": 456,
   "metadata": {},
   "outputs": [],
   "source": [
    "# Calculate sharpe Ratio\n"
   ]
  },
  {
   "cell_type": "markdown",
   "metadata": {},
   "source": [
    "We construct a loop to compute the principle component’s weights for each eigen\n",
    "portfolio, which then uses the sharpe ratio function to look for the portfolio with the\n",
    "highest sharpe ratio. Once we know which portfolio has the highest sharpe ratio, we\n",
    "can visualize its performance against the DJIA Index for comparison."
   ]
  },
  {
   "cell_type": "code",
   "execution_count": null,
   "metadata": {},
   "outputs": [],
   "source": [
    "def optimizedPortfolio():\n",
    "    n_portfolios = len(pca.components_)\n",
    "    annualized_ret = np.array([0.] * n_portfolios)\n",
    "    sharpe_metric = np.array([0.] * n_portfolios)\n",
    "    annualized_vol = np.array([0.] * n_portfolios)\n",
    "    highest_sharpe = 0 \n",
    "    stock_tickers = rescaledDataset.columns.values\n",
    "    n_tickers = len(stock_tickers)\n",
    "    pcs = pca.components_\n",
    "    \n",
    "    for i in range(n_portfolios):\n",
    "        \n",
    "        pc_w = pcs[i] / sum(pcs[i])\n",
    "        eigen_prtfi = pd.DataFrame(data ={'weights': pc_w.squeeze()*100}, index = stock_tickers)\n",
    "        eigen_prtfi.sort_values(by=['weights'], ascending=False, inplace=True)\n",
    "        eigen_prti_returns = np.dot(X_train_raw.loc[:, eigen_prtfi.index], pc_w)\n",
    "        eigen_prti_returns = pd.Series(eigen_prti_returns.squeeze(), index=X_train_raw.index)\n",
    "        er, vol, sharpe = sharpe_ratio(eigen_prti_returns)\n",
    "        annualized_ret[i] = er\n",
    "        annualized_vol[i] = vol\n",
    "        sharpe_metric[i] = sharpe\n",
    "        \n",
    "        sharpe_metric= np.nan_to_num(sharpe_metric)\n",
    "        \n",
    "    # find portfolio with the highest Sharpe ratio\n",
    "    highest_sharpe = np.argmax(sharpe_metric)\n",
    "\n",
    "    print('Eigen portfolio #%d with the highest Sharpe. Return %.2f%%, vol = %.2f%%, Sharpe = %.2f' % \n",
    "          (highest_sharpe,\n",
    "           annualized_ret[highest_sharpe]*100, \n",
    "           annualized_vol[highest_sharpe]*100, \n",
    "           sharpe_metric[highest_sharpe]))\n",
    "\n",
    "\n",
    "    fig, ax = plt.subplots()\n",
    "    fig.set_size_inches(12, 4)\n",
    "    ax.plot(sharpe_metric, linewidth=3)\n",
    "    ax.set_title('Sharpe ratio of eigen-portfolios')\n",
    "    ax.set_ylabel('Sharpe ratio')\n",
    "    ax.set_xlabel('Portfolios')\n",
    "\n",
    "    results = pd.DataFrame(data={'Return': annualized_ret, 'Vol': annualized_vol, 'Sharpe': sharpe_metric})\n",
    "    results.dropna(inplace=True)\n",
    "    results.sort_values(by=['Sharpe'], ascending=False, inplace=True)\n",
    "    print(results.head(20))\n",
    "\n",
    "    plt.show()\n",
    "\n",
    "optimizedPortfolio()"
   ]
  },
  {
   "cell_type": "code",
   "execution_count": null,
   "metadata": {},
   "outputs": [],
   "source": [
    "weights = PCWeights()\n",
    "portfolio = portfolio = pd.DataFrame()\n",
    "\n",
    "def plotEigen(weights, plot=False, portfolio=portfolio):\n",
    "    portfolio = pd.DataFrame(data ={'weights': weights.squeeze()*100}, index = stock_tickers) \n",
    "    portfolio.sort_values(by=['weights'], ascending=False, inplace=True)\n",
    "    if plot:\n",
    "        print('Sum of weights of current eigen-portfolio: %.2f' % np.sum(portfolio))\n",
    "        portfolio.plot(title='Current Eigen-Portfolio Weights', \n",
    "            figsize=(12,6), \n",
    "            xticks=range(0, len(stock_tickers),1), \n",
    "            rot=45, \n",
    "            linewidth=3\n",
    "            )\n",
    "        plt.show()\n",
    "\n",
    "\n",
    "    return portfolio\n",
    "\n",
    "# Weights are stored in arrays, where 0 is the first PC's weights.\n",
    "plotEigen(weights=weights[0], plot=True)"
   ]
  },
  {
   "cell_type": "markdown",
   "metadata": {},
   "source": [
    "The chart shows the allocation of the best portfolio. The weights in the chart are in\n",
    "percentages. "
   ]
  },
  {
   "cell_type": "markdown",
   "metadata": {},
   "source": [
    "<a id='4.2.4'></a>\n",
    "## 5.2.4. Backtesting Eigenportfolio"
   ]
  },
  {
   "cell_type": "markdown",
   "metadata": {},
   "source": [
    "We will now try to backtest this algorithm on the test set, by looking at few top and bottom portfolios."
   ]
  },
  {
   "cell_type": "code",
   "execution_count": null,
   "metadata": {},
   "outputs": [],
   "source": [
    "def Backtest(eigen):\n",
    "\n",
    "    '''\n",
    "\n",
    "    Plots Principle components returns against real returns.\n",
    "    \n",
    "    '''\n",
    "   \n",
    "    eigen_prtfi = pd.DataFrame(data ={'weights': eigen.squeeze()}, index = stock_tickers)\n",
    "    eigen_prtfi.sort_values(by=['weights'], ascending=False, inplace=True)    \n",
    "\n",
    "    eigen_prti_returns = np.dot(X_test_raw.loc[:, eigen_prtfi.index], eigen)\n",
    "    eigen_portfolio_returns = pd.Series(eigen_prti_returns.squeeze(), index=X_test_raw.index)\n",
    "    returns, vol, sharpe = sharpe_ratio(eigen_portfolio_returns)  \n",
    "    print('Current Eigen-Portfolio:\\nReturn = %.2f%%\\nVolatility = %.2f%%\\nSharpe = %.2f' % (returns*100, vol*100, sharpe))\n",
    "    equal_weight_return=(X_test_raw * (1/len(pca.components_))).sum(axis=1)    \n",
    "    df_plot = pd.DataFrame({'EigenPorfolio Return': eigen_portfolio_returns, 'Equal Weight Index': equal_weight_return}, index=X_test.index)\n",
    "    np.cumprod(df_plot + 1).plot(title='Returns of the equal weighted index vs. eigen-portfolio' , \n",
    "                          figsize=(12,6), linewidth=3)\n",
    "    plt.show()\n",
    "    \n",
    "Backtest(eigen=weights[7])\n",
    "Backtest(eigen=weights[1])\n",
    "Backtest(eigen=weights[14])"
   ]
  },
  {
   "cell_type": "markdown",
   "metadata": {},
   "source": [
    "As shown in charts above the eigen portfolio return of the top portfolios outperform\n",
    "the equally weighted portfolio and the eigen portfolio ranked 19 underperformed the\n",
    "market significantly in the test set. "
   ]
  },
  {
   "cell_type": "markdown",
   "metadata": {},
   "source": [
    "__Conclusion__\n",
    "\n",
    "In terms of the intuition behind the eigen portfolios, we demonstrated that the first\n",
    "eigen portfolio represents a systematic risk factor and other eigen portfolio may represent sector or industry factor. We discuss diversification benefits offered by the eigen\n",
    "portfolios as they are derived using PCA and are independent.\n",
    "\n",
    "\n",
    "Looking at the backtesting result, the portfolio with the best result in the training set\n",
    "leads to the best result in the test set. By using PCA, we get independent eigen portfo‐\n",
    "lios with higher return and sharp ratio as compared to market.\n"
   ]
  },
  {
   "cell_type": "code",
   "execution_count": null,
   "metadata": {},
   "outputs": [],
   "source": []
  }
 ],
 "metadata": {
  "_change_revision": 206,
  "_is_fork": false,
  "kernelspec": {
   "display_name": "Python 3 (ipykernel)",
   "language": "python",
   "name": "python3"
  },
  "language_info": {
   "codemirror_mode": {
    "name": "ipython",
    "version": 3
   },
   "file_extension": ".py",
   "mimetype": "text/x-python",
   "name": "python",
   "nbconvert_exporter": "python",
   "pygments_lexer": "ipython3",
   "version": "3.8.2"
  }
 },
 "nbformat": 4,
 "nbformat_minor": 1
}
