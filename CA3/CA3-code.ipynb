{
 "cells": [
  {
   "cell_type": "markdown",
   "metadata": {},
   "source": [
    "# Code file for CA3"
   ]
  },
  {
   "cell_type": "markdown",
   "metadata": {},
   "source": [
    "### Question 1) Plot predicted and true stock price on a test set"
   ]
  },
  {
   "cell_type": "markdown",
   "metadata": {},
   "source": [
    "### Step 1: Import modules and load dataset"
   ]
  },
  {
   "cell_type": "code",
   "execution_count": 43,
   "metadata": {
    "colab": {},
    "colab_type": "code",
    "id": "biQmKhWqPyMW"
   },
   "outputs": [],
   "source": [
    "import numpy as np\n",
    "import pandas as pd\n",
    "import matplotlib.pyplot as plt\n",
    "import seaborn as sns\n",
    "from sklearn.metrics import mean_squared_error\n",
    "from statsmodels.tsa.stattools import adfuller\n",
    "from statsmodels.graphics.tsaplots import plot_acf,plot_pacf\n",
    "pd.options.mode.chained_assignment = None  # default='warn'"
   ]
  },
  {
   "cell_type": "code",
   "execution_count": 44,
   "metadata": {
    "colab": {},
    "colab_type": "code",
    "id": "Ifs_2NXSPz3p"
   },
   "outputs": [
    {
     "data": {
      "text/html": [
       "<div>\n",
       "<style scoped>\n",
       "    .dataframe tbody tr th:only-of-type {\n",
       "        vertical-align: middle;\n",
       "    }\n",
       "\n",
       "    .dataframe tbody tr th {\n",
       "        vertical-align: top;\n",
       "    }\n",
       "\n",
       "    .dataframe thead th {\n",
       "        text-align: right;\n",
       "    }\n",
       "</style>\n",
       "<table border=\"1\" class=\"dataframe\">\n",
       "  <thead>\n",
       "    <tr style=\"text-align: right;\">\n",
       "      <th></th>\n",
       "      <th>Actual</th>\n",
       "    </tr>\n",
       "    <tr>\n",
       "      <th>Date</th>\n",
       "      <th></th>\n",
       "    </tr>\n",
       "  </thead>\n",
       "  <tbody>\n",
       "    <tr>\n",
       "      <th>2021-01-04</th>\n",
       "      <td>3186.629883</td>\n",
       "    </tr>\n",
       "    <tr>\n",
       "      <th>2021-01-05</th>\n",
       "      <td>3218.510010</td>\n",
       "    </tr>\n",
       "    <tr>\n",
       "      <th>2021-01-06</th>\n",
       "      <td>3138.379883</td>\n",
       "    </tr>\n",
       "    <tr>\n",
       "      <th>2021-01-07</th>\n",
       "      <td>3162.159912</td>\n",
       "    </tr>\n",
       "    <tr>\n",
       "      <th>2021-01-08</th>\n",
       "      <td>3182.699951</td>\n",
       "    </tr>\n",
       "    <tr>\n",
       "      <th>...</th>\n",
       "      <td>...</td>\n",
       "    </tr>\n",
       "    <tr>\n",
       "      <th>2021-12-23</th>\n",
       "      <td>3421.370117</td>\n",
       "    </tr>\n",
       "    <tr>\n",
       "      <th>2021-12-27</th>\n",
       "      <td>3393.389893</td>\n",
       "    </tr>\n",
       "    <tr>\n",
       "      <th>2021-12-28</th>\n",
       "      <td>3413.219971</td>\n",
       "    </tr>\n",
       "    <tr>\n",
       "      <th>2021-12-29</th>\n",
       "      <td>3384.020020</td>\n",
       "    </tr>\n",
       "    <tr>\n",
       "      <th>2021-12-30</th>\n",
       "      <td>3372.889893</td>\n",
       "    </tr>\n",
       "  </tbody>\n",
       "</table>\n",
       "<p>251 rows × 1 columns</p>\n",
       "</div>"
      ],
      "text/plain": [
       "                 Actual\n",
       "Date                   \n",
       "2021-01-04  3186.629883\n",
       "2021-01-05  3218.510010\n",
       "2021-01-06  3138.379883\n",
       "2021-01-07  3162.159912\n",
       "2021-01-08  3182.699951\n",
       "...                 ...\n",
       "2021-12-23  3421.370117\n",
       "2021-12-27  3393.389893\n",
       "2021-12-28  3413.219971\n",
       "2021-12-29  3384.020020\n",
       "2021-12-30  3372.889893\n",
       "\n",
       "[251 rows x 1 columns]"
      ]
     },
     "execution_count": 44,
     "metadata": {},
     "output_type": "execute_result"
    }
   ],
   "source": [
    "df=pd.read_csv('AMZN.csv', parse_dates=['Date'], index_col=['Date'], dayfirst=True)\n",
    "df.columns=['Actual']\n",
    "df"
   ]
  },
  {
   "cell_type": "code",
   "execution_count": 45,
   "metadata": {},
   "outputs": [
    {
     "data": {
      "text/plain": [
       "Actual    0\n",
       "dtype: int64"
      ]
     },
     "execution_count": 45,
     "metadata": {},
     "output_type": "execute_result"
    }
   ],
   "source": [
    "df.isnull().sum()"
   ]
  },
  {
   "cell_type": "code",
   "execution_count": 46,
   "metadata": {},
   "outputs": [],
   "source": [
    "def AR(p,df):\n",
    "  df_temp = df\n",
    "\n",
    "  #Generating the lagged p terms\n",
    "  for i in range(1,p+1):\n",
    "    df_temp['Shifted_values_%d' % i ] = df_temp['Actual'].shift(i)\n",
    "\n",
    "  train_size = (int)(0.8 * df_temp.shape[0])\n",
    "\n",
    "  #Breaking data set into test and training\n",
    "  df_train = pd.DataFrame(df_temp[0:train_size])\n",
    "  df_test = pd.DataFrame(df_temp[train_size:df.shape[0]])\n",
    "\n",
    "  df_train_2 = df_train.dropna()\n",
    "  #X contains the lagged values ,hence we skip the first column\n",
    "  X_train = df_train_2.iloc[:,1:].values.reshape(-1,p)\n",
    "  #Y contains the value,it is the first column\n",
    "  y_train = df_train_2.iloc[:,0].values.reshape(-1,1)\n",
    "\n",
    "  #Running linear regression to generate the coefficents of lagged terms\n",
    "  from sklearn.linear_model import LinearRegression\n",
    "  lr = LinearRegression()\n",
    "  lr.fit(X_train,y_train)\n",
    "\n",
    "  theta  = lr.coef_.T\n",
    "  intercept = lr.intercept_\n",
    "  df_train_2['Predicted_Values'] = X_train.dot(lr.coef_.T) + lr.intercept_\n",
    "  # df_train_2[['Value','Predicted_Values']].plot()\n",
    "\n",
    "  X_test = df_test.iloc[:,1:].values.reshape(-1,p)\n",
    "  df_test['Predicted_Values'] = X_test.dot(lr.coef_.T) + lr.intercept_\n",
    "  # df_test[['Value','Predicted_Values']].plot()\n",
    "\n",
    "  RMSE = np.sqrt(mean_squared_error(df_test['Actual'], df_test['Predicted_Values']))\n",
    "\n",
    "  print(\"The RMSE is :\", RMSE,\", Value of p : \",p)\n",
    "  return [df_train_2,df_test,theta,intercept,RMSE]"
   ]
  },
  {
   "cell_type": "code",
   "execution_count": 47,
   "metadata": {},
   "outputs": [
    {
     "name": "stdout",
     "output_type": "stream",
     "text": [
      "The RMSE is : 54.32238567197167 , Value of p :  1\n",
      "The RMSE is : 55.20456800860882 , Value of p :  2\n",
      "The RMSE is : 55.05236974646739 , Value of p :  3\n",
      "The RMSE is : 55.265386720693094 , Value of p :  4\n",
      "The RMSE is : 56.07829731933757 , Value of p :  5\n",
      "The RMSE is : 56.1129376493057 , Value of p :  6\n",
      "The RMSE is : 55.97334286312884 , Value of p :  7\n"
     ]
    }
   ],
   "source": [
    "[df_train,df_test,theta,intercept,RMSE] = AR(1,pd.DataFrame(df.Actual))\n",
    "[df_train,df_test,theta,intercept,RMSE] = AR(2,pd.DataFrame(df.Actual))\n",
    "[df_train,df_test,theta,intercept,RMSE] = AR(3,pd.DataFrame(df.Actual))\n",
    "[df_train,df_test,theta,intercept,RMSE] = AR(4,pd.DataFrame(df.Actual))\n",
    "[df_train,df_test,theta,intercept,RMSE] = AR(5,pd.DataFrame(df.Actual))\n",
    "[df_train,df_test,theta,intercept,RMSE] = AR(6,pd.DataFrame(df.Actual))\n",
    "[df_train,df_test,theta,intercept,RMSE] = AR(7,pd.DataFrame(df.Actual))"
   ]
  },
  {
   "cell_type": "code",
   "execution_count": 48,
   "metadata": {},
   "outputs": [
    {
     "name": "stdout",
     "output_type": "stream",
     "text": [
      "The RMSE is : 54.32238567197167 , Value of p :  1\n"
     ]
    }
   ],
   "source": [
    "[df_train,df_test,theta,intercept,RMSE] = AR(1,pd.DataFrame(df.Actual))\n",
    "df_c = pd.concat([df_train,df_test])\n",
    "res = pd.DataFrame()\n",
    "res['Residuals'] = df_c.Actual - df_c.Predicted_Values"
   ]
  },
  {
   "cell_type": "code",
   "execution_count": 49,
   "metadata": {},
   "outputs": [
    {
     "data": {
      "image/png": "[encoded data removed]",
      "text/plain": [
       "<Figure size 432x288 with 1 Axes>"
      ]
     },
     "metadata": {
      "needs_background": "light"
     },
     "output_type": "display_data"
    }
   ],
   "source": [
    "# Calculate the ACF (via statsmodel)\n",
    "plot_acf(res)\n",
    "# Show the data as a plot (via matplotlib)\n",
    "plt.show()"
   ]
  },
  {
   "cell_type": "markdown",
   "metadata": {},
   "source": [
    "## Function to carry out Moving Average process"
   ]
  },
  {
   "cell_type": "code",
   "execution_count": 50,
   "metadata": {},
   "outputs": [],
   "source": [
    "def MA(q,res):\n",
    "\n",
    "  for i in range(1,q+1):\n",
    "    res['Shifted_values_%d' % i ] = res['Residuals'].shift(i)\n",
    "\n",
    "  train_size = (int)(0.7 * res.shape[0])\n",
    "\n",
    "  res_train = pd.DataFrame(res[0:train_size])\n",
    "  res_test = pd.DataFrame(res[train_size:res.shape[0]])\n",
    "\n",
    "  res_train_2 = res_train.dropna()\n",
    "  #X contains the lagged values ,hence we skip the first column\n",
    "  X_train = res_train_2.iloc[:,1:].values.reshape(-1,q)\n",
    "  #Y contains the value,it is the first column\n",
    "  y_train = res_train_2.iloc[:,0].values.reshape(-1,1)\n",
    "\n",
    "  #Running linear regression to generate the coefficents of lagged terms\n",
    "  from sklearn.linear_model import LinearRegression\n",
    "  lr = LinearRegression()\n",
    "  lr.fit(X_train,y_train)\n",
    "\n",
    "  theta  = lr.coef_.T\n",
    "  intercept = lr.intercept_\n",
    "  res_train_2['Predicted_Values'] = X_train.dot(lr.coef_.T) + lr.intercept_\n",
    "  # res_train_2[['Residuals','Predicted_Values']].plot()\n",
    "\n",
    "  X_test = res_test.iloc[:,1:].values.reshape(-1,q)\n",
    "  res_test['Predicted_Values'] = X_test.dot(lr.coef_.T) + lr.intercept_\n",
    "  # res_test[['Residuals','Predicted_Values']].plot()\n",
    "\n",
    "  from sklearn.metrics import mean_squared_error\n",
    "  RMSE = np.sqrt(mean_squared_error(res_test['Residuals'], res_test['Predicted_Values']))\n",
    "\n",
    "  print(\"The RMSE is :\", RMSE,\", Value of q : \",q)\n",
    "  return [res_train_2,res_test,theta,intercept,RMSE]"
   ]
  },
  {
   "cell_type": "markdown",
   "metadata": {},
   "source": [
    "## Choosing best order (q value) for Moving Average process"
   ]
  },
  {
   "cell_type": "code",
   "execution_count": 51,
   "metadata": {},
   "outputs": [
    {
     "name": "stdout",
     "output_type": "stream",
     "text": [
      "The RMSE is : 52.22114017690308 , Value of q :  1\n",
      "The RMSE is : 52.02442202140271 , Value of q :  2\n",
      "The RMSE is : 52.518459633975304 , Value of q :  3\n",
      "The RMSE is : 53.016613489901125 , Value of q :  4\n",
      "The RMSE is : 53.23624085076575 , Value of q :  5\n",
      "The RMSE is : 53.55958984954844 , Value of q :  6\n",
      "The RMSE is : 53.673387361223476 , Value of q :  7\n",
      "The RMSE is : 53.86351835079078 , Value of q :  8\n",
      "The RMSE is : 53.29160715496104 , Value of q :  9\n",
      "The RMSE is : 53.30173451472269 , Value of q :  10\n",
      "The RMSE is : 53.14328472560943 , Value of q :  11\n",
      "The RMSE is : 53.6000499444399 , Value of q :  12\n",
      "The best q value is:  2  which gives a RMSE =  52.02442202140271\n"
     ]
    }
   ],
   "source": [
    "best_RMSE=100000000000\n",
    "best_q = -1\n",
    "\n",
    "for i in range(1,13):\n",
    "  [res_train,res_test,theta,intercept,RMSE] = MA(i,pd.DataFrame(res.Residuals))\n",
    "  if(RMSE<best_RMSE):\n",
    "    best_RMSE = RMSE\n",
    "    best_q = i\n",
    "  \n",
    "print(\"The best q value is: \", best_q, \" which gives a RMSE = \", best_RMSE)"
   ]
  },
  {
   "cell_type": "code",
   "execution_count": 52,
   "metadata": {},
   "outputs": [
    {
     "name": "stdout",
     "output_type": "stream",
     "text": [
      "The RMSE is : 52.02442202140271 , Value of q :  2\n",
      "[[ 0.11254746]\n",
      " [-0.03647128]]\n",
      "[0.40948555]\n"
     ]
    }
   ],
   "source": [
    "[res_train,res_test,theta,intercept,RMSE] = MA(best_q,pd.DataFrame(res.Residuals))\n",
    "print(theta)\n",
    "print(intercept)"
   ]
  },
  {
   "cell_type": "code",
   "execution_count": 54,
   "metadata": {},
   "outputs": [],
   "source": [
    "res_c = pd.concat([res_train,res_test])\n",
    "res = pd.DataFrame()\n",
    "res['Residuals'] = res_c.Residuals - res_c.Predicted_Values"
   ]
  },
  {
   "cell_type": "code",
   "execution_count": 55,
   "metadata": {},
   "outputs": [
    {
     "data": {
      "image/png": "[encoded data removed]",
      "text/plain": [
       "<Figure size 432x216 with 1 Axes>"
      ]
     },
     "metadata": {
      "needs_background": "light"
     },
     "output_type": "display_data"
    }
   ],
   "source": [
    "fig, ax = plt.subplots(figsize=(6, 3))\n",
    "plt.xlabel('Number of lags')\n",
    "plt.ylabel('Correlation')\n",
    "ACF = plot_acf(res['Residuals'],lags=25, ax=ax)"
   ]
  },
  {
   "cell_type": "code",
   "execution_count": 56,
   "metadata": {},
   "outputs": [
    {
     "ename": "AttributeError",
     "evalue": "'DataFrame' object has no attribute 'Predicted'",
     "output_type": "error",
     "traceback": [
      "\u001b[0;31m---------------------------------------------------------------------------\u001b[0m",
      "\u001b[0;31mAttributeError\u001b[0m                            Traceback (most recent call last)",
      "\u001b[0;32m/var/folders/px/9knmf6z10c9gydqwyj0nmptc0000gn/T/ipykernel_70241/690990142.py\u001b[0m in \u001b[0;36m<module>\u001b[0;34m\u001b[0m\n\u001b[1;32m      1\u001b[0m \u001b[0mdf_test\u001b[0m \u001b[0;34m=\u001b[0m \u001b[0mdf_test\u001b[0m\u001b[0;34m.\u001b[0m\u001b[0miloc\u001b[0m\u001b[0;34m[\u001b[0m\u001b[0;36m1\u001b[0m\u001b[0;34m:\u001b[0m\u001b[0;34m]\u001b[0m\u001b[0;34m\u001b[0m\u001b[0;34m\u001b[0m\u001b[0m\n\u001b[0;32m----> 2\u001b[0;31m \u001b[0mdf_test\u001b[0m\u001b[0;34m.\u001b[0m\u001b[0mPredicted\u001b[0m \u001b[0;34m=\u001b[0m \u001b[0mdf_test\u001b[0m\u001b[0;34m.\u001b[0m\u001b[0mPredicted\u001b[0m \u001b[0;34m+\u001b[0m \u001b[0mres_test\u001b[0m\u001b[0;34m.\u001b[0m\u001b[0mPredicted\u001b[0m\u001b[0;34m\u001b[0m\u001b[0;34m\u001b[0m\u001b[0m\n\u001b[0m\u001b[1;32m      3\u001b[0m \u001b[0mdf_test\u001b[0m\u001b[0;34m.\u001b[0m\u001b[0mhead\u001b[0m\u001b[0;34m(\u001b[0m\u001b[0;34m)\u001b[0m\u001b[0;34m\u001b[0m\u001b[0;34m\u001b[0m\u001b[0m\n",
      "\u001b[0;32m~/opt/anaconda3/lib/python3.8/site-packages/pandas/core/generic.py\u001b[0m in \u001b[0;36m__getattr__\u001b[0;34m(self, name)\u001b[0m\n\u001b[1;32m   5581\u001b[0m         ):\n\u001b[1;32m   5582\u001b[0m             \u001b[0;32mreturn\u001b[0m \u001b[0mself\u001b[0m\u001b[0;34m[\u001b[0m\u001b[0mname\u001b[0m\u001b[0;34m]\u001b[0m\u001b[0;34m\u001b[0m\u001b[0;34m\u001b[0m\u001b[0m\n\u001b[0;32m-> 5583\u001b[0;31m         \u001b[0;32mreturn\u001b[0m \u001b[0mobject\u001b[0m\u001b[0;34m.\u001b[0m\u001b[0m__getattribute__\u001b[0m\u001b[0;34m(\u001b[0m\u001b[0mself\u001b[0m\u001b[0;34m,\u001b[0m \u001b[0mname\u001b[0m\u001b[0;34m)\u001b[0m\u001b[0;34m\u001b[0m\u001b[0;34m\u001b[0m\u001b[0m\n\u001b[0m\u001b[1;32m   5584\u001b[0m \u001b[0;34m\u001b[0m\u001b[0m\n\u001b[1;32m   5585\u001b[0m     \u001b[0;32mdef\u001b[0m \u001b[0m__setattr__\u001b[0m\u001b[0;34m(\u001b[0m\u001b[0mself\u001b[0m\u001b[0;34m,\u001b[0m \u001b[0mname\u001b[0m\u001b[0;34m:\u001b[0m \u001b[0mstr\u001b[0m\u001b[0;34m,\u001b[0m \u001b[0mvalue\u001b[0m\u001b[0;34m)\u001b[0m \u001b[0;34m->\u001b[0m \u001b[0;32mNone\u001b[0m\u001b[0;34m:\u001b[0m\u001b[0;34m\u001b[0m\u001b[0;34m\u001b[0m\u001b[0m\n",
      "\u001b[0;31mAttributeError\u001b[0m: 'DataFrame' object has no attribute 'Predicted'"
     ]
    }
   ],
   "source": [
    "df_test = df_test.iloc[1:]\n",
    "df_test.Predicted = df_test.Predicted + res_test.Predicted\n",
    "df_test.head()"
   ]
  },
  {
   "cell_type": "code",
   "execution_count": null,
   "metadata": {},
   "outputs": [
    {
     "data": {
      "image/png": "[encoded data removed]",
      "text/plain": [
       "<Figure size 1152x216 with 1 Axes>"
      ]
     },
     "metadata": {
      "needs_background": "light"
     },
     "output_type": "display_data"
    }
   ],
   "source": [
    "train_plot = plt.figure(figsize=(16, 3))\n",
    "plt.plot(res_train[['Residuals','Predicted']])\n",
    "plt.show()"
   ]
  },
  {
   "cell_type": "code",
   "execution_count": null,
   "metadata": {},
   "outputs": [
    {
     "data": {
      "image/png": "[encoded data removed]",
      "text/plain": [
       "<Figure size 432x216 with 1 Axes>"
      ]
     },
     "metadata": {
      "needs_background": "light"
     },
     "output_type": "display_data"
    }
   ],
   "source": [
    "train_plot = plt.figure(figsize=(6, 3))\n",
    "plt.plot(res_test[['Residuals','Predicted']])\n",
    "plt.show()"
   ]
  },
  {
   "cell_type": "code",
   "execution_count": null,
   "metadata": {},
   "outputs": [
    {
     "name": "stdout",
     "output_type": "stream",
     "text": [
      "52.01224935602279\n"
     ]
    },
    {
     "data": {
      "image/png": "[encoded data removed]",
      "text/plain": [
       "<Figure size 432x288 with 1 Axes>"
      ]
     },
     "metadata": {
      "needs_background": "light"
     },
     "output_type": "display_data"
    }
   ],
   "source": [
    "df_test[['Actual','Predicted']].plot()\n",
    "# df_test[['Actual','Predicted']].set_ylabel('s1 and s2')\n",
    "\n",
    "RMSE = np.sqrt(mean_squared_error(df_test['Actual'], df_test['Predicted']))\n",
    "print(RMSE)"
   ]
  },
  {
   "cell_type": "markdown",
   "metadata": {},
   "source": [
    "## Augmented Dickey–Fuller test "
   ]
  },
  {
   "cell_type": "code",
   "execution_count": null,
   "metadata": {},
   "outputs": [],
   "source": [
    "def adf_check(time_series):\n",
    "    \"\"\"\n",
    "    Pass in a time series, returns ADF report\n",
    "    \"\"\"\n",
    "    result = adfuller(time_series)\n",
    "    print('Augmented Dickey-Fuller Test:')\n",
    "    labels = ['ADF Test Statistic','p-value','Number of Lags Used','Number of Observations Used']\n",
    "\n",
    "    for value,label in zip(result,labels):\n",
    "        print(label+' : '+str(value) )\n",
    "    \n",
    "    if result[1] <= 0.05:\n",
    "        print(\"strong evidence against the null hypothesis, reject the null hypothesis. Data has no unit root and is stationary\")\n",
    "    else:\n",
    "        print(\"weak evidence against null hypothesis, time series has a unit root, indicating it is non-stationary \\n\")"
   ]
  },
  {
   "cell_type": "code",
   "execution_count": null,
   "metadata": {},
   "outputs": [
    {
     "name": "stdout",
     "output_type": "stream",
     "text": [
      "Augmented Dickey-Fuller Test:\n",
      "ADF Test Statistic : -2.6228559132272875\n",
      "p-value : 0.08836482157882364\n",
      "Number of Lags Used : 0\n",
      "Number of Observations Used : 250\n",
      "weak evidence against null hypothesis, time series has a unit root, indicating it is non-stationary \n",
      "\n"
     ]
    },
    {
     "name": "stderr",
     "output_type": "stream",
     "text": [
      "/Users/Cam/opt/anaconda3/lib/python3.8/site-packages/pandas/io/parsers/base_parser.py:1070: UserWarning: Parsing '13/01/2021' in DD/MM/YYYY format. Provide format or specify infer_datetime_format=True for consistent parsing.\n",
      "  return tools.to_datetime(\n",
      "/Users/Cam/opt/anaconda3/lib/python3.8/site-packages/pandas/io/parsers/base_parser.py:1070: UserWarning: Parsing '14/01/2021' in DD/MM/YYYY format. Provide format or specify infer_datetime_format=True for consistent parsing.\n",
      "  return tools.to_datetime(\n",
      "/Users/Cam/opt/anaconda3/lib/python3.8/site-packages/pandas/io/parsers/base_parser.py:1070: UserWarning: Parsing '15/01/2021' in DD/MM/YYYY format. Provide format or specify infer_datetime_format=True for consistent parsing.\n",
      "  return tools.to_datetime(\n",
      "/Users/Cam/opt/anaconda3/lib/python3.8/site-packages/pandas/io/parsers/base_parser.py:1070: UserWarning: Parsing '19/01/2021' in DD/MM/YYYY format. Provide format or specify infer_datetime_format=True for consistent parsing.\n",
      "  return tools.to_datetime(\n",
      "/Users/Cam/opt/anaconda3/lib/python3.8/site-packages/pandas/io/parsers/base_parser.py:1070: UserWarning: Parsing '20/01/2021' in DD/MM/YYYY format. Provide format or specify infer_datetime_format=True for consistent parsing.\n",
      "  return tools.to_datetime(\n",
      "/Users/Cam/opt/anaconda3/lib/python3.8/site-packages/pandas/io/parsers/base_parser.py:1070: UserWarning: Parsing '21/01/2021' in DD/MM/YYYY format. Provide format or specify infer_datetime_format=True for consistent parsing.\n",
      "  return tools.to_datetime(\n",
      "/Users/Cam/opt/anaconda3/lib/python3.8/site-packages/pandas/io/parsers/base_parser.py:1070: UserWarning: Parsing '22/01/2021' in DD/MM/YYYY format. Provide format or specify infer_datetime_format=True for consistent parsing.\n",
      "  return tools.to_datetime(\n",
      "/Users/Cam/opt/anaconda3/lib/python3.8/site-packages/pandas/io/parsers/base_parser.py:1070: UserWarning: Parsing '25/01/2021' in DD/MM/YYYY format. Provide format or specify infer_datetime_format=True for consistent parsing.\n",
      "  return tools.to_datetime(\n",
      "/Users/Cam/opt/anaconda3/lib/python3.8/site-packages/pandas/io/parsers/base_parser.py:1070: UserWarning: Parsing '26/01/2021' in DD/MM/YYYY format. Provide format or specify infer_datetime_format=True for consistent parsing.\n",
      "  return tools.to_datetime(\n",
      "/Users/Cam/opt/anaconda3/lib/python3.8/site-packages/pandas/io/parsers/base_parser.py:1070: UserWarning: Parsing '27/01/2021' in DD/MM/YYYY format. Provide format or specify infer_datetime_format=True for consistent parsing.\n",
      "  return tools.to_datetime(\n",
      "/Users/Cam/opt/anaconda3/lib/python3.8/site-packages/pandas/io/parsers/base_parser.py:1070: UserWarning: Parsing '28/01/2021' in DD/MM/YYYY format. Provide format or specify infer_datetime_format=True for consistent parsing.\n",
      "  return tools.to_datetime(\n",
      "/Users/Cam/opt/anaconda3/lib/python3.8/site-packages/pandas/io/parsers/base_parser.py:1070: UserWarning: Parsing '29/01/2021' in DD/MM/YYYY format. Provide format or specify infer_datetime_format=True for consistent parsing.\n",
      "  return tools.to_datetime(\n",
      "/Users/Cam/opt/anaconda3/lib/python3.8/site-packages/pandas/io/parsers/base_parser.py:1070: UserWarning: Parsing '16/02/2021' in DD/MM/YYYY format. Provide format or specify infer_datetime_format=True for consistent parsing.\n",
      "  return tools.to_datetime(\n",
      "/Users/Cam/opt/anaconda3/lib/python3.8/site-packages/pandas/io/parsers/base_parser.py:1070: UserWarning: Parsing '17/02/2021' in DD/MM/YYYY format. Provide format or specify infer_datetime_format=True for consistent parsing.\n",
      "  return tools.to_datetime(\n",
      "/Users/Cam/opt/anaconda3/lib/python3.8/site-packages/pandas/io/parsers/base_parser.py:1070: UserWarning: Parsing '18/02/2021' in DD/MM/YYYY format. Provide format or specify infer_datetime_format=True for consistent parsing.\n",
      "  return tools.to_datetime(\n",
      "/Users/Cam/opt/anaconda3/lib/python3.8/site-packages/pandas/io/parsers/base_parser.py:1070: UserWarning: Parsing '19/02/2021' in DD/MM/YYYY format. Provide format or specify infer_datetime_format=True for consistent parsing.\n",
      "  return tools.to_datetime(\n",
      "/Users/Cam/opt/anaconda3/lib/python3.8/site-packages/pandas/io/parsers/base_parser.py:1070: UserWarning: Parsing '22/02/2021' in DD/MM/YYYY format. Provide format or specify infer_datetime_format=True for consistent parsing.\n",
      "  return tools.to_datetime(\n",
      "/Users/Cam/opt/anaconda3/lib/python3.8/site-packages/pandas/io/parsers/base_parser.py:1070: UserWarning: Parsing '23/02/2021' in DD/MM/YYYY format. Provide format or specify infer_datetime_format=True for consistent parsing.\n",
      "  return tools.to_datetime(\n",
      "/Users/Cam/opt/anaconda3/lib/python3.8/site-packages/pandas/io/parsers/base_parser.py:1070: UserWarning: Parsing '24/02/2021' in DD/MM/YYYY format. Provide format or specify infer_datetime_format=True for consistent parsing.\n",
      "  return tools.to_datetime(\n",
      "/Users/Cam/opt/anaconda3/lib/python3.8/site-packages/pandas/io/parsers/base_parser.py:1070: UserWarning: Parsing '25/02/2021' in DD/MM/YYYY format. Provide format or specify infer_datetime_format=True for consistent parsing.\n",
      "  return tools.to_datetime(\n",
      "/Users/Cam/opt/anaconda3/lib/python3.8/site-packages/pandas/io/parsers/base_parser.py:1070: UserWarning: Parsing '26/02/2021' in DD/MM/YYYY format. Provide format or specify infer_datetime_format=True for consistent parsing.\n",
      "  return tools.to_datetime(\n",
      "/Users/Cam/opt/anaconda3/lib/python3.8/site-packages/pandas/io/parsers/base_parser.py:1070: UserWarning: Parsing '15/03/2021' in DD/MM/YYYY format. Provide format or specify infer_datetime_format=True for consistent parsing.\n",
      "  return tools.to_datetime(\n",
      "/Users/Cam/opt/anaconda3/lib/python3.8/site-packages/pandas/io/parsers/base_parser.py:1070: UserWarning: Parsing '16/03/2021' in DD/MM/YYYY format. Provide format or specify infer_datetime_format=True for consistent parsing.\n",
      "  return tools.to_datetime(\n",
      "/Users/Cam/opt/anaconda3/lib/python3.8/site-packages/pandas/io/parsers/base_parser.py:1070: UserWarning: Parsing '17/03/2021' in DD/MM/YYYY format. Provide format or specify infer_datetime_format=True for consistent parsing.\n",
      "  return tools.to_datetime(\n",
      "/Users/Cam/opt/anaconda3/lib/python3.8/site-packages/pandas/io/parsers/base_parser.py:1070: UserWarning: Parsing '18/03/2021' in DD/MM/YYYY format. Provide format or specify infer_datetime_format=True for consistent parsing.\n",
      "  return tools.to_datetime(\n",
      "/Users/Cam/opt/anaconda3/lib/python3.8/site-packages/pandas/io/parsers/base_parser.py:1070: UserWarning: Parsing '19/03/2021' in DD/MM/YYYY format. Provide format or specify infer_datetime_format=True for consistent parsing.\n",
      "  return tools.to_datetime(\n",
      "/Users/Cam/opt/anaconda3/lib/python3.8/site-packages/pandas/io/parsers/base_parser.py:1070: UserWarning: Parsing '22/03/2021' in DD/MM/YYYY format. Provide format or specify infer_datetime_format=True for consistent parsing.\n",
      "  return tools.to_datetime(\n",
      "/Users/Cam/opt/anaconda3/lib/python3.8/site-packages/pandas/io/parsers/base_parser.py:1070: UserWarning: Parsing '23/03/2021' in DD/MM/YYYY format. Provide format or specify infer_datetime_format=True for consistent parsing.\n",
      "  return tools.to_datetime(\n",
      "/Users/Cam/opt/anaconda3/lib/python3.8/site-packages/pandas/io/parsers/base_parser.py:1070: UserWarning: Parsing '24/03/2021' in DD/MM/YYYY format. Provide format or specify infer_datetime_format=True for consistent parsing.\n",
      "  return tools.to_datetime(\n",
      "/Users/Cam/opt/anaconda3/lib/python3.8/site-packages/pandas/io/parsers/base_parser.py:1070: UserWarning: Parsing '25/03/2021' in DD/MM/YYYY format. Provide format or specify infer_datetime_format=True for consistent parsing.\n",
      "  return tools.to_datetime(\n",
      "/Users/Cam/opt/anaconda3/lib/python3.8/site-packages/pandas/io/parsers/base_parser.py:1070: UserWarning: Parsing '26/03/2021' in DD/MM/YYYY format. Provide format or specify infer_datetime_format=True for consistent parsing.\n",
      "  return tools.to_datetime(\n",
      "/Users/Cam/opt/anaconda3/lib/python3.8/site-packages/pandas/io/parsers/base_parser.py:1070: UserWarning: Parsing '29/03/2021' in DD/MM/YYYY format. Provide format or specify infer_datetime_format=True for consistent parsing.\n",
      "  return tools.to_datetime(\n",
      "/Users/Cam/opt/anaconda3/lib/python3.8/site-packages/pandas/io/parsers/base_parser.py:1070: UserWarning: Parsing '30/03/2021' in DD/MM/YYYY format. Provide format or specify infer_datetime_format=True for consistent parsing.\n",
      "  return tools.to_datetime(\n",
      "/Users/Cam/opt/anaconda3/lib/python3.8/site-packages/pandas/io/parsers/base_parser.py:1070: UserWarning: Parsing '31/03/2021' in DD/MM/YYYY format. Provide format or specify infer_datetime_format=True for consistent parsing.\n",
      "  return tools.to_datetime(\n",
      "/Users/Cam/opt/anaconda3/lib/python3.8/site-packages/pandas/io/parsers/base_parser.py:1070: UserWarning: Parsing '13/04/2021' in DD/MM/YYYY format. Provide format or specify infer_datetime_format=True for consistent parsing.\n",
      "  return tools.to_datetime(\n",
      "/Users/Cam/opt/anaconda3/lib/python3.8/site-packages/pandas/io/parsers/base_parser.py:1070: UserWarning: Parsing '14/04/2021' in DD/MM/YYYY format. Provide format or specify infer_datetime_format=True for consistent parsing.\n",
      "  return tools.to_datetime(\n",
      "/Users/Cam/opt/anaconda3/lib/python3.8/site-packages/pandas/io/parsers/base_parser.py:1070: UserWarning: Parsing '15/04/2021' in DD/MM/YYYY format. Provide format or specify infer_datetime_format=True for consistent parsing.\n",
      "  return tools.to_datetime(\n",
      "/Users/Cam/opt/anaconda3/lib/python3.8/site-packages/pandas/io/parsers/base_parser.py:1070: UserWarning: Parsing '16/04/2021' in DD/MM/YYYY format. Provide format or specify infer_datetime_format=True for consistent parsing.\n",
      "  return tools.to_datetime(\n",
      "/Users/Cam/opt/anaconda3/lib/python3.8/site-packages/pandas/io/parsers/base_parser.py:1070: UserWarning: Parsing '19/04/2021' in DD/MM/YYYY format. Provide format or specify infer_datetime_format=True for consistent parsing.\n",
      "  return tools.to_datetime(\n",
      "/Users/Cam/opt/anaconda3/lib/python3.8/site-packages/pandas/io/parsers/base_parser.py:1070: UserWarning: Parsing '20/04/2021' in DD/MM/YYYY format. Provide format or specify infer_datetime_format=True for consistent parsing.\n",
      "  return tools.to_datetime(\n",
      "/Users/Cam/opt/anaconda3/lib/python3.8/site-packages/pandas/io/parsers/base_parser.py:1070: UserWarning: Parsing '21/04/2021' in DD/MM/YYYY format. Provide format or specify infer_datetime_format=True for consistent parsing.\n",
      "  return tools.to_datetime(\n",
      "/Users/Cam/opt/anaconda3/lib/python3.8/site-packages/pandas/io/parsers/base_parser.py:1070: UserWarning: Parsing '22/04/2021' in DD/MM/YYYY format. Provide format or specify infer_datetime_format=True for consistent parsing.\n",
      "  return tools.to_datetime(\n",
      "/Users/Cam/opt/anaconda3/lib/python3.8/site-packages/pandas/io/parsers/base_parser.py:1070: UserWarning: Parsing '23/04/2021' in DD/MM/YYYY format. Provide format or specify infer_datetime_format=True for consistent parsing.\n",
      "  return tools.to_datetime(\n",
      "/Users/Cam/opt/anaconda3/lib/python3.8/site-packages/pandas/io/parsers/base_parser.py:1070: UserWarning: Parsing '26/04/2021' in DD/MM/YYYY format. Provide format or specify infer_datetime_format=True for consistent parsing.\n",
      "  return tools.to_datetime(\n",
      "/Users/Cam/opt/anaconda3/lib/python3.8/site-packages/pandas/io/parsers/base_parser.py:1070: UserWarning: Parsing '27/04/2021' in DD/MM/YYYY format. Provide format or specify infer_datetime_format=True for consistent parsing.\n",
      "  return tools.to_datetime(\n",
      "/Users/Cam/opt/anaconda3/lib/python3.8/site-packages/pandas/io/parsers/base_parser.py:1070: UserWarning: Parsing '28/04/2021' in DD/MM/YYYY format. Provide format or specify infer_datetime_format=True for consistent parsing.\n",
      "  return tools.to_datetime(\n",
      "/Users/Cam/opt/anaconda3/lib/python3.8/site-packages/pandas/io/parsers/base_parser.py:1070: UserWarning: Parsing '29/04/2021' in DD/MM/YYYY format. Provide format or specify infer_datetime_format=True for consistent parsing.\n",
      "  return tools.to_datetime(\n",
      "/Users/Cam/opt/anaconda3/lib/python3.8/site-packages/pandas/io/parsers/base_parser.py:1070: UserWarning: Parsing '30/04/2021' in DD/MM/YYYY format. Provide format or specify infer_datetime_format=True for consistent parsing.\n",
      "  return tools.to_datetime(\n",
      "/Users/Cam/opt/anaconda3/lib/python3.8/site-packages/pandas/io/parsers/base_parser.py:1070: UserWarning: Parsing '13/05/2021' in DD/MM/YYYY format. Provide format or specify infer_datetime_format=True for consistent parsing.\n",
      "  return tools.to_datetime(\n",
      "/Users/Cam/opt/anaconda3/lib/python3.8/site-packages/pandas/io/parsers/base_parser.py:1070: UserWarning: Parsing '14/05/2021' in DD/MM/YYYY format. Provide format or specify infer_datetime_format=True for consistent parsing.\n",
      "  return tools.to_datetime(\n",
      "/Users/Cam/opt/anaconda3/lib/python3.8/site-packages/pandas/io/parsers/base_parser.py:1070: UserWarning: Parsing '17/05/2021' in DD/MM/YYYY format. Provide format or specify infer_datetime_format=True for consistent parsing.\n",
      "  return tools.to_datetime(\n",
      "/Users/Cam/opt/anaconda3/lib/python3.8/site-packages/pandas/io/parsers/base_parser.py:1070: UserWarning: Parsing '18/05/2021' in DD/MM/YYYY format. Provide format or specify infer_datetime_format=True for consistent parsing.\n",
      "  return tools.to_datetime(\n",
      "/Users/Cam/opt/anaconda3/lib/python3.8/site-packages/pandas/io/parsers/base_parser.py:1070: UserWarning: Parsing '19/05/2021' in DD/MM/YYYY format. Provide format or specify infer_datetime_format=True for consistent parsing.\n",
      "  return tools.to_datetime(\n",
      "/Users/Cam/opt/anaconda3/lib/python3.8/site-packages/pandas/io/parsers/base_parser.py:1070: UserWarning: Parsing '20/05/2021' in DD/MM/YYYY format. Provide format or specify infer_datetime_format=True for consistent parsing.\n",
      "  return tools.to_datetime(\n",
      "/Users/Cam/opt/anaconda3/lib/python3.8/site-packages/pandas/io/parsers/base_parser.py:1070: UserWarning: Parsing '21/05/2021' in DD/MM/YYYY format. Provide format or specify infer_datetime_format=True for consistent parsing.\n",
      "  return tools.to_datetime(\n",
      "/Users/Cam/opt/anaconda3/lib/python3.8/site-packages/pandas/io/parsers/base_parser.py:1070: UserWarning: Parsing '24/05/2021' in DD/MM/YYYY format. Provide format or specify infer_datetime_format=True for consistent parsing.\n",
      "  return tools.to_datetime(\n",
      "/Users/Cam/opt/anaconda3/lib/python3.8/site-packages/pandas/io/parsers/base_parser.py:1070: UserWarning: Parsing '25/05/2021' in DD/MM/YYYY format. Provide format or specify infer_datetime_format=True for consistent parsing.\n",
      "  return tools.to_datetime(\n",
      "/Users/Cam/opt/anaconda3/lib/python3.8/site-packages/pandas/io/parsers/base_parser.py:1070: UserWarning: Parsing '26/05/2021' in DD/MM/YYYY format. Provide format or specify infer_datetime_format=True for consistent parsing.\n",
      "  return tools.to_datetime(\n",
      "/Users/Cam/opt/anaconda3/lib/python3.8/site-packages/pandas/io/parsers/base_parser.py:1070: UserWarning: Parsing '27/05/2021' in DD/MM/YYYY format. Provide format or specify infer_datetime_format=True for consistent parsing.\n",
      "  return tools.to_datetime(\n",
      "/Users/Cam/opt/anaconda3/lib/python3.8/site-packages/pandas/io/parsers/base_parser.py:1070: UserWarning: Parsing '28/05/2021' in DD/MM/YYYY format. Provide format or specify infer_datetime_format=True for consistent parsing.\n",
      "  return tools.to_datetime(\n",
      "/Users/Cam/opt/anaconda3/lib/python3.8/site-packages/pandas/io/parsers/base_parser.py:1070: UserWarning: Parsing '14/06/2021' in DD/MM/YYYY format. Provide format or specify infer_datetime_format=True for consistent parsing.\n",
      "  return tools.to_datetime(\n",
      "/Users/Cam/opt/anaconda3/lib/python3.8/site-packages/pandas/io/parsers/base_parser.py:1070: UserWarning: Parsing '15/06/2021' in DD/MM/YYYY format. Provide format or specify infer_datetime_format=True for consistent parsing.\n",
      "  return tools.to_datetime(\n",
      "/Users/Cam/opt/anaconda3/lib/python3.8/site-packages/pandas/io/parsers/base_parser.py:1070: UserWarning: Parsing '16/06/2021' in DD/MM/YYYY format. Provide format or specify infer_datetime_format=True for consistent parsing.\n",
      "  return tools.to_datetime(\n",
      "/Users/Cam/opt/anaconda3/lib/python3.8/site-packages/pandas/io/parsers/base_parser.py:1070: UserWarning: Parsing '17/06/2021' in DD/MM/YYYY format. Provide format or specify infer_datetime_format=True for consistent parsing.\n",
      "  return tools.to_datetime(\n",
      "/Users/Cam/opt/anaconda3/lib/python3.8/site-packages/pandas/io/parsers/base_parser.py:1070: UserWarning: Parsing '18/06/2021' in DD/MM/YYYY format. Provide format or specify infer_datetime_format=True for consistent parsing.\n",
      "  return tools.to_datetime(\n",
      "/Users/Cam/opt/anaconda3/lib/python3.8/site-packages/pandas/io/parsers/base_parser.py:1070: UserWarning: Parsing '21/06/2021' in DD/MM/YYYY format. Provide format or specify infer_datetime_format=True for consistent parsing.\n",
      "  return tools.to_datetime(\n",
      "/Users/Cam/opt/anaconda3/lib/python3.8/site-packages/pandas/io/parsers/base_parser.py:1070: UserWarning: Parsing '22/06/2021' in DD/MM/YYYY format. Provide format or specify infer_datetime_format=True for consistent parsing.\n",
      "  return tools.to_datetime(\n",
      "/Users/Cam/opt/anaconda3/lib/python3.8/site-packages/pandas/io/parsers/base_parser.py:1070: UserWarning: Parsing '23/06/2021' in DD/MM/YYYY format. Provide format or specify infer_datetime_format=True for consistent parsing.\n",
      "  return tools.to_datetime(\n",
      "/Users/Cam/opt/anaconda3/lib/python3.8/site-packages/pandas/io/parsers/base_parser.py:1070: UserWarning: Parsing '24/06/2021' in DD/MM/YYYY format. Provide format or specify infer_datetime_format=True for consistent parsing.\n",
      "  return tools.to_datetime(\n",
      "/Users/Cam/opt/anaconda3/lib/python3.8/site-packages/pandas/io/parsers/base_parser.py:1070: UserWarning: Parsing '25/06/2021' in DD/MM/YYYY format. Provide format or specify infer_datetime_format=True for consistent parsing.\n",
      "  return tools.to_datetime(\n",
      "/Users/Cam/opt/anaconda3/lib/python3.8/site-packages/pandas/io/parsers/base_parser.py:1070: UserWarning: Parsing '28/06/2021' in DD/MM/YYYY format. Provide format or specify infer_datetime_format=True for consistent parsing.\n",
      "  return tools.to_datetime(\n",
      "/Users/Cam/opt/anaconda3/lib/python3.8/site-packages/pandas/io/parsers/base_parser.py:1070: UserWarning: Parsing '29/06/2021' in DD/MM/YYYY format. Provide format or specify infer_datetime_format=True for consistent parsing.\n",
      "  return tools.to_datetime(\n",
      "/Users/Cam/opt/anaconda3/lib/python3.8/site-packages/pandas/io/parsers/base_parser.py:1070: UserWarning: Parsing '30/06/2021' in DD/MM/YYYY format. Provide format or specify infer_datetime_format=True for consistent parsing.\n",
      "  return tools.to_datetime(\n",
      "/Users/Cam/opt/anaconda3/lib/python3.8/site-packages/pandas/io/parsers/base_parser.py:1070: UserWarning: Parsing '13/07/2021' in DD/MM/YYYY format. Provide format or specify infer_datetime_format=True for consistent parsing.\n",
      "  return tools.to_datetime(\n",
      "/Users/Cam/opt/anaconda3/lib/python3.8/site-packages/pandas/io/parsers/base_parser.py:1070: UserWarning: Parsing '14/07/2021' in DD/MM/YYYY format. Provide format or specify infer_datetime_format=True for consistent parsing.\n",
      "  return tools.to_datetime(\n",
      "/Users/Cam/opt/anaconda3/lib/python3.8/site-packages/pandas/io/parsers/base_parser.py:1070: UserWarning: Parsing '15/07/2021' in DD/MM/YYYY format. Provide format or specify infer_datetime_format=True for consistent parsing.\n",
      "  return tools.to_datetime(\n",
      "/Users/Cam/opt/anaconda3/lib/python3.8/site-packages/pandas/io/parsers/base_parser.py:1070: UserWarning: Parsing '16/07/2021' in DD/MM/YYYY format. Provide format or specify infer_datetime_format=True for consistent parsing.\n",
      "  return tools.to_datetime(\n",
      "/Users/Cam/opt/anaconda3/lib/python3.8/site-packages/pandas/io/parsers/base_parser.py:1070: UserWarning: Parsing '19/07/2021' in DD/MM/YYYY format. Provide format or specify infer_datetime_format=True for consistent parsing.\n",
      "  return tools.to_datetime(\n",
      "/Users/Cam/opt/anaconda3/lib/python3.8/site-packages/pandas/io/parsers/base_parser.py:1070: UserWarning: Parsing '20/07/2021' in DD/MM/YYYY format. Provide format or specify infer_datetime_format=True for consistent parsing.\n",
      "  return tools.to_datetime(\n",
      "/Users/Cam/opt/anaconda3/lib/python3.8/site-packages/pandas/io/parsers/base_parser.py:1070: UserWarning: Parsing '21/07/2021' in DD/MM/YYYY format. Provide format or specify infer_datetime_format=True for consistent parsing.\n",
      "  return tools.to_datetime(\n",
      "/Users/Cam/opt/anaconda3/lib/python3.8/site-packages/pandas/io/parsers/base_parser.py:1070: UserWarning: Parsing '22/07/2021' in DD/MM/YYYY format. Provide format or specify infer_datetime_format=True for consistent parsing.\n",
      "  return tools.to_datetime(\n",
      "/Users/Cam/opt/anaconda3/lib/python3.8/site-packages/pandas/io/parsers/base_parser.py:1070: UserWarning: Parsing '23/07/2021' in DD/MM/YYYY format. Provide format or specify infer_datetime_format=True for consistent parsing.\n",
      "  return tools.to_datetime(\n",
      "/Users/Cam/opt/anaconda3/lib/python3.8/site-packages/pandas/io/parsers/base_parser.py:1070: UserWarning: Parsing '26/07/2021' in DD/MM/YYYY format. Provide format or specify infer_datetime_format=True for consistent parsing.\n",
      "  return tools.to_datetime(\n",
      "/Users/Cam/opt/anaconda3/lib/python3.8/site-packages/pandas/io/parsers/base_parser.py:1070: UserWarning: Parsing '27/07/2021' in DD/MM/YYYY format. Provide format or specify infer_datetime_format=True for consistent parsing.\n",
      "  return tools.to_datetime(\n",
      "/Users/Cam/opt/anaconda3/lib/python3.8/site-packages/pandas/io/parsers/base_parser.py:1070: UserWarning: Parsing '28/07/2021' in DD/MM/YYYY format. Provide format or specify infer_datetime_format=True for consistent parsing.\n",
      "  return tools.to_datetime(\n",
      "/Users/Cam/opt/anaconda3/lib/python3.8/site-packages/pandas/io/parsers/base_parser.py:1070: UserWarning: Parsing '29/07/2021' in DD/MM/YYYY format. Provide format or specify infer_datetime_format=True for consistent parsing.\n",
      "  return tools.to_datetime(\n",
      "/Users/Cam/opt/anaconda3/lib/python3.8/site-packages/pandas/io/parsers/base_parser.py:1070: UserWarning: Parsing '30/07/2021' in DD/MM/YYYY format. Provide format or specify infer_datetime_format=True for consistent parsing.\n",
      "  return tools.to_datetime(\n",
      "/Users/Cam/opt/anaconda3/lib/python3.8/site-packages/pandas/io/parsers/base_parser.py:1070: UserWarning: Parsing '13/08/2021' in DD/MM/YYYY format. Provide format or specify infer_datetime_format=True for consistent parsing.\n",
      "  return tools.to_datetime(\n",
      "/Users/Cam/opt/anaconda3/lib/python3.8/site-packages/pandas/io/parsers/base_parser.py:1070: UserWarning: Parsing '16/08/2021' in DD/MM/YYYY format. Provide format or specify infer_datetime_format=True for consistent parsing.\n",
      "  return tools.to_datetime(\n",
      "/Users/Cam/opt/anaconda3/lib/python3.8/site-packages/pandas/io/parsers/base_parser.py:1070: UserWarning: Parsing '17/08/2021' in DD/MM/YYYY format. Provide format or specify infer_datetime_format=True for consistent parsing.\n",
      "  return tools.to_datetime(\n",
      "/Users/Cam/opt/anaconda3/lib/python3.8/site-packages/pandas/io/parsers/base_parser.py:1070: UserWarning: Parsing '18/08/2021' in DD/MM/YYYY format. Provide format or specify infer_datetime_format=True for consistent parsing.\n",
      "  return tools.to_datetime(\n",
      "/Users/Cam/opt/anaconda3/lib/python3.8/site-packages/pandas/io/parsers/base_parser.py:1070: UserWarning: Parsing '19/08/2021' in DD/MM/YYYY format. Provide format or specify infer_datetime_format=True for consistent parsing.\n",
      "  return tools.to_datetime(\n",
      "/Users/Cam/opt/anaconda3/lib/python3.8/site-packages/pandas/io/parsers/base_parser.py:1070: UserWarning: Parsing '20/08/2021' in DD/MM/YYYY format. Provide format or specify infer_datetime_format=True for consistent parsing.\n",
      "  return tools.to_datetime(\n",
      "/Users/Cam/opt/anaconda3/lib/python3.8/site-packages/pandas/io/parsers/base_parser.py:1070: UserWarning: Parsing '23/08/2021' in DD/MM/YYYY format. Provide format or specify infer_datetime_format=True for consistent parsing.\n",
      "  return tools.to_datetime(\n",
      "/Users/Cam/opt/anaconda3/lib/python3.8/site-packages/pandas/io/parsers/base_parser.py:1070: UserWarning: Parsing '24/08/2021' in DD/MM/YYYY format. Provide format or specify infer_datetime_format=True for consistent parsing.\n",
      "  return tools.to_datetime(\n",
      "/Users/Cam/opt/anaconda3/lib/python3.8/site-packages/pandas/io/parsers/base_parser.py:1070: UserWarning: Parsing '25/08/2021' in DD/MM/YYYY format. Provide format or specify infer_datetime_format=True for consistent parsing.\n",
      "  return tools.to_datetime(\n",
      "/Users/Cam/opt/anaconda3/lib/python3.8/site-packages/pandas/io/parsers/base_parser.py:1070: UserWarning: Parsing '26/08/2021' in DD/MM/YYYY format. Provide format or specify infer_datetime_format=True for consistent parsing.\n",
      "  return tools.to_datetime(\n",
      "/Users/Cam/opt/anaconda3/lib/python3.8/site-packages/pandas/io/parsers/base_parser.py:1070: UserWarning: Parsing '27/08/2021' in DD/MM/YYYY format. Provide format or specify infer_datetime_format=True for consistent parsing.\n",
      "  return tools.to_datetime(\n",
      "/Users/Cam/opt/anaconda3/lib/python3.8/site-packages/pandas/io/parsers/base_parser.py:1070: UserWarning: Parsing '30/08/2021' in DD/MM/YYYY format. Provide format or specify infer_datetime_format=True for consistent parsing.\n",
      "  return tools.to_datetime(\n",
      "/Users/Cam/opt/anaconda3/lib/python3.8/site-packages/pandas/io/parsers/base_parser.py:1070: UserWarning: Parsing '31/08/2021' in DD/MM/YYYY format. Provide format or specify infer_datetime_format=True for consistent parsing.\n",
      "  return tools.to_datetime(\n",
      "/Users/Cam/opt/anaconda3/lib/python3.8/site-packages/pandas/io/parsers/base_parser.py:1070: UserWarning: Parsing '13/09/2021' in DD/MM/YYYY format. Provide format or specify infer_datetime_format=True for consistent parsing.\n",
      "  return tools.to_datetime(\n",
      "/Users/Cam/opt/anaconda3/lib/python3.8/site-packages/pandas/io/parsers/base_parser.py:1070: UserWarning: Parsing '14/09/2021' in DD/MM/YYYY format. Provide format or specify infer_datetime_format=True for consistent parsing.\n",
      "  return tools.to_datetime(\n",
      "/Users/Cam/opt/anaconda3/lib/python3.8/site-packages/pandas/io/parsers/base_parser.py:1070: UserWarning: Parsing '15/09/2021' in DD/MM/YYYY format. Provide format or specify infer_datetime_format=True for consistent parsing.\n",
      "  return tools.to_datetime(\n",
      "/Users/Cam/opt/anaconda3/lib/python3.8/site-packages/pandas/io/parsers/base_parser.py:1070: UserWarning: Parsing '16/09/2021' in DD/MM/YYYY format. Provide format or specify infer_datetime_format=True for consistent parsing.\n",
      "  return tools.to_datetime(\n",
      "/Users/Cam/opt/anaconda3/lib/python3.8/site-packages/pandas/io/parsers/base_parser.py:1070: UserWarning: Parsing '17/09/2021' in DD/MM/YYYY format. Provide format or specify infer_datetime_format=True for consistent parsing.\n",
      "  return tools.to_datetime(\n",
      "/Users/Cam/opt/anaconda3/lib/python3.8/site-packages/pandas/io/parsers/base_parser.py:1070: UserWarning: Parsing '20/09/2021' in DD/MM/YYYY format. Provide format or specify infer_datetime_format=True for consistent parsing.\n",
      "  return tools.to_datetime(\n",
      "/Users/Cam/opt/anaconda3/lib/python3.8/site-packages/pandas/io/parsers/base_parser.py:1070: UserWarning: Parsing '21/09/2021' in DD/MM/YYYY format. Provide format or specify infer_datetime_format=True for consistent parsing.\n",
      "  return tools.to_datetime(\n",
      "/Users/Cam/opt/anaconda3/lib/python3.8/site-packages/pandas/io/parsers/base_parser.py:1070: UserWarning: Parsing '22/09/2021' in DD/MM/YYYY format. Provide format or specify infer_datetime_format=True for consistent parsing.\n",
      "  return tools.to_datetime(\n",
      "/Users/Cam/opt/anaconda3/lib/python3.8/site-packages/pandas/io/parsers/base_parser.py:1070: UserWarning: Parsing '23/09/2021' in DD/MM/YYYY format. Provide format or specify infer_datetime_format=True for consistent parsing.\n",
      "  return tools.to_datetime(\n",
      "/Users/Cam/opt/anaconda3/lib/python3.8/site-packages/pandas/io/parsers/base_parser.py:1070: UserWarning: Parsing '24/09/2021' in DD/MM/YYYY format. Provide format or specify infer_datetime_format=True for consistent parsing.\n",
      "  return tools.to_datetime(\n",
      "/Users/Cam/opt/anaconda3/lib/python3.8/site-packages/pandas/io/parsers/base_parser.py:1070: UserWarning: Parsing '27/09/2021' in DD/MM/YYYY format. Provide format or specify infer_datetime_format=True for consistent parsing.\n",
      "  return tools.to_datetime(\n",
      "/Users/Cam/opt/anaconda3/lib/python3.8/site-packages/pandas/io/parsers/base_parser.py:1070: UserWarning: Parsing '28/09/2021' in DD/MM/YYYY format. Provide format or specify infer_datetime_format=True for consistent parsing.\n",
      "  return tools.to_datetime(\n",
      "/Users/Cam/opt/anaconda3/lib/python3.8/site-packages/pandas/io/parsers/base_parser.py:1070: UserWarning: Parsing '29/09/2021' in DD/MM/YYYY format. Provide format or specify infer_datetime_format=True for consistent parsing.\n",
      "  return tools.to_datetime(\n",
      "/Users/Cam/opt/anaconda3/lib/python3.8/site-packages/pandas/io/parsers/base_parser.py:1070: UserWarning: Parsing '30/09/2021' in DD/MM/YYYY format. Provide format or specify infer_datetime_format=True for consistent parsing.\n",
      "  return tools.to_datetime(\n",
      "/Users/Cam/opt/anaconda3/lib/python3.8/site-packages/pandas/io/parsers/base_parser.py:1070: UserWarning: Parsing '13/10/2021' in DD/MM/YYYY format. Provide format or specify infer_datetime_format=True for consistent parsing.\n",
      "  return tools.to_datetime(\n",
      "/Users/Cam/opt/anaconda3/lib/python3.8/site-packages/pandas/io/parsers/base_parser.py:1070: UserWarning: Parsing '14/10/2021' in DD/MM/YYYY format. Provide format or specify infer_datetime_format=True for consistent parsing.\n",
      "  return tools.to_datetime(\n",
      "/Users/Cam/opt/anaconda3/lib/python3.8/site-packages/pandas/io/parsers/base_parser.py:1070: UserWarning: Parsing '15/10/2021' in DD/MM/YYYY format. Provide format or specify infer_datetime_format=True for consistent parsing.\n",
      "  return tools.to_datetime(\n",
      "/Users/Cam/opt/anaconda3/lib/python3.8/site-packages/pandas/io/parsers/base_parser.py:1070: UserWarning: Parsing '18/10/2021' in DD/MM/YYYY format. Provide format or specify infer_datetime_format=True for consistent parsing.\n",
      "  return tools.to_datetime(\n",
      "/Users/Cam/opt/anaconda3/lib/python3.8/site-packages/pandas/io/parsers/base_parser.py:1070: UserWarning: Parsing '19/10/2021' in DD/MM/YYYY format. Provide format or specify infer_datetime_format=True for consistent parsing.\n",
      "  return tools.to_datetime(\n",
      "/Users/Cam/opt/anaconda3/lib/python3.8/site-packages/pandas/io/parsers/base_parser.py:1070: UserWarning: Parsing '20/10/2021' in DD/MM/YYYY format. Provide format or specify infer_datetime_format=True for consistent parsing.\n",
      "  return tools.to_datetime(\n",
      "/Users/Cam/opt/anaconda3/lib/python3.8/site-packages/pandas/io/parsers/base_parser.py:1070: UserWarning: Parsing '21/10/2021' in DD/MM/YYYY format. Provide format or specify infer_datetime_format=True for consistent parsing.\n",
      "  return tools.to_datetime(\n",
      "/Users/Cam/opt/anaconda3/lib/python3.8/site-packages/pandas/io/parsers/base_parser.py:1070: UserWarning: Parsing '22/10/2021' in DD/MM/YYYY format. Provide format or specify infer_datetime_format=True for consistent parsing.\n",
      "  return tools.to_datetime(\n",
      "/Users/Cam/opt/anaconda3/lib/python3.8/site-packages/pandas/io/parsers/base_parser.py:1070: UserWarning: Parsing '25/10/2021' in DD/MM/YYYY format. Provide format or specify infer_datetime_format=True for consistent parsing.\n",
      "  return tools.to_datetime(\n",
      "/Users/Cam/opt/anaconda3/lib/python3.8/site-packages/pandas/io/parsers/base_parser.py:1070: UserWarning: Parsing '26/10/2021' in DD/MM/YYYY format. Provide format or specify infer_datetime_format=True for consistent parsing.\n",
      "  return tools.to_datetime(\n",
      "/Users/Cam/opt/anaconda3/lib/python3.8/site-packages/pandas/io/parsers/base_parser.py:1070: UserWarning: Parsing '27/10/2021' in DD/MM/YYYY format. Provide format or specify infer_datetime_format=True for consistent parsing.\n",
      "  return tools.to_datetime(\n",
      "/Users/Cam/opt/anaconda3/lib/python3.8/site-packages/pandas/io/parsers/base_parser.py:1070: UserWarning: Parsing '28/10/2021' in DD/MM/YYYY format. Provide format or specify infer_datetime_format=True for consistent parsing.\n",
      "  return tools.to_datetime(\n",
      "/Users/Cam/opt/anaconda3/lib/python3.8/site-packages/pandas/io/parsers/base_parser.py:1070: UserWarning: Parsing '29/10/2021' in DD/MM/YYYY format. Provide format or specify infer_datetime_format=True for consistent parsing.\n",
      "  return tools.to_datetime(\n",
      "/Users/Cam/opt/anaconda3/lib/python3.8/site-packages/pandas/io/parsers/base_parser.py:1070: UserWarning: Parsing '15/11/2021' in DD/MM/YYYY format. Provide format or specify infer_datetime_format=True for consistent parsing.\n",
      "  return tools.to_datetime(\n",
      "/Users/Cam/opt/anaconda3/lib/python3.8/site-packages/pandas/io/parsers/base_parser.py:1070: UserWarning: Parsing '16/11/2021' in DD/MM/YYYY format. Provide format or specify infer_datetime_format=True for consistent parsing.\n",
      "  return tools.to_datetime(\n",
      "/Users/Cam/opt/anaconda3/lib/python3.8/site-packages/pandas/io/parsers/base_parser.py:1070: UserWarning: Parsing '17/11/2021' in DD/MM/YYYY format. Provide format or specify infer_datetime_format=True for consistent parsing.\n",
      "  return tools.to_datetime(\n",
      "/Users/Cam/opt/anaconda3/lib/python3.8/site-packages/pandas/io/parsers/base_parser.py:1070: UserWarning: Parsing '18/11/2021' in DD/MM/YYYY format. Provide format or specify infer_datetime_format=True for consistent parsing.\n",
      "  return tools.to_datetime(\n",
      "/Users/Cam/opt/anaconda3/lib/python3.8/site-packages/pandas/io/parsers/base_parser.py:1070: UserWarning: Parsing '19/11/2021' in DD/MM/YYYY format. Provide format or specify infer_datetime_format=True for consistent parsing.\n",
      "  return tools.to_datetime(\n",
      "/Users/Cam/opt/anaconda3/lib/python3.8/site-packages/pandas/io/parsers/base_parser.py:1070: UserWarning: Parsing '22/11/2021' in DD/MM/YYYY format. Provide format or specify infer_datetime_format=True for consistent parsing.\n",
      "  return tools.to_datetime(\n",
      "/Users/Cam/opt/anaconda3/lib/python3.8/site-packages/pandas/io/parsers/base_parser.py:1070: UserWarning: Parsing '23/11/2021' in DD/MM/YYYY format. Provide format or specify infer_datetime_format=True for consistent parsing.\n",
      "  return tools.to_datetime(\n",
      "/Users/Cam/opt/anaconda3/lib/python3.8/site-packages/pandas/io/parsers/base_parser.py:1070: UserWarning: Parsing '24/11/2021' in DD/MM/YYYY format. Provide format or specify infer_datetime_format=True for consistent parsing.\n",
      "  return tools.to_datetime(\n",
      "/Users/Cam/opt/anaconda3/lib/python3.8/site-packages/pandas/io/parsers/base_parser.py:1070: UserWarning: Parsing '26/11/2021' in DD/MM/YYYY format. Provide format or specify infer_datetime_format=True for consistent parsing.\n",
      "  return tools.to_datetime(\n",
      "/Users/Cam/opt/anaconda3/lib/python3.8/site-packages/pandas/io/parsers/base_parser.py:1070: UserWarning: Parsing '29/11/2021' in DD/MM/YYYY format. Provide format or specify infer_datetime_format=True for consistent parsing.\n",
      "  return tools.to_datetime(\n",
      "/Users/Cam/opt/anaconda3/lib/python3.8/site-packages/pandas/io/parsers/base_parser.py:1070: UserWarning: Parsing '30/11/2021' in DD/MM/YYYY format. Provide format or specify infer_datetime_format=True for consistent parsing.\n",
      "  return tools.to_datetime(\n",
      "/Users/Cam/opt/anaconda3/lib/python3.8/site-packages/pandas/io/parsers/base_parser.py:1070: UserWarning: Parsing '13/12/2021' in DD/MM/YYYY format. Provide format or specify infer_datetime_format=True for consistent parsing.\n",
      "  return tools.to_datetime(\n",
      "/Users/Cam/opt/anaconda3/lib/python3.8/site-packages/pandas/io/parsers/base_parser.py:1070: UserWarning: Parsing '14/12/2021' in DD/MM/YYYY format. Provide format or specify infer_datetime_format=True for consistent parsing.\n",
      "  return tools.to_datetime(\n",
      "/Users/Cam/opt/anaconda3/lib/python3.8/site-packages/pandas/io/parsers/base_parser.py:1070: UserWarning: Parsing '15/12/2021' in DD/MM/YYYY format. Provide format or specify infer_datetime_format=True for consistent parsing.\n",
      "  return tools.to_datetime(\n",
      "/Users/Cam/opt/anaconda3/lib/python3.8/site-packages/pandas/io/parsers/base_parser.py:1070: UserWarning: Parsing '16/12/2021' in DD/MM/YYYY format. Provide format or specify infer_datetime_format=True for consistent parsing.\n",
      "  return tools.to_datetime(\n",
      "/Users/Cam/opt/anaconda3/lib/python3.8/site-packages/pandas/io/parsers/base_parser.py:1070: UserWarning: Parsing '17/12/2021' in DD/MM/YYYY format. Provide format or specify infer_datetime_format=True for consistent parsing.\n",
      "  return tools.to_datetime(\n",
      "/Users/Cam/opt/anaconda3/lib/python3.8/site-packages/pandas/io/parsers/base_parser.py:1070: UserWarning: Parsing '20/12/2021' in DD/MM/YYYY format. Provide format or specify infer_datetime_format=True for consistent parsing.\n",
      "  return tools.to_datetime(\n",
      "/Users/Cam/opt/anaconda3/lib/python3.8/site-packages/pandas/io/parsers/base_parser.py:1070: UserWarning: Parsing '21/12/2021' in DD/MM/YYYY format. Provide format or specify infer_datetime_format=True for consistent parsing.\n",
      "  return tools.to_datetime(\n",
      "/Users/Cam/opt/anaconda3/lib/python3.8/site-packages/pandas/io/parsers/base_parser.py:1070: UserWarning: Parsing '22/12/2021' in DD/MM/YYYY format. Provide format or specify infer_datetime_format=True for consistent parsing.\n",
      "  return tools.to_datetime(\n",
      "/Users/Cam/opt/anaconda3/lib/python3.8/site-packages/pandas/io/parsers/base_parser.py:1070: UserWarning: Parsing '23/12/2021' in DD/MM/YYYY format. Provide format or specify infer_datetime_format=True for consistent parsing.\n",
      "  return tools.to_datetime(\n",
      "/Users/Cam/opt/anaconda3/lib/python3.8/site-packages/pandas/io/parsers/base_parser.py:1070: UserWarning: Parsing '27/12/2021' in DD/MM/YYYY format. Provide format or specify infer_datetime_format=True for consistent parsing.\n",
      "  return tools.to_datetime(\n",
      "/Users/Cam/opt/anaconda3/lib/python3.8/site-packages/pandas/io/parsers/base_parser.py:1070: UserWarning: Parsing '28/12/2021' in DD/MM/YYYY format. Provide format or specify infer_datetime_format=True for consistent parsing.\n",
      "  return tools.to_datetime(\n",
      "/Users/Cam/opt/anaconda3/lib/python3.8/site-packages/pandas/io/parsers/base_parser.py:1070: UserWarning: Parsing '29/12/2021' in DD/MM/YYYY format. Provide format or specify infer_datetime_format=True for consistent parsing.\n",
      "  return tools.to_datetime(\n",
      "/Users/Cam/opt/anaconda3/lib/python3.8/site-packages/pandas/io/parsers/base_parser.py:1070: UserWarning: Parsing '30/12/2021' in DD/MM/YYYY format. Provide format or specify infer_datetime_format=True for consistent parsing.\n",
      "  return tools.to_datetime(\n"
     ]
    }
   ],
   "source": [
    "df_ADF = pd.read_csv('AMZN.csv', header=0, infer_datetime_format=True, parse_dates=[0], index_col=[0])\n",
    "adf_check(df_ADF)"
   ]
  },
  {
   "cell_type": "code",
   "execution_count": null,
   "metadata": {},
   "outputs": [
    {
     "data": {
      "text/html": [
       "<div>\n",
       "<style scoped>\n",
       "    .dataframe tbody tr th:only-of-type {\n",
       "        vertical-align: middle;\n",
       "    }\n",
       "\n",
       "    .dataframe tbody tr th {\n",
       "        vertical-align: top;\n",
       "    }\n",
       "\n",
       "    .dataframe thead th {\n",
       "        text-align: right;\n",
       "    }\n",
       "</style>\n",
       "<table border=\"1\" class=\"dataframe\">\n",
       "  <thead>\n",
       "    <tr style=\"text-align: right;\">\n",
       "      <th></th>\n",
       "      <th>Close</th>\n",
       "    </tr>\n",
       "    <tr>\n",
       "      <th>Date</th>\n",
       "      <th></th>\n",
       "    </tr>\n",
       "  </thead>\n",
       "  <tbody>\n",
       "    <tr>\n",
       "      <th>2021-04-01</th>\n",
       "      <td>3186.629883</td>\n",
       "    </tr>\n",
       "    <tr>\n",
       "      <th>2021-05-01</th>\n",
       "      <td>3218.510010</td>\n",
       "    </tr>\n",
       "    <tr>\n",
       "      <th>2021-06-01</th>\n",
       "      <td>3138.379883</td>\n",
       "    </tr>\n",
       "    <tr>\n",
       "      <th>2021-07-01</th>\n",
       "      <td>3162.159912</td>\n",
       "    </tr>\n",
       "    <tr>\n",
       "      <th>2021-08-01</th>\n",
       "      <td>3182.699951</td>\n",
       "    </tr>\n",
       "    <tr>\n",
       "      <th>...</th>\n",
       "      <td>...</td>\n",
       "    </tr>\n",
       "    <tr>\n",
       "      <th>2021-12-23</th>\n",
       "      <td>3421.370117</td>\n",
       "    </tr>\n",
       "    <tr>\n",
       "      <th>2021-12-27</th>\n",
       "      <td>3393.389893</td>\n",
       "    </tr>\n",
       "    <tr>\n",
       "      <th>2021-12-28</th>\n",
       "      <td>3413.219971</td>\n",
       "    </tr>\n",
       "    <tr>\n",
       "      <th>2021-12-29</th>\n",
       "      <td>3384.020020</td>\n",
       "    </tr>\n",
       "    <tr>\n",
       "      <th>2021-12-30</th>\n",
       "      <td>3372.889893</td>\n",
       "    </tr>\n",
       "  </tbody>\n",
       "</table>\n",
       "<p>251 rows × 1 columns</p>\n",
       "</div>"
      ],
      "text/plain": [
       "                  Close\n",
       "Date                   \n",
       "2021-04-01  3186.629883\n",
       "2021-05-01  3218.510010\n",
       "2021-06-01  3138.379883\n",
       "2021-07-01  3162.159912\n",
       "2021-08-01  3182.699951\n",
       "...                 ...\n",
       "2021-12-23  3421.370117\n",
       "2021-12-27  3393.389893\n",
       "2021-12-28  3413.219971\n",
       "2021-12-29  3384.020020\n",
       "2021-12-30  3372.889893\n",
       "\n",
       "[251 rows x 1 columns]"
      ]
     },
     "execution_count": 17,
     "metadata": {},
     "output_type": "execute_result"
    }
   ],
   "source": [
    "df_ADF"
   ]
  },
  {
   "cell_type": "code",
   "execution_count": null,
   "metadata": {},
   "outputs": [
    {
     "ename": "KeyError",
     "evalue": "'Actual'",
     "output_type": "error",
     "traceback": [
      "\u001b[0;31m---------------------------------------------------------------------------\u001b[0m",
      "\u001b[0;31mKeyError\u001b[0m                                  Traceback (most recent call last)",
      "\u001b[0;32m~/opt/anaconda3/lib/python3.8/site-packages/pandas/core/indexes/base.py\u001b[0m in \u001b[0;36mget_loc\u001b[0;34m(self, key, method, tolerance)\u001b[0m\n\u001b[1;32m   3620\u001b[0m             \u001b[0;32mtry\u001b[0m\u001b[0;34m:\u001b[0m\u001b[0;34m\u001b[0m\u001b[0;34m\u001b[0m\u001b[0m\n\u001b[0;32m-> 3621\u001b[0;31m                 \u001b[0;32mreturn\u001b[0m \u001b[0mself\u001b[0m\u001b[0;34m.\u001b[0m\u001b[0m_engine\u001b[0m\u001b[0;34m.\u001b[0m\u001b[0mget_loc\u001b[0m\u001b[0;34m(\u001b[0m\u001b[0mcasted_key\u001b[0m\u001b[0;34m)\u001b[0m\u001b[0;34m\u001b[0m\u001b[0;34m\u001b[0m\u001b[0m\n\u001b[0m\u001b[1;32m   3622\u001b[0m             \u001b[0;32mexcept\u001b[0m \u001b[0mKeyError\u001b[0m \u001b[0;32mas\u001b[0m \u001b[0merr\u001b[0m\u001b[0;34m:\u001b[0m\u001b[0;34m\u001b[0m\u001b[0;34m\u001b[0m\u001b[0m\n",
      "\u001b[0;32m~/opt/anaconda3/lib/python3.8/site-packages/pandas/_libs/index.pyx\u001b[0m in \u001b[0;36mpandas._libs.index.IndexEngine.get_loc\u001b[0;34m()\u001b[0m\n",
      "\u001b[0;32m~/opt/anaconda3/lib/python3.8/site-packages/pandas/_libs/index.pyx\u001b[0m in \u001b[0;36mpandas._libs.index.IndexEngine.get_loc\u001b[0;34m()\u001b[0m\n",
      "\u001b[0;32mpandas/_libs/hashtable_class_helper.pxi\u001b[0m in \u001b[0;36mpandas._libs.hashtable.PyObjectHashTable.get_item\u001b[0;34m()\u001b[0m\n",
      "\u001b[0;32mpandas/_libs/hashtable_class_helper.pxi\u001b[0m in \u001b[0;36mpandas._libs.hashtable.PyObjectHashTable.get_item\u001b[0;34m()\u001b[0m\n",
      "\u001b[0;31mKeyError\u001b[0m: 'Actual'",
      "\nThe above exception was the direct cause of the following exception:\n",
      "\u001b[0;31mKeyError\u001b[0m                                  Traceback (most recent call last)",
      "\u001b[0;32m/var/folders/px/9knmf6z10c9gydqwyj0nmptc0000gn/T/ipykernel_51703/1437561431.py\u001b[0m in \u001b[0;36m<module>\u001b[0;34m\u001b[0m\n\u001b[0;32m----> 1\u001b[0;31m \u001b[0mdf_ADF\u001b[0m\u001b[0;34m[\u001b[0m\u001b[0;34m'Actual'\u001b[0m\u001b[0;34m]\u001b[0m \u001b[0;34m=\u001b[0m \u001b[0mdf_ADF\u001b[0m\u001b[0;34m[\u001b[0m\u001b[0;34m'Actual'\u001b[0m\u001b[0;34m]\u001b[0m\u001b[0;34m.\u001b[0m\u001b[0mdiff\u001b[0m\u001b[0;34m(\u001b[0m\u001b[0;34m)\u001b[0m\u001b[0;34m.\u001b[0m\u001b[0mdiff\u001b[0m\u001b[0;34m(\u001b[0m\u001b[0;34m)\u001b[0m\u001b[0;34m\u001b[0m\u001b[0;34m\u001b[0m\u001b[0m\n\u001b[0m\u001b[1;32m      2\u001b[0m \u001b[0mdf_ADF\u001b[0m \u001b[0;34m=\u001b[0m \u001b[0mdf\u001b[0m\u001b[0;34m.\u001b[0m\u001b[0mdrop\u001b[0m\u001b[0;34m(\u001b[0m\u001b[0mdf\u001b[0m\u001b[0;34m.\u001b[0m\u001b[0mindex\u001b[0m\u001b[0;34m[\u001b[0m\u001b[0;34m[\u001b[0m\u001b[0;36m0\u001b[0m\u001b[0;34m,\u001b[0m\u001b[0;36m1\u001b[0m\u001b[0;34m]\u001b[0m\u001b[0;34m]\u001b[0m\u001b[0;34m)\u001b[0m\u001b[0;34m\u001b[0m\u001b[0;34m\u001b[0m\u001b[0m\n\u001b[1;32m      3\u001b[0m \u001b[0mdf_ADF\u001b[0m\u001b[0;34m\u001b[0m\u001b[0;34m\u001b[0m\u001b[0m\n\u001b[1;32m      4\u001b[0m \u001b[0madf_check\u001b[0m\u001b[0;34m(\u001b[0m\u001b[0mdf\u001b[0m\u001b[0;34m)\u001b[0m\u001b[0;34m\u001b[0m\u001b[0;34m\u001b[0m\u001b[0m\n",
      "\u001b[0;32m~/opt/anaconda3/lib/python3.8/site-packages/pandas/core/frame.py\u001b[0m in \u001b[0;36m__getitem__\u001b[0;34m(self, key)\u001b[0m\n\u001b[1;32m   3503\u001b[0m             \u001b[0;32mif\u001b[0m \u001b[0mself\u001b[0m\u001b[0;34m.\u001b[0m\u001b[0mcolumns\u001b[0m\u001b[0;34m.\u001b[0m\u001b[0mnlevels\u001b[0m \u001b[0;34m>\u001b[0m \u001b[0;36m1\u001b[0m\u001b[0;34m:\u001b[0m\u001b[0;34m\u001b[0m\u001b[0;34m\u001b[0m\u001b[0m\n\u001b[1;32m   3504\u001b[0m                 \u001b[0;32mreturn\u001b[0m \u001b[0mself\u001b[0m\u001b[0;34m.\u001b[0m\u001b[0m_getitem_multilevel\u001b[0m\u001b[0;34m(\u001b[0m\u001b[0mkey\u001b[0m\u001b[0;34m)\u001b[0m\u001b[0;34m\u001b[0m\u001b[0;34m\u001b[0m\u001b[0m\n\u001b[0;32m-> 3505\u001b[0;31m             \u001b[0mindexer\u001b[0m \u001b[0;34m=\u001b[0m \u001b[0mself\u001b[0m\u001b[0;34m.\u001b[0m\u001b[0mcolumns\u001b[0m\u001b[0;34m.\u001b[0m\u001b[0mget_loc\u001b[0m\u001b[0;34m(\u001b[0m\u001b[0mkey\u001b[0m\u001b[0;34m)\u001b[0m\u001b[0;34m\u001b[0m\u001b[0;34m\u001b[0m\u001b[0m\n\u001b[0m\u001b[1;32m   3506\u001b[0m             \u001b[0;32mif\u001b[0m \u001b[0mis_integer\u001b[0m\u001b[0;34m(\u001b[0m\u001b[0mindexer\u001b[0m\u001b[0;34m)\u001b[0m\u001b[0;34m:\u001b[0m\u001b[0;34m\u001b[0m\u001b[0;34m\u001b[0m\u001b[0m\n\u001b[1;32m   3507\u001b[0m                 \u001b[0mindexer\u001b[0m \u001b[0;34m=\u001b[0m \u001b[0;34m[\u001b[0m\u001b[0mindexer\u001b[0m\u001b[0;34m]\u001b[0m\u001b[0;34m\u001b[0m\u001b[0;34m\u001b[0m\u001b[0m\n",
      "\u001b[0;32m~/opt/anaconda3/lib/python3.8/site-packages/pandas/core/indexes/base.py\u001b[0m in \u001b[0;36mget_loc\u001b[0;34m(self, key, method, tolerance)\u001b[0m\n\u001b[1;32m   3621\u001b[0m                 \u001b[0;32mreturn\u001b[0m \u001b[0mself\u001b[0m\u001b[0;34m.\u001b[0m\u001b[0m_engine\u001b[0m\u001b[0;34m.\u001b[0m\u001b[0mget_loc\u001b[0m\u001b[0;34m(\u001b[0m\u001b[0mcasted_key\u001b[0m\u001b[0;34m)\u001b[0m\u001b[0;34m\u001b[0m\u001b[0;34m\u001b[0m\u001b[0m\n\u001b[1;32m   3622\u001b[0m             \u001b[0;32mexcept\u001b[0m \u001b[0mKeyError\u001b[0m \u001b[0;32mas\u001b[0m \u001b[0merr\u001b[0m\u001b[0;34m:\u001b[0m\u001b[0;34m\u001b[0m\u001b[0;34m\u001b[0m\u001b[0m\n\u001b[0;32m-> 3623\u001b[0;31m                 \u001b[0;32mraise\u001b[0m \u001b[0mKeyError\u001b[0m\u001b[0;34m(\u001b[0m\u001b[0mkey\u001b[0m\u001b[0;34m)\u001b[0m \u001b[0;32mfrom\u001b[0m \u001b[0merr\u001b[0m\u001b[0;34m\u001b[0m\u001b[0;34m\u001b[0m\u001b[0m\n\u001b[0m\u001b[1;32m   3624\u001b[0m             \u001b[0;32mexcept\u001b[0m \u001b[0mTypeError\u001b[0m\u001b[0;34m:\u001b[0m\u001b[0;34m\u001b[0m\u001b[0;34m\u001b[0m\u001b[0m\n\u001b[1;32m   3625\u001b[0m                 \u001b[0;31m# If we have a listlike key, _check_indexing_error will raise\u001b[0m\u001b[0;34m\u001b[0m\u001b[0;34m\u001b[0m\u001b[0;34m\u001b[0m\u001b[0m\n",
      "\u001b[0;31mKeyError\u001b[0m: 'Actual'"
     ]
    }
   ],
   "source": [
    "df_ADF['Actual'] = df_ADF['Actual'].diff().diff()\n",
    "df_ADF = df.drop(df.index[[0,1]])\n",
    "df_ADF\n",
    "adf_check(df)"
   ]
  },
  {
   "cell_type": "markdown",
   "metadata": {},
   "source": [
    "# GARCH for Volatility Prediction"
   ]
  },
  {
   "cell_type": "markdown",
   "metadata": {},
   "source": [
    "## Read Data"
   ]
  },
  {
   "cell_type": "code",
   "execution_count": null,
   "metadata": {},
   "outputs": [],
   "source": [
    "import pandas_datareader.data as web\n",
    "from datetime import datetime, timedelta\n",
    "import pandas as pd\n",
    "import matplotlib.pyplot as plt\n",
    "from arch import arch_model\n",
    "from statsmodels.graphics.tsaplots import plot_acf, plot_pacf\n",
    "import numpy as np"
   ]
  },
  {
   "cell_type": "markdown",
   "metadata": {},
   "source": [
    "# Case study: Apple stock price"
   ]
  },
  {
   "cell_type": "code",
   "execution_count": null,
   "metadata": {},
   "outputs": [],
   "source": [
    "# set the start date and the end date you would like to study\n",
    "# start = datetime(\"2010-01-01\")\n",
    "# end = datetime(\"2020-06-10\")\n",
    "start = \"2010-01-01\"\n",
    "end = \"2020-06-10\""
   ]
  },
  {
   "cell_type": "code",
   "execution_count": null,
   "metadata": {},
   "outputs": [],
   "source": [
    "# extract data from various Internet sources into a pandas DataFrame.\n",
    "# Not limited with finance data from Yahoo, it provides other popular data sources (e.g., world bank, Naver).\n",
    "# See details: https://pandas-datareader.readthedocs.io/en/latest/remote_data.html\n",
    "amzn = web.DataReader('AMZN', 'yahoo', start=start, end=end)"
   ]
  },
  {
   "cell_type": "code",
   "execution_count": null,
   "metadata": {},
   "outputs": [],
   "source": [
    "# calculate volatility of returns by the function pct_change()\n",
    "# For more details about why view percentage change as volatility: https://finance.zacks.com/price-change-vs-volatility-7592.html\n",
    "returns = 100 * amzn.Actual.pct_change().dropna()"
   ]
  },
  {
   "cell_type": "code",
   "execution_count": null,
   "metadata": {},
   "outputs": [
    {
     "data": {
      "text/plain": [
       "Text(0.5, 1.0, 'AMZN Returns')"
      ]
     },
     "execution_count": 53,
     "metadata": {},
     "output_type": "execute_result"
    },
    {
     "data": {
      "image/png": "[encoded data removed]",
      "text/plain": [
       "<Figure size 720x288 with 1 Axes>"
      ]
     },
     "metadata": {
      "needs_background": "light"
     },
     "output_type": "display_data"
    }
   ],
   "source": [
    "# visualise PCT return that is the percentage change from the immediately previous row by default\n",
    "plt.figure(figsize=(10,4))\n",
    "plt.plot(returns)\n",
    "plt.ylabel('Pct Return', fontsize=16)\n",
    "plt.title('AMZN Returns', fontsize=20)"
   ]
  },
  {
   "cell_type": "markdown",
   "metadata": {},
   "source": [
    "## PACF"
   ]
  },
  {
   "cell_type": "code",
   "execution_count": null,
   "metadata": {},
   "outputs": [
    {
     "data": {
      "image/png": "[encoded data removed]",
      "text/plain": [
       "<Figure size 432x288 with 1 Axes>"
      ]
     },
     "metadata": {
      "needs_background": "light"
     },
     "output_type": "display_data"
    }
   ],
   "source": [
    "# calculate the PACF with the variance of return as an input\n",
    "plot_pacf(returns**2, method='ywm')\n",
    "plt.show()"
   ]
  },
  {
   "cell_type": "markdown",
   "metadata": {},
   "source": [
    "## Fit GARCH(3,3)"
   ]
  },
  {
   "cell_type": "code",
   "execution_count": null,
   "metadata": {},
   "outputs": [],
   "source": [
    "# A GARCH model subsumes ARCH models, where a GARCH(0, q) is equivalent to an ARCH(q) model.\n",
    "model = arch_model(returns, p=3, q=3)"
   ]
  },
  {
   "cell_type": "code",
   "execution_count": null,
   "metadata": {},
   "outputs": [
    {
     "name": "stdout",
     "output_type": "stream",
     "text": [
      "Iteration:      1,   Func. Count:     10,   Neg. LLF: 12669.536095491876\n",
      "Iteration:      2,   Func. Count:     22,   Neg. LLF: 1857669.898831361\n",
      "Iteration:      3,   Func. Count:     32,   Neg. LLF: 5702.381854289319\n",
      "Iteration:      4,   Func. Count:     43,   Neg. LLF: 5647.017863413162\n",
      "Iteration:      5,   Func. Count:     53,   Neg. LLF: 5613.460840005607\n",
      "Iteration:      6,   Func. Count:     63,   Neg. LLF: 5412.480744187382\n",
      "Iteration:      7,   Func. Count:     73,   Neg. LLF: 5585.778343354617\n",
      "Iteration:      8,   Func. Count:     83,   Neg. LLF: 5408.580696405868\n",
      "Iteration:      9,   Func. Count:     93,   Neg. LLF: 5457.619922157221\n",
      "Iteration:     10,   Func. Count:    103,   Neg. LLF: 5415.194605360837\n",
      "Iteration:     11,   Func. Count:    113,   Neg. LLF: 5401.02758106496\n",
      "Iteration:     12,   Func. Count:    122,   Neg. LLF: 5408.721382683436\n",
      "Iteration:     13,   Func. Count:    132,   Neg. LLF: 5401.2866054897395\n",
      "Iteration:     14,   Func. Count:    142,   Neg. LLF: 5400.285086214625\n",
      "Iteration:     15,   Func. Count:    151,   Neg. LLF: 5400.283143606763\n",
      "Iteration:     16,   Func. Count:    160,   Neg. LLF: 5400.281949652112\n",
      "Iteration:     17,   Func. Count:    169,   Neg. LLF: 5400.275869637911\n",
      "Iteration:     18,   Func. Count:    178,   Neg. LLF: 5400.275161445164\n",
      "Iteration:     19,   Func. Count:    187,   Neg. LLF: 5400.274628354913\n",
      "Iteration:     20,   Func. Count:    196,   Neg. LLF: 5400.274620465312\n",
      "Iteration:     21,   Func. Count:    205,   Neg. LLF: 5400.274618553491\n",
      "Iteration:     22,   Func. Count:    214,   Neg. LLF: 5400.274615435128\n",
      "Iteration:     23,   Func. Count:    222,   Neg. LLF: 5400.274615435132\n",
      "Optimization terminated successfully    (Exit mode 0)\n",
      "            Current function value: 5400.274615435128\n",
      "            Iterations: 23\n",
      "            Function evaluations: 222\n",
      "            Gradient evaluations: 23\n"
     ]
    }
   ],
   "source": [
    "model_fit = model.fit()"
   ]
  },
  {
   "cell_type": "code",
   "execution_count": null,
   "metadata": {},
   "outputs": [
    {
     "data": {
      "text/html": [
       "<table class=\"simpletable\">\n",
       "<caption>Constant Mean - GARCH Model Results</caption>\n",
       "<tr>\n",
       "  <th>Dep. Variable:</th>        <td>Close</td>       <th>  R-squared:         </th>  <td>   0.000</td> \n",
       "</tr>\n",
       "<tr>\n",
       "  <th>Mean Model:</th>       <td>Constant Mean</td>   <th>  Adj. R-squared:    </th>  <td>   0.000</td> \n",
       "</tr>\n",
       "<tr>\n",
       "  <th>Vol Model:</th>            <td>GARCH</td>       <th>  Log-Likelihood:    </th> <td>  -5400.27</td>\n",
       "</tr>\n",
       "<tr>\n",
       "  <th>Distribution:</th>        <td>Normal</td>       <th>  AIC:               </th> <td>   10816.5</td>\n",
       "</tr>\n",
       "<tr>\n",
       "  <th>Method:</th>        <td>Maximum Likelihood</td> <th>  BIC:               </th> <td>   10863.5</td>\n",
       "</tr>\n",
       "<tr>\n",
       "  <th></th>                        <td></td>          <th>  No. Observations:  </th>    <td>2626</td>   \n",
       "</tr>\n",
       "<tr>\n",
       "  <th>Date:</th>           <td>Thu, Mar 03 2022</td>  <th>  Df Residuals:      </th>    <td>2625</td>   \n",
       "</tr>\n",
       "<tr>\n",
       "  <th>Time:</th>               <td>17:00:36</td>      <th>  Df Model:          </th>      <td>1</td>    \n",
       "</tr>\n",
       "</table>\n",
       "<table class=\"simpletable\">\n",
       "<caption>Mean Model</caption>\n",
       "<tr>\n",
       "   <td></td>     <th>coef</th>     <th>std err</th>      <th>t</th>       <th>P>|t|</th>    <th>95.0% Conf. Int.</th>  \n",
       "</tr>\n",
       "<tr>\n",
       "  <th>mu</th> <td>    0.1937</td> <td>5.261e-02</td> <td>    3.681</td> <td>2.322e-04</td> <td>[9.055e-02,  0.297]</td>\n",
       "</tr>\n",
       "</table>\n",
       "<table class=\"simpletable\">\n",
       "<caption>Volatility Model</caption>\n",
       "<tr>\n",
       "      <td></td>        <th>coef</th>     <th>std err</th>      <th>t</th>       <th>P>|t|</th>      <th>95.0% Conf. Int.</th>   \n",
       "</tr>\n",
       "<tr>\n",
       "  <th>omega</th>    <td>    0.6237</td> <td>    0.187</td> <td>    3.332</td> <td>8.611e-04</td>    <td>[  0.257,  0.991]</td>  \n",
       "</tr>\n",
       "<tr>\n",
       "  <th>alpha[1]</th> <td>    0.2316</td> <td>5.524e-02</td> <td>    4.192</td> <td>2.759e-05</td>    <td>[  0.123,  0.340]</td>  \n",
       "</tr>\n",
       "<tr>\n",
       "  <th>alpha[2]</th> <td>    0.0365</td> <td>    0.110</td> <td>    0.331</td> <td>    0.740</td>    <td>[ -0.179,  0.252]</td>  \n",
       "</tr>\n",
       "<tr>\n",
       "  <th>alpha[3]</th>   <td>0.0000</td>   <td>5.032e-02</td>   <td>0.000</td>   <td>    1.000</td> <td>[-9.863e-02,9.863e-02]</td>\n",
       "</tr>\n",
       "<tr>\n",
       "  <th>beta[1]</th>    <td>0.0000</td>   <td>    0.317</td>   <td>0.000</td>   <td>    1.000</td>    <td>[ -0.621,  0.621]</td>  \n",
       "</tr>\n",
       "<tr>\n",
       "  <th>beta[2]</th>    <td>0.0000</td>   <td>    0.168</td>   <td>0.000</td>   <td>    1.000</td>    <td>[ -0.329,  0.329]</td>  \n",
       "</tr>\n",
       "<tr>\n",
       "  <th>beta[3]</th>  <td>    0.6091</td> <td>    0.365</td> <td>    1.670</td> <td>9.486e-02</td>    <td>[ -0.106,  1.324]</td>  \n",
       "</tr>\n",
       "</table><br/><br/>Covariance estimator: robust"
      ],
      "text/plain": [
       "<class 'statsmodels.iolib.summary.Summary'>\n",
       "\"\"\"\n",
       "                     Constant Mean - GARCH Model Results                      \n",
       "==============================================================================\n",
       "Dep. Variable:                  Close   R-squared:                       0.000\n",
       "Mean Model:             Constant Mean   Adj. R-squared:                  0.000\n",
       "Vol Model:                      GARCH   Log-Likelihood:               -5400.27\n",
       "Distribution:                  Normal   AIC:                           10816.5\n",
       "Method:            Maximum Likelihood   BIC:                           10863.5\n",
       "                                        No. Observations:                 2626\n",
       "Date:                Thu, Mar 03 2022   Df Residuals:                     2625\n",
       "Time:                        17:00:36   Df Model:                            1\n",
       "                                Mean Model                                \n",
       "==========================================================================\n",
       "                 coef    std err          t      P>|t|    95.0% Conf. Int.\n",
       "--------------------------------------------------------------------------\n",
       "mu             0.1937  5.261e-02      3.681  2.322e-04 [9.055e-02,  0.297]\n",
       "                               Volatility Model                              \n",
       "=============================================================================\n",
       "                 coef    std err          t      P>|t|       95.0% Conf. Int.\n",
       "-----------------------------------------------------------------------------\n",
       "omega          0.6237      0.187      3.332  8.611e-04      [  0.257,  0.991]\n",
       "alpha[1]       0.2316  5.524e-02      4.192  2.759e-05      [  0.123,  0.340]\n",
       "alpha[2]       0.0365      0.110      0.331      0.740      [ -0.179,  0.252]\n",
       "alpha[3]       0.0000  5.032e-02      0.000      1.000 [-9.863e-02,9.863e-02]\n",
       "beta[1]        0.0000      0.317      0.000      1.000      [ -0.621,  0.621]\n",
       "beta[2]        0.0000      0.168      0.000      1.000      [ -0.329,  0.329]\n",
       "beta[3]        0.6091      0.365      1.670  9.486e-02      [ -0.106,  1.324]\n",
       "=============================================================================\n",
       "\n",
       "Covariance estimator: robust\n",
       "\"\"\""
      ]
     },
     "execution_count": 57,
     "metadata": {},
     "output_type": "execute_result"
    }
   ],
   "source": [
    "model_fit.summary()"
   ]
  },
  {
   "cell_type": "markdown",
   "metadata": {},
   "source": [
    "# How to use the model"
   ]
  },
  {
   "cell_type": "code",
   "execution_count": null,
   "metadata": {},
   "outputs": [],
   "source": [
    "train = returns\n",
    "model = arch_model(train, p=2, q=2)\n",
    "model_fit = model.fit(disp='off')"
   ]
  },
  {
   "cell_type": "code",
   "execution_count": null,
   "metadata": {},
   "outputs": [],
   "source": [
    "from arch.__future__ import reindexing\n",
    "pred = model_fit.forecast(horizon=7)\n",
    "future_dates = [returns.index[-1] + timedelta(days=i) for i in range(1,8)]\n",
    "pred = pd.Series(np.sqrt(pred.variance.values[-1,:]), index=future_dates)"
   ]
  },
  {
   "cell_type": "code",
   "execution_count": null,
   "metadata": {},
   "outputs": [
    {
     "data": {
      "text/plain": [
       "Text(0.5, 1.0, 'Volatility Prediction - Next 7 Days')"
      ]
     },
     "execution_count": 60,
     "metadata": {},
     "output_type": "execute_result"
    },
    {
     "data": {
      "image/png": "[encoded data removed]",
      "text/plain": [
       "<Figure size 720x288 with 1 Axes>"
      ]
     },
     "metadata": {
      "needs_background": "light"
     },
     "output_type": "display_data"
    }
   ],
   "source": [
    "plt.figure(figsize=(10,4))\n",
    "plt.plot(pred)\n",
    "plt.title('Volatility Prediction - Next 7 Days', fontsize=20)"
   ]
  },
  {
   "cell_type": "code",
   "execution_count": null,
   "metadata": {},
   "outputs": [],
   "source": []
  }
 ],
 "metadata": {
  "colab": {
   "authorship_tag": "ABX9TyMWfhj+QNF5qfMea3tyuvJl",
   "collapsed_sections": [
    "FNjoBztsQmjA",
    "uF7YAA-CUdJ5",
    "wYNmLLLaWCIg"
   ],
   "name": "ARIMA.ipynb",
   "provenance": []
  },
  "kernelspec": {
   "display_name": "Python 3 (ipykernel)",
   "language": "python",
   "name": "python3"
  },
  "language_info": {
   "codemirror_mode": {
    "name": "ipython",
    "version": 3
   },
   "file_extension": ".py",
   "mimetype": "text/x-python",
   "name": "python",
   "nbconvert_exporter": "python",
   "pygments_lexer": "ipython3",
   "version": "3.8.12"
  }
 },
 "nbformat": 4,
 "nbformat_minor": 1
}
