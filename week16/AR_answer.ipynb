{
 "cells": [
  {
   "cell_type": "markdown",
   "metadata": {},
   "source": [
    "# Autoregressive Model (AR)"
   ]
  },
  {
   "cell_type": "markdown",
   "metadata": {},
   "source": [
    "In this Notebook, we will focus on: 1) Partial autocorrection function; 2) AR completion from scratch."
   ]
  },
  {
   "cell_type": "markdown",
   "metadata": {},
   "source": [
    "Source: 1) https://machinelearningmastery.com/gentle-introduction-autocorrelation-partial-autocorrelation/; 2) https://timeseriesreasoning.com/contents/partial-auto-correlation/"
   ]
  },
  {
   "cell_type": "markdown",
   "metadata": {},
   "source": [
    "## Partial autocorrelation function"
   ]
  },
  {
   "cell_type": "markdown",
   "metadata": {},
   "source": [
    "A partial autocorrelation is a summary of the relationship between an observation in a time series with observations at prior time steps with the relationships of intervening observations removed."
   ]
  },
  {
   "cell_type": "markdown",
   "metadata": {},
   "source": [
    "The autocorrelation for an observation and an observation at a prior time step is comprised of both the direct correlation and indirect correlations. These indirect correlations are a linear function of the correlation of the observation, with observations at intervening time steps. We can define the PACF with lag 2 just described as"
   ]
  },
  {
   "cell_type": "markdown",
   "metadata": {},
   "source": [
    "$\\operatorname{PACF}\\left(\\boldsymbol{T}_{i}, \\boldsymbol{k}=\\mathbf{2}\\right)=\\frac{\\operatorname{Cov}\\left(T_{i}\\left|T_{(i-1)}, T_{(i-2)}\\right| T_{(i-1)}\\right)}{\\sigma_{T_{i} \\mid T_{(i-1)}} \\times \\sigma_{T_{(i-2)} \\mid T_{(i-1)}}}$"
   ]
  },
  {
   "cell_type": "code",
   "execution_count": 1,
   "metadata": {},
   "outputs": [],
   "source": [
    "import pandas as pd\n",
    "from sklearn import linear_model\n",
    "\n",
    "#Read the data into a pandas DataFrame and convert it to stationarity\n",
    "df = pd.read_csv('AAPL.csv', header=0, infer_datetime_format=True, parse_dates=[0], index_col=[0])\n",
    "df['Open_diff'] = df['Open'].diff().diff()"
   ]
  },
  {
   "cell_type": "code",
   "execution_count": 2,
   "metadata": {},
   "outputs": [],
   "source": [
    "#add two columns containing the LAG=1 and LAG=2 version of the data to the DataFrame\n",
    "df['T_(i-1)'] = df['Open_diff'].shift(1)\n",
    "df['T_(i-2)'] = df['Open_diff'].shift(2)"
   ]
  },
  {
   "cell_type": "code",
   "execution_count": 3,
   "metadata": {},
   "outputs": [],
   "source": [
    "#drop the top four rows as they contain NaNs after shifting\n",
    "df = df.drop(df.index[[0, 1, 2, 3]])"
   ]
  },
  {
   "cell_type": "code",
   "execution_count": 4,
   "metadata": {},
   "outputs": [],
   "source": [
    "#fit a linear regression model on T_i and T_i-1 and add it's predictions to the DataFrame as a new column\n",
    "lm = linear_model.LinearRegression()\n",
    "df_X = df[['T_(i-1)']] #Note the double brackets! [[]]\n",
    "df_y = df['Open_diff'] #Note the single brackets! []\n",
    "model = lm.fit(df_X,df_y)\n",
    "df['Predicted_T_i|T_(i-1)'] = lm.predict(df_X)"
   ]
  },
  {
   "cell_type": "code",
   "execution_count": 5,
   "metadata": {},
   "outputs": [],
   "source": [
    "#create the time series of residuals corresponding to the predictions of this model and add it to the DataFrame.\n",
    "# This gives us the first one of the two time series we need for calculating the PACF for X at LAG=2\n",
    "#Observed minus predicted\n",
    "df['Residual_T_i|T_(i-1)'] = df['Open_diff'] - df['Predicted_T_i|T_(i-1)']"
   ]
  },
  {
   "cell_type": "code",
   "execution_count": 6,
   "metadata": {},
   "outputs": [
    {
     "name": "stdout",
     "output_type": "stream",
     "text": [
      "-0.36584141912137275\n"
     ]
    }
   ],
   "source": [
    "# #repeat the above procedure to calculate the second time series of residuals\n",
    "lm = linear_model.LinearRegression()\n",
    "df_X = df[['T_(i-1)']] #Note the double brackets! [[]]\n",
    "df_y = df['T_(i-2)'] #Note the single brackets! []\n",
    "model = lm.fit(df_X,df_y)\n",
    "df['Predicted_T_(i-2)|T_(i-1)'] = lm.predict(df_X)\n",
    "#Observed minus predicted\n",
    "df['Residual_T_(i-2)|T_(i-1)'] = df['T_(i-2)'] - df['Predicted_T_(i-2)|T_(i-1)']\n",
    "\n",
    "#Finally, apply the formula for Pearson's r to the two time series of residuals to get the value of the PACF at LAG=2\n",
    "print(df.corr(method='pearson')['Residual_T_i|T_(i-1)']['Residual_T_(i-2)|T_(i-1)'])"
   ]
  },
  {
   "cell_type": "code",
   "execution_count": 7,
   "metadata": {},
   "outputs": [
    {
     "name": "stdout",
     "output_type": "stream",
     "text": [
      "-0.36739845448527164\n"
     ]
    },
    {
     "name": "stderr",
     "output_type": "stream",
     "text": [
      "/Users/Cam/opt/anaconda3/lib/python3.8/site-packages/statsmodels/tsa/base/tsa_model.py:7: FutureWarning: pandas.Int64Index is deprecated and will be removed from pandas in a future version. Use pandas.Index with the appropriate dtype instead.\n",
      "  from pandas import (to_datetime, Int64Index, DatetimeIndex, Period,\n",
      "/Users/Cam/opt/anaconda3/lib/python3.8/site-packages/statsmodels/tsa/base/tsa_model.py:7: FutureWarning: pandas.Float64Index is deprecated and will be removed from pandas in a future version. Use pandas.Index with the appropriate dtype instead.\n",
      "  from pandas import (to_datetime, Int64Index, DatetimeIndex, Period,\n"
     ]
    }
   ],
   "source": [
    "#or cheat, we can use a Python library statsmodels to calculate PACF\n",
    "from statsmodels.tsa.stattools import pacf\n",
    "print(pacf(df['Open_diff'], nlags=2)[2])"
   ]
  },
  {
   "cell_type": "markdown",
   "metadata": {},
   "source": [
    "## AR completion from scratch."
   ]
  },
  {
   "cell_type": "markdown",
   "metadata": {},
   "source": [
    "In this part, we use AR model to predict Apple's stock price. Again, the data is from Apple.Inc (one year: from 28/Dec/2020 to 27/Dec/2021). In order to help you gain the insights of AR model, instead of using exsiting Python Statsmodels library (https://www.statsmodels.org/dev/generated/statsmodels.tsa.ar_model.AutoReg.html), I tend to show an example to implement AR from scratch. Addtionally, you can use this Statsmodels library to test performance by yourself. "
   ]
  },
  {
   "cell_type": "code",
   "execution_count": 8,
   "metadata": {
    "colab": {},
    "colab_type": "code",
    "id": "biQmKhWqPyMW"
   },
   "outputs": [],
   "source": [
    "import numpy as np\n",
    "import pandas as pd\n",
    "import matplotlib.pyplot as plt\n",
    "import seaborn as sns\n",
    "from sklearn.metrics import mean_squared_error\n",
    "from statsmodels.tsa.stattools import adfuller\n",
    "from statsmodels.graphics.tsaplots import plot_acf,plot_pacf\n",
    "pd.options.mode.chained_assignment = None  # default='warn'"
   ]
  },
  {
   "cell_type": "code",
   "execution_count": 9,
   "metadata": {
    "colab": {},
    "colab_type": "code",
    "id": "Ifs_2NXSPz3p"
   },
   "outputs": [],
   "source": [
    "df=pd.read_csv('AAPL.csv', parse_dates=['Date'], index_col=['Date'], dayfirst=True)\n",
    "df.columns=['Open']"
   ]
  },
  {
   "cell_type": "code",
   "execution_count": 10,
   "metadata": {
    "colab": {
     "base_uri": "https://localhost:8080/",
     "height": 455
    },
    "colab_type": "code",
    "id": "uDoQ3iFQP2Vk",
    "outputId": "803f1514-2c5f-48a2-d9cc-084a2c0c8944"
   },
   "outputs": [
    {
     "data": {
      "text/html": [
       "<div>\n",
       "<style scoped>\n",
       "    .dataframe tbody tr th:only-of-type {\n",
       "        vertical-align: middle;\n",
       "    }\n",
       "\n",
       "    .dataframe tbody tr th {\n",
       "        vertical-align: top;\n",
       "    }\n",
       "\n",
       "    .dataframe thead th {\n",
       "        text-align: right;\n",
       "    }\n",
       "</style>\n",
       "<table border=\"1\" class=\"dataframe\">\n",
       "  <thead>\n",
       "    <tr style=\"text-align: right;\">\n",
       "      <th></th>\n",
       "      <th>Open</th>\n",
       "    </tr>\n",
       "    <tr>\n",
       "      <th>Date</th>\n",
       "      <th></th>\n",
       "    </tr>\n",
       "  </thead>\n",
       "  <tbody>\n",
       "    <tr>\n",
       "      <th>2020-12-28</th>\n",
       "      <td>133.990005</td>\n",
       "    </tr>\n",
       "    <tr>\n",
       "      <th>2020-12-29</th>\n",
       "      <td>138.050003</td>\n",
       "    </tr>\n",
       "    <tr>\n",
       "      <th>2020-12-30</th>\n",
       "      <td>135.580002</td>\n",
       "    </tr>\n",
       "    <tr>\n",
       "      <th>2020-12-31</th>\n",
       "      <td>134.080002</td>\n",
       "    </tr>\n",
       "    <tr>\n",
       "      <th>2021-01-04</th>\n",
       "      <td>133.520004</td>\n",
       "    </tr>\n",
       "    <tr>\n",
       "      <th>...</th>\n",
       "      <td>...</td>\n",
       "    </tr>\n",
       "    <tr>\n",
       "      <th>2021-12-20</th>\n",
       "      <td>168.279999</td>\n",
       "    </tr>\n",
       "    <tr>\n",
       "      <th>2021-12-21</th>\n",
       "      <td>171.559998</td>\n",
       "    </tr>\n",
       "    <tr>\n",
       "      <th>2021-12-22</th>\n",
       "      <td>173.039993</td>\n",
       "    </tr>\n",
       "    <tr>\n",
       "      <th>2021-12-23</th>\n",
       "      <td>175.850006</td>\n",
       "    </tr>\n",
       "    <tr>\n",
       "      <th>2021-12-27</th>\n",
       "      <td>177.085007</td>\n",
       "    </tr>\n",
       "  </tbody>\n",
       "</table>\n",
       "<p>252 rows × 1 columns</p>\n",
       "</div>"
      ],
      "text/plain": [
       "                  Open\n",
       "Date                  \n",
       "2020-12-28  133.990005\n",
       "2020-12-29  138.050003\n",
       "2020-12-30  135.580002\n",
       "2020-12-31  134.080002\n",
       "2021-01-04  133.520004\n",
       "...                ...\n",
       "2021-12-20  168.279999\n",
       "2021-12-21  171.559998\n",
       "2021-12-22  173.039993\n",
       "2021-12-23  175.850006\n",
       "2021-12-27  177.085007\n",
       "\n",
       "[252 rows x 1 columns]"
      ]
     },
     "execution_count": 10,
     "metadata": {},
     "output_type": "execute_result"
    }
   ],
   "source": [
    "df"
   ]
  },
  {
   "cell_type": "markdown",
   "metadata": {
    "colab_type": "text",
    "id": "XLeda3SzN_xQ"
   },
   "source": [
    "### Equation for AR model : <br>\n",
    "$Y_{t}=c+\\sum_{i=1}^{p} \\varphi_{i} Y_{t-i}+\\varepsilon_{t}=c+\\varphi_{1} Y_{t-1}+\\varphi_{2} Y_{t-2}+\\ldots \\ldots \\ldots \\ldots \\ldots+\\varphi_{p} Y_{t-p}+\\varepsilon_{t}$"
   ]
  },
  {
   "cell_type": "code",
   "execution_count": 11,
   "metadata": {
    "colab": {},
    "colab_type": "code",
    "id": "5aAFRsagP3AE"
   },
   "outputs": [],
   "source": [
    "def AR(p,df):\n",
    "  df_temp = df\n",
    "\n",
    "  #Generating the lagged p terms\n",
    "  for i in range(1,p+1):\n",
    "    df_temp['Shifted_values_%d' % i ] = df_temp['Open'].shift(i)\n",
    "\n",
    "  train_size = (int)(0.8 * df_temp.shape[0])\n",
    "\n",
    "  #Breaking data set into test and training\n",
    "  df_train = pd.DataFrame(df_temp[0:train_size])\n",
    "  df_test = pd.DataFrame(df_temp[train_size:df.shape[0]])\n",
    "\n",
    "  df_train_2 = df_train.dropna()\n",
    "  #X contains the lagged values ,hence we skip the first column\n",
    "  X_train = df_train_2.iloc[:,1:].values.reshape(-1,p)\n",
    "  #Y contains the value,it is the first column\n",
    "  y_train = df_train_2.iloc[:,0].values.reshape(-1,1)\n",
    "\n",
    "  #Running linear regression to generate the coefficents of lagged terms\n",
    "  from sklearn.linear_model import LinearRegression\n",
    "  lr = LinearRegression()\n",
    "  lr.fit(X_train,y_train)\n",
    "\n",
    "  theta  = lr.coef_.T\n",
    "  intercept = lr.intercept_\n",
    "  df_train_2['Predicted_Values'] = X_train.dot(lr.coef_.T) + lr.intercept_\n",
    "  # df_train_2[['Value','Predicted_Values']].plot()\n",
    "\n",
    "  X_test = df_test.iloc[:,1:].values.reshape(-1,p)\n",
    "  df_test['Predicted_Values'] = X_test.dot(lr.coef_.T) + lr.intercept_\n",
    "  # df_test[['Value','Predicted_Values']].plot()\n",
    "\n",
    "  RMSE = np.sqrt(mean_squared_error(df_test['Open'], df_test['Predicted_Values']))\n",
    "\n",
    "  print(\"The RMSE is :\", RMSE,\", Value of p : \",p)\n",
    "  return [df_train_2,df_test,theta,intercept,RMSE]"
   ]
  },
  {
   "cell_type": "code",
   "execution_count": 12,
   "metadata": {
    "colab": {
     "base_uri": "https://localhost:8080/",
     "height": 545
    },
    "colab_type": "code",
    "id": "PRz2JCzORp1_",
    "outputId": "22f0fea8-ce3d-4e7c-8415-e543d670797a"
   },
   "outputs": [
    {
     "data": {
      "image/png": "[encoded data removed]",
      "text/plain": [
       "<Figure size 432x288 with 1 Axes>"
      ]
     },
     "metadata": {
      "needs_background": "light"
     },
     "output_type": "display_data"
    },
    {
     "data": {
      "image/png": "[encoded data removed]",
      "text/plain": [
       "<Figure size 432x288 with 1 Axes>"
      ]
     },
     "metadata": {
      "needs_background": "light"
     },
     "output_type": "display_data"
    }
   ],
   "source": [
    "ACF = plot_acf(df.Open.dropna(),lags=25)\n",
    "# with the PACF, we can figure out how many lags we need in the AR model.\n",
    "PACF = plot_pacf(df.Open.dropna(),lags=25)"
   ]
  },
  {
   "cell_type": "markdown",
   "metadata": {},
   "source": [
    "From the above figure of PACF, we can use 3 as the lag number."
   ]
  },
  {
   "cell_type": "code",
   "execution_count": 13,
   "metadata": {},
   "outputs": [],
   "source": [
    "lag_num = 2"
   ]
  },
  {
   "cell_type": "markdown",
   "metadata": {
    "colab_type": "text",
    "id": "uF7YAA-CUdJ5"
   },
   "source": [
    "#Step 2 : Fitting AR Model"
   ]
  },
  {
   "cell_type": "markdown",
   "metadata": {
    "colab_type": "text",
    "id": "aidxF-s0MxBy"
   },
   "source": [
    "We calculate the error on the test-set for each p, and pick the best one."
   ]
  },
  {
   "cell_type": "code",
   "execution_count": 14,
   "metadata": {
    "colab": {
     "base_uri": "https://localhost:8080/",
     "height": 34
    },
    "colab_type": "code",
    "id": "oojOzVjJUu3A",
    "outputId": "14b5b1e4-88ae-4c59-af14-1ce113e568a6"
   },
   "outputs": [
    {
     "name": "stdout",
     "output_type": "stream",
     "text": [
      "The RMSE is : 3.2268222617815465 , Value of p :  2\n"
     ]
    }
   ],
   "source": [
    "[df_train,df_test,theta,intercept,RMSE] = AR(lag_num,pd.DataFrame(df.Open))"
   ]
  },
  {
   "cell_type": "code",
   "execution_count": 15,
   "metadata": {
    "colab": {
     "base_uri": "https://localhost:8080/",
     "height": 296
    },
    "colab_type": "code",
    "id": "sHeygqNmUzTa",
    "outputId": "272b300d-afaa-487c-d3c6-27094fd1421a"
   },
   "outputs": [
    {
     "data": {
      "text/plain": [
       "<AxesSubplot:xlabel='Date'>"
      ]
     },
     "execution_count": 15,
     "metadata": {},
     "output_type": "execute_result"
    },
    {
     "data": {
      "image/png": "[encoded data removed]",
      "text/plain": [
       "<Figure size 432x288 with 1 Axes>"
      ]
     },
     "metadata": {
      "needs_background": "light"
     },
     "output_type": "display_data"
    }
   ],
   "source": [
    "df_train[['Open','Predicted_Values']].plot()"
   ]
  },
  {
   "cell_type": "code",
   "execution_count": 16,
   "metadata": {},
   "outputs": [
    {
     "data": {
      "text/plain": [
       "<AxesSubplot:xlabel='Date'>"
      ]
     },
     "execution_count": 16,
     "metadata": {},
     "output_type": "execute_result"
    },
    {
     "data": {
      "image/png": "[encoded data removed]",
      "text/plain": [
       "<Figure size 432x288 with 1 Axes>"
      ]
     },
     "metadata": {
      "needs_background": "light"
     },
     "output_type": "display_data"
    }
   ],
   "source": [
    "df_test[['Open','Predicted_Values']].plot()"
   ]
  },
  {
   "cell_type": "code",
   "execution_count": null,
   "metadata": {},
   "outputs": [],
   "source": []
  }
 ],
 "metadata": {
  "colab": {
   "authorship_tag": "ABX9TyMWfhj+QNF5qfMea3tyuvJl",
   "collapsed_sections": [
    "FNjoBztsQmjA",
    "uF7YAA-CUdJ5",
    "wYNmLLLaWCIg"
   ],
   "name": "ARIMA.ipynb",
   "provenance": []
  },
  "kernelspec": {
   "display_name": "Python 3 (ipykernel)",
   "language": "python",
   "name": "python3"
  },
  "language_info": {
   "codemirror_mode": {
    "name": "ipython",
    "version": 3
   },
   "file_extension": ".py",
   "mimetype": "text/x-python",
   "name": "python",
   "nbconvert_exporter": "python",
   "pygments_lexer": "ipython3",
   "version": "3.8.12"
  }
 },
 "nbformat": 4,
 "nbformat_minor": 1
}
