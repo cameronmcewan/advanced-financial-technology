{
 "cells": [
  {
   "cell_type": "markdown",
   "metadata": {},
   "source": [
    "# Moving Average, Augmented Dicky Fuller Test, GARCH"
   ]
  },
  {
   "cell_type": "markdown",
   "metadata": {},
   "source": [
    "In this Notebook, we will focus on: 1) Moving average model; 2) ADFT; 3) GARCH"
   ]
  },
  {
   "cell_type": "markdown",
   "metadata": {},
   "source": [
    "## Moving Average (MA)"
   ]
  },
  {
   "cell_type": "markdown",
   "metadata": {},
   "source": [
    "In this part, we use AR model to predict Apple's stock price. Again, the data is from Apple.Inc (one year: from 28/Dec/2020 to 27/Dec/2021). In order to help you gain the insights of AR model, instead of using exsiting Python Statsmodels library (https://www.statsmodels.org/dev/generated/statsmodels.tsa.ar_model.AutoReg.html), I tend to show an example to implement AR from scratch. Addtionally, you can use this Statsmodels library to test performance by yourself. "
   ]
  },
  {
   "cell_type": "code",
   "execution_count": 30,
   "metadata": {
    "colab": {},
    "colab_type": "code",
    "id": "biQmKhWqPyMW"
   },
   "outputs": [],
   "source": [
    "import numpy as np\n",
    "import pandas as pd\n",
    "import matplotlib.pyplot as plt\n",
    "import seaborn as sns\n",
    "from sklearn.metrics import mean_squared_error\n",
    "from statsmodels.tsa.stattools import adfuller\n",
    "from statsmodels.graphics.tsaplots import plot_acf,plot_pacf\n",
    "pd.options.mode.chained_assignment = None  # default='warn'"
   ]
  },
  {
   "cell_type": "code",
   "execution_count": 31,
   "metadata": {
    "colab": {},
    "colab_type": "code",
    "id": "Ifs_2NXSPz3p"
   },
   "outputs": [
    {
     "data": {
      "text/html": [
       "<div>\n",
       "<style scoped>\n",
       "    .dataframe tbody tr th:only-of-type {\n",
       "        vertical-align: middle;\n",
       "    }\n",
       "\n",
       "    .dataframe tbody tr th {\n",
       "        vertical-align: top;\n",
       "    }\n",
       "\n",
       "    .dataframe thead th {\n",
       "        text-align: right;\n",
       "    }\n",
       "</style>\n",
       "<table border=\"1\" class=\"dataframe\">\n",
       "  <thead>\n",
       "    <tr style=\"text-align: right;\">\n",
       "      <th></th>\n",
       "      <th>Open</th>\n",
       "    </tr>\n",
       "    <tr>\n",
       "      <th>Date</th>\n",
       "      <th></th>\n",
       "    </tr>\n",
       "  </thead>\n",
       "  <tbody>\n",
       "    <tr>\n",
       "      <th>2020-12-28</th>\n",
       "      <td>133.990005</td>\n",
       "    </tr>\n",
       "    <tr>\n",
       "      <th>2020-12-29</th>\n",
       "      <td>138.050003</td>\n",
       "    </tr>\n",
       "    <tr>\n",
       "      <th>2020-12-30</th>\n",
       "      <td>135.580002</td>\n",
       "    </tr>\n",
       "    <tr>\n",
       "      <th>2020-12-31</th>\n",
       "      <td>134.080002</td>\n",
       "    </tr>\n",
       "    <tr>\n",
       "      <th>2021-01-04</th>\n",
       "      <td>133.520004</td>\n",
       "    </tr>\n",
       "    <tr>\n",
       "      <th>...</th>\n",
       "      <td>...</td>\n",
       "    </tr>\n",
       "    <tr>\n",
       "      <th>2021-12-20</th>\n",
       "      <td>168.279999</td>\n",
       "    </tr>\n",
       "    <tr>\n",
       "      <th>2021-12-21</th>\n",
       "      <td>171.559998</td>\n",
       "    </tr>\n",
       "    <tr>\n",
       "      <th>2021-12-22</th>\n",
       "      <td>173.039993</td>\n",
       "    </tr>\n",
       "    <tr>\n",
       "      <th>2021-12-23</th>\n",
       "      <td>175.850006</td>\n",
       "    </tr>\n",
       "    <tr>\n",
       "      <th>2021-12-27</th>\n",
       "      <td>177.085007</td>\n",
       "    </tr>\n",
       "  </tbody>\n",
       "</table>\n",
       "<p>252 rows × 1 columns</p>\n",
       "</div>"
      ],
      "text/plain": [
       "                  Open\n",
       "Date                  \n",
       "2020-12-28  133.990005\n",
       "2020-12-29  138.050003\n",
       "2020-12-30  135.580002\n",
       "2020-12-31  134.080002\n",
       "2021-01-04  133.520004\n",
       "...                ...\n",
       "2021-12-20  168.279999\n",
       "2021-12-21  171.559998\n",
       "2021-12-22  173.039993\n",
       "2021-12-23  175.850006\n",
       "2021-12-27  177.085007\n",
       "\n",
       "[252 rows x 1 columns]"
      ]
     },
     "execution_count": 31,
     "metadata": {},
     "output_type": "execute_result"
    }
   ],
   "source": [
    "df=pd.read_csv('AAPL.csv', parse_dates=['Date'], index_col=['Date'], dayfirst=True)\n",
    "df.columns=['Open']\n",
    "df"
   ]
  },
  {
   "cell_type": "code",
   "execution_count": 32,
   "metadata": {
    "colab": {},
    "colab_type": "code",
    "id": "5aAFRsagP3AE"
   },
   "outputs": [],
   "source": [
    "def AR(p,df):\n",
    "  df_temp = df\n",
    "\n",
    "  #Generating the lagged p terms\n",
    "  for i in range(1,p+1):\n",
    "    df_temp['Shifted_values_%d' % i ] = df_temp['Open'].shift(i)\n",
    "\n",
    "  train_size = (int)(0.8 * df_temp.shape[0])\n",
    "\n",
    "  #Breaking data set into test and training\n",
    "  df_train = pd.DataFrame(df_temp[0:train_size])\n",
    "  df_test = pd.DataFrame(df_temp[train_size:df.shape[0]])\n",
    "\n",
    "  df_train_2 = df_train.dropna()\n",
    "  #X contains the lagged values ,hence we skip the first column\n",
    "  X_train = df_train_2.iloc[:,1:].values.reshape(-1,p)\n",
    "  #Y contains the value,it is the first column\n",
    "  y_train = df_train_2.iloc[:,0].values.reshape(-1,1)\n",
    "\n",
    "  #Running linear regression to generate the coefficents of lagged terms\n",
    "  from sklearn.linear_model import LinearRegression\n",
    "  lr = LinearRegression()\n",
    "  lr.fit(X_train,y_train)\n",
    "\n",
    "  theta  = lr.coef_.T\n",
    "  intercept = lr.intercept_\n",
    "  df_train_2['Predicted_Values'] = X_train.dot(lr.coef_.T) + lr.intercept_\n",
    "  df_train_2[['Value','Predicted_Values']].plot()\n",
    "\n",
    "  X_test = df_test.iloc[:,1:].values.reshape(-1,p)\n",
    "  df_test['Predicted_Values'] = X_test.dot(lr.coef_.T) + lr.intercept_\n",
    "  df_test[['Value','Predicted_Values']].plot()\n",
    "\n",
    "  RMSE = np.sqrt(mean_squared_error(df_test['Open'], df_test['Predicted_Values']))\n",
    "\n",
    "  print(\"The RMSE is :\", RMSE,\", Value of p : \",p)\n",
    "  return [df_train_2,df_test,theta,intercept,RMSE]"
   ]
  },
  {
   "cell_type": "markdown",
   "metadata": {},
   "source": [
    "From the figure of PACF, we can use 2 as the lag number."
   ]
  },
  {
   "cell_type": "code",
   "execution_count": 33,
   "metadata": {},
   "outputs": [],
   "source": [
    "lag_num = 2"
   ]
  },
  {
   "cell_type": "markdown",
   "metadata": {
    "colab_type": "text",
    "id": "uF7YAA-CUdJ5"
   },
   "source": [
    "#Step 2 : Fitting AR Model"
   ]
  },
  {
   "cell_type": "markdown",
   "metadata": {
    "colab_type": "text",
    "id": "aidxF-s0MxBy"
   },
   "source": [
    "We calculate the error on the test-set for each p, and pick the best one."
   ]
  },
  {
   "cell_type": "code",
   "execution_count": 34,
   "metadata": {
    "colab": {
     "base_uri": "https://localhost:8080/",
     "height": 34
    },
    "colab_type": "code",
    "id": "oojOzVjJUu3A",
    "outputId": "14b5b1e4-88ae-4c59-af14-1ce113e568a6"
   },
   "outputs": [
    {
     "ename": "KeyError",
     "evalue": "\"['Value'] not in index\"",
     "output_type": "error",
     "traceback": [
      "\u001b[0;31m---------------------------------------------------------------------------\u001b[0m",
      "\u001b[0;31mKeyError\u001b[0m                                  Traceback (most recent call last)",
      "\u001b[0;32m/var/folders/px/9knmf6z10c9gydqwyj0nmptc0000gn/T/ipykernel_58695/336257247.py\u001b[0m in \u001b[0;36m<module>\u001b[0;34m\u001b[0m\n\u001b[0;32m----> 1\u001b[0;31m \u001b[0;34m[\u001b[0m\u001b[0mdf_train\u001b[0m\u001b[0;34m,\u001b[0m\u001b[0mdf_test\u001b[0m\u001b[0;34m,\u001b[0m\u001b[0mtheta\u001b[0m\u001b[0;34m,\u001b[0m\u001b[0mintercept\u001b[0m\u001b[0;34m,\u001b[0m\u001b[0mRMSE\u001b[0m\u001b[0;34m]\u001b[0m \u001b[0;34m=\u001b[0m \u001b[0mAR\u001b[0m\u001b[0;34m(\u001b[0m\u001b[0;36m2\u001b[0m\u001b[0;34m,\u001b[0m\u001b[0mpd\u001b[0m\u001b[0;34m.\u001b[0m\u001b[0mDataFrame\u001b[0m\u001b[0;34m(\u001b[0m\u001b[0mdf\u001b[0m\u001b[0;34m.\u001b[0m\u001b[0mOpen\u001b[0m\u001b[0;34m)\u001b[0m\u001b[0;34m)\u001b[0m\u001b[0;34m\u001b[0m\u001b[0;34m\u001b[0m\u001b[0m\n\u001b[0m",
      "\u001b[0;32m/var/folders/px/9knmf6z10c9gydqwyj0nmptc0000gn/T/ipykernel_58695/3225376043.py\u001b[0m in \u001b[0;36mAR\u001b[0;34m(p, df)\u001b[0m\n\u001b[1;32m     26\u001b[0m   \u001b[0mintercept\u001b[0m \u001b[0;34m=\u001b[0m \u001b[0mlr\u001b[0m\u001b[0;34m.\u001b[0m\u001b[0mintercept_\u001b[0m\u001b[0;34m\u001b[0m\u001b[0;34m\u001b[0m\u001b[0m\n\u001b[1;32m     27\u001b[0m   \u001b[0mdf_train_2\u001b[0m\u001b[0;34m[\u001b[0m\u001b[0;34m'Predicted_Values'\u001b[0m\u001b[0;34m]\u001b[0m \u001b[0;34m=\u001b[0m \u001b[0mX_train\u001b[0m\u001b[0;34m.\u001b[0m\u001b[0mdot\u001b[0m\u001b[0;34m(\u001b[0m\u001b[0mlr\u001b[0m\u001b[0;34m.\u001b[0m\u001b[0mcoef_\u001b[0m\u001b[0;34m.\u001b[0m\u001b[0mT\u001b[0m\u001b[0;34m)\u001b[0m \u001b[0;34m+\u001b[0m \u001b[0mlr\u001b[0m\u001b[0;34m.\u001b[0m\u001b[0mintercept_\u001b[0m\u001b[0;34m\u001b[0m\u001b[0;34m\u001b[0m\u001b[0m\n\u001b[0;32m---> 28\u001b[0;31m   \u001b[0mdf_train_2\u001b[0m\u001b[0;34m[\u001b[0m\u001b[0;34m[\u001b[0m\u001b[0;34m'Value'\u001b[0m\u001b[0;34m,\u001b[0m\u001b[0;34m'Predicted_Values'\u001b[0m\u001b[0;34m]\u001b[0m\u001b[0;34m]\u001b[0m\u001b[0;34m.\u001b[0m\u001b[0mplot\u001b[0m\u001b[0;34m(\u001b[0m\u001b[0;34m)\u001b[0m\u001b[0;34m\u001b[0m\u001b[0;34m\u001b[0m\u001b[0m\n\u001b[0m\u001b[1;32m     29\u001b[0m \u001b[0;34m\u001b[0m\u001b[0m\n\u001b[1;32m     30\u001b[0m   \u001b[0mX_test\u001b[0m \u001b[0;34m=\u001b[0m \u001b[0mdf_test\u001b[0m\u001b[0;34m.\u001b[0m\u001b[0miloc\u001b[0m\u001b[0;34m[\u001b[0m\u001b[0;34m:\u001b[0m\u001b[0;34m,\u001b[0m\u001b[0;36m1\u001b[0m\u001b[0;34m:\u001b[0m\u001b[0;34m]\u001b[0m\u001b[0;34m.\u001b[0m\u001b[0mvalues\u001b[0m\u001b[0;34m.\u001b[0m\u001b[0mreshape\u001b[0m\u001b[0;34m(\u001b[0m\u001b[0;34m-\u001b[0m\u001b[0;36m1\u001b[0m\u001b[0;34m,\u001b[0m\u001b[0mp\u001b[0m\u001b[0;34m)\u001b[0m\u001b[0;34m\u001b[0m\u001b[0;34m\u001b[0m\u001b[0m\n",
      "\u001b[0;32m~/opt/anaconda3/lib/python3.8/site-packages/pandas/core/frame.py\u001b[0m in \u001b[0;36m__getitem__\u001b[0;34m(self, key)\u001b[0m\n\u001b[1;32m   3509\u001b[0m             \u001b[0;32mif\u001b[0m \u001b[0mis_iterator\u001b[0m\u001b[0;34m(\u001b[0m\u001b[0mkey\u001b[0m\u001b[0;34m)\u001b[0m\u001b[0;34m:\u001b[0m\u001b[0;34m\u001b[0m\u001b[0;34m\u001b[0m\u001b[0m\n\u001b[1;32m   3510\u001b[0m                 \u001b[0mkey\u001b[0m \u001b[0;34m=\u001b[0m \u001b[0mlist\u001b[0m\u001b[0;34m(\u001b[0m\u001b[0mkey\u001b[0m\u001b[0;34m)\u001b[0m\u001b[0;34m\u001b[0m\u001b[0;34m\u001b[0m\u001b[0m\n\u001b[0;32m-> 3511\u001b[0;31m             \u001b[0mindexer\u001b[0m \u001b[0;34m=\u001b[0m \u001b[0mself\u001b[0m\u001b[0;34m.\u001b[0m\u001b[0mcolumns\u001b[0m\u001b[0;34m.\u001b[0m\u001b[0m_get_indexer_strict\u001b[0m\u001b[0;34m(\u001b[0m\u001b[0mkey\u001b[0m\u001b[0;34m,\u001b[0m \u001b[0;34m\"columns\"\u001b[0m\u001b[0;34m)\u001b[0m\u001b[0;34m[\u001b[0m\u001b[0;36m1\u001b[0m\u001b[0;34m]\u001b[0m\u001b[0;34m\u001b[0m\u001b[0;34m\u001b[0m\u001b[0m\n\u001b[0m\u001b[1;32m   3512\u001b[0m \u001b[0;34m\u001b[0m\u001b[0m\n\u001b[1;32m   3513\u001b[0m         \u001b[0;31m# take() does not accept boolean indexers\u001b[0m\u001b[0;34m\u001b[0m\u001b[0;34m\u001b[0m\u001b[0;34m\u001b[0m\u001b[0m\n",
      "\u001b[0;32m~/opt/anaconda3/lib/python3.8/site-packages/pandas/core/indexes/base.py\u001b[0m in \u001b[0;36m_get_indexer_strict\u001b[0;34m(self, key, axis_name)\u001b[0m\n\u001b[1;32m   5780\u001b[0m             \u001b[0mkeyarr\u001b[0m\u001b[0;34m,\u001b[0m \u001b[0mindexer\u001b[0m\u001b[0;34m,\u001b[0m \u001b[0mnew_indexer\u001b[0m \u001b[0;34m=\u001b[0m \u001b[0mself\u001b[0m\u001b[0;34m.\u001b[0m\u001b[0m_reindex_non_unique\u001b[0m\u001b[0;34m(\u001b[0m\u001b[0mkeyarr\u001b[0m\u001b[0;34m)\u001b[0m\u001b[0;34m\u001b[0m\u001b[0;34m\u001b[0m\u001b[0m\n\u001b[1;32m   5781\u001b[0m \u001b[0;34m\u001b[0m\u001b[0m\n\u001b[0;32m-> 5782\u001b[0;31m         \u001b[0mself\u001b[0m\u001b[0;34m.\u001b[0m\u001b[0m_raise_if_missing\u001b[0m\u001b[0;34m(\u001b[0m\u001b[0mkeyarr\u001b[0m\u001b[0;34m,\u001b[0m \u001b[0mindexer\u001b[0m\u001b[0;34m,\u001b[0m \u001b[0maxis_name\u001b[0m\u001b[0;34m)\u001b[0m\u001b[0;34m\u001b[0m\u001b[0;34m\u001b[0m\u001b[0m\n\u001b[0m\u001b[1;32m   5783\u001b[0m \u001b[0;34m\u001b[0m\u001b[0m\n\u001b[1;32m   5784\u001b[0m         \u001b[0mkeyarr\u001b[0m \u001b[0;34m=\u001b[0m \u001b[0mself\u001b[0m\u001b[0;34m.\u001b[0m\u001b[0mtake\u001b[0m\u001b[0;34m(\u001b[0m\u001b[0mindexer\u001b[0m\u001b[0;34m)\u001b[0m\u001b[0;34m\u001b[0m\u001b[0;34m\u001b[0m\u001b[0m\n",
      "\u001b[0;32m~/opt/anaconda3/lib/python3.8/site-packages/pandas/core/indexes/base.py\u001b[0m in \u001b[0;36m_raise_if_missing\u001b[0;34m(self, key, indexer, axis_name)\u001b[0m\n\u001b[1;32m   5843\u001b[0m \u001b[0;34m\u001b[0m\u001b[0m\n\u001b[1;32m   5844\u001b[0m             \u001b[0mnot_found\u001b[0m \u001b[0;34m=\u001b[0m \u001b[0mlist\u001b[0m\u001b[0;34m(\u001b[0m\u001b[0mensure_index\u001b[0m\u001b[0;34m(\u001b[0m\u001b[0mkey\u001b[0m\u001b[0;34m)\u001b[0m\u001b[0;34m[\u001b[0m\u001b[0mmissing_mask\u001b[0m\u001b[0;34m.\u001b[0m\u001b[0mnonzero\u001b[0m\u001b[0;34m(\u001b[0m\u001b[0;34m)\u001b[0m\u001b[0;34m[\u001b[0m\u001b[0;36m0\u001b[0m\u001b[0;34m]\u001b[0m\u001b[0;34m]\u001b[0m\u001b[0;34m.\u001b[0m\u001b[0munique\u001b[0m\u001b[0;34m(\u001b[0m\u001b[0;34m)\u001b[0m\u001b[0;34m)\u001b[0m\u001b[0;34m\u001b[0m\u001b[0;34m\u001b[0m\u001b[0m\n\u001b[0;32m-> 5845\u001b[0;31m             \u001b[0;32mraise\u001b[0m \u001b[0mKeyError\u001b[0m\u001b[0;34m(\u001b[0m\u001b[0;34mf\"{not_found} not in index\"\u001b[0m\u001b[0;34m)\u001b[0m\u001b[0;34m\u001b[0m\u001b[0;34m\u001b[0m\u001b[0m\n\u001b[0m\u001b[1;32m   5846\u001b[0m \u001b[0;34m\u001b[0m\u001b[0m\n\u001b[1;32m   5847\u001b[0m     \u001b[0;34m@\u001b[0m\u001b[0moverload\u001b[0m\u001b[0;34m\u001b[0m\u001b[0;34m\u001b[0m\u001b[0m\n",
      "\u001b[0;31mKeyError\u001b[0m: \"['Value'] not in index\""
     ]
    }
   ],
   "source": [
    "[df_train,df_test,theta,intercept,RMSE] = AR(2,pd.DataFrame(df.Open))"
   ]
  },
  {
   "cell_type": "code",
   "execution_count": null,
   "metadata": {},
   "outputs": [],
   "source": [
    "df_c = pd.concat([df_train,df_test])\n",
    "res = pd.DataFrame()\n",
    "res['Residuals'] = df_c.Open - df_c.Predicted_Values"
   ]
  },
  {
   "cell_type": "code",
   "execution_count": null,
   "metadata": {},
   "outputs": [
    {
     "data": {
      "text/plain": [
       "Date\n",
       "2020-12-30   -2.540053\n",
       "2020-12-31   -1.444260\n",
       "2021-01-04   -0.564306\n",
       "2021-01-05   -4.672706\n",
       "2021-01-06   -1.202767\n",
       "                ...   \n",
       "2021-12-20   -0.643016\n",
       "2021-12-21    4.037560\n",
       "2021-12-22    2.173941\n",
       "2021-12-23    3.586509\n",
       "2021-12-27    2.036987\n",
       "Name: Residuals, Length: 250, dtype: float64"
      ]
     },
     "execution_count": 8,
     "metadata": {},
     "output_type": "execute_result"
    }
   ],
   "source": [
    "res['Residuals']"
   ]
  },
  {
   "cell_type": "code",
   "execution_count": null,
   "metadata": {},
   "outputs": [
    {
     "data": {
      "image/png": "[encoded data removed]",
      "text/plain": [
       "<Figure size 432x288 with 1 Axes>"
      ]
     },
     "metadata": {
      "needs_background": "light"
     },
     "output_type": "display_data"
    }
   ],
   "source": [
    "ACF = plot_acf(res['Residuals'],lags=25)"
   ]
  },
  {
   "cell_type": "markdown",
   "metadata": {},
   "source": [
    "## Function to carry out Moving Average process"
   ]
  },
  {
   "cell_type": "code",
   "execution_count": null,
   "metadata": {},
   "outputs": [],
   "source": [
    "def MA(q,res):\n",
    "\n",
    "  for i in range(1,q+1):\n",
    "    res['Shifted_values_%d' % i ] = res['Residuals'].shift(i)\n",
    "\n",
    "  train_size = (int)(0.8 * res.shape[0])\n",
    "\n",
    "  res_train = pd.DataFrame(res[0:train_size])\n",
    "  res_test = pd.DataFrame(res[train_size:res.shape[0]])\n",
    "\n",
    "  res_train_2 = res_train.dropna()\n",
    "  X_train = res_train_2.iloc[:,1:].values.reshape(-1,q)\n",
    "  y_train = res_train_2.iloc[:,0].values.reshape(-1,1)\n",
    "\n",
    "  from sklearn.linear_model import LinearRegression\n",
    "  lr = LinearRegression()\n",
    "  lr.fit(X_train,y_train)\n",
    "\n",
    "  theta  = lr.coef_.T\n",
    "  intercept = lr.intercept_\n",
    "  res_train_2['Predicted_Values'] = X_train.dot(lr.coef_.T) + lr.intercept_\n",
    "  # res_train_2[['Residuals','Predicted_Values']].plot()\n",
    "\n",
    "  X_test = res_test.iloc[:,1:].values.reshape(-1,q)\n",
    "  res_test['Predicted_Values'] = X_test.dot(lr.coef_.T) + lr.intercept_\n",
    "  # res_test[['Residuals','Predicted_Values']].plot()\n",
    "\n",
    "  from sklearn.metrics import mean_squared_error\n",
    "  RMSE = np.sqrt(mean_squared_error(res_test['Residuals'], res_test['Predicted_Values']))\n",
    "\n",
    "  print(\"The RMSE is :\", RMSE,\", Value of q : \",q)\n",
    "  return [res_train_2,res_test,theta,intercept,RMSE]"
   ]
  },
  {
   "cell_type": "markdown",
   "metadata": {},
   "source": [
    "## Choosing best order (q value) for Moving Average process"
   ]
  },
  {
   "cell_type": "code",
   "execution_count": null,
   "metadata": {},
   "outputs": [
    {
     "name": "stdout",
     "output_type": "stream",
     "text": [
      "The RMSE is : 3.2541985735342434 , Value of q :  1\n",
      "The RMSE is : 3.281323177072352 , Value of q :  2\n",
      "The RMSE is : 3.2904313465395383 , Value of q :  3\n",
      "The RMSE is : 3.3002276691781947 , Value of q :  4\n",
      "The RMSE is : 3.313072548521662 , Value of q :  5\n",
      "The RMSE is : 3.2575624939001466 , Value of q :  6\n",
      "The RMSE is : 3.2754950579853643 , Value of q :  7\n",
      "The RMSE is : 3.356476436893415 , Value of q :  8\n",
      "The RMSE is : 3.371112151659533 , Value of q :  9\n",
      "The RMSE is : 3.3686741089073755 , Value of q :  10\n",
      "The RMSE is : 3.2917687023999966 , Value of q :  11\n",
      "The RMSE is : 3.3132644974148415 , Value of q :  12\n",
      "1\n"
     ]
    }
   ],
   "source": [
    "best_RMSE=100000000000\n",
    "best_q = -1\n",
    "\n",
    "for i in range(1,13):\n",
    "  [res_train,res_test,theta,intercept,RMSE] = MA(i,pd.DataFrame(res.Residuals))\n",
    "  if(RMSE<best_RMSE):\n",
    "    best_RMSE = RMSE\n",
    "    best_q = i\n",
    "  \n",
    "print(best_q)"
   ]
  },
  {
   "cell_type": "code",
   "execution_count": null,
   "metadata": {},
   "outputs": [
    {
     "name": "stdout",
     "output_type": "stream",
     "text": [
      "The RMSE is : 3.2541985735342434 , Value of q :  1\n",
      "[[0.01152856]]\n",
      "[0.0179795]\n"
     ]
    }
   ],
   "source": [
    "[res_train,res_test,theta,intercept,RMSE] = MA(best_q,pd.DataFrame(res.Residuals))\n",
    "print(theta)\n",
    "print(intercept)"
   ]
  },
  {
   "cell_type": "code",
   "execution_count": null,
   "metadata": {},
   "outputs": [
    {
     "name": "stdout",
     "output_type": "stream",
     "text": [
      "3.2541985735342434\n"
     ]
    },
    {
     "data": {
      "image/png": "[encoded data removed]",
      "text/plain": [
       "<Figure size 432x288 with 1 Axes>"
      ]
     },
     "metadata": {
      "needs_background": "light"
     },
     "output_type": "display_data"
    }
   ],
   "source": [
    "df_test = df_test.iloc[1:]\n",
    "df_test.Predicted_Values = df_test.Predicted_Values + res_test.Predicted_Values\n",
    "df_test[['Open','Predicted_Values']].plot()\n",
    "RMSE = np.sqrt(mean_squared_error(df_test['Open'], df_test['Predicted_Values']))\n",
    "print(RMSE)"
   ]
  },
  {
   "cell_type": "markdown",
   "metadata": {},
   "source": [
    "## Augmented Dickey–Fuller test "
   ]
  },
  {
   "cell_type": "code",
   "execution_count": null,
   "metadata": {},
   "outputs": [],
   "source": [
    "def adf_check(time_series):\n",
    "    \"\"\"\n",
    "    Pass in a time series, returns ADF report\n",
    "    \"\"\"\n",
    "    result = adfuller(time_series)\n",
    "    print('Augmented Dickey-Fuller Test:')\n",
    "    labels = ['ADF Test Statistic','p-value','Number of Lags Used','Number of Observations Used']\n",
    "\n",
    "    for value,label in zip(result,labels):\n",
    "        print(label+' : '+str(value) )\n",
    "    \n",
    "    if result[1] <= 0.05:\n",
    "        print(\"strong evidence against the null hypothesis, reject the null hypothesis. Data has no unit root and is stationary\")\n",
    "    else:\n",
    "        print(\"weak evidence against null hypothesis, time series has a unit root, indicating it is non-stationary \\n\")"
   ]
  },
  {
   "cell_type": "code",
   "execution_count": null,
   "metadata": {},
   "outputs": [
    {
     "name": "stdout",
     "output_type": "stream",
     "text": [
      "Augmented Dickey-Fuller Test:\n",
      "ADF Test Statistic : -0.002954911878457559\n",
      "p-value : 0.9582870336467576\n",
      "Number of Lags Used : 0\n",
      "Number of Observations Used : 251\n",
      "weak evidence against null hypothesis, time series has a unit root, indicating it is non-stationary \n",
      "\n"
     ]
    }
   ],
   "source": [
    "df_ADF = pd.read_csv('AAPL.csv', header=0, infer_datetime_format=True, parse_dates=[0], index_col=[0])\n",
    "adf_check(df_ADF)"
   ]
  },
  {
   "cell_type": "code",
   "execution_count": null,
   "metadata": {},
   "outputs": [
    {
     "name": "stdout",
     "output_type": "stream",
     "text": [
      "Augmented Dickey-Fuller Test:\n",
      "ADF Test Statistic : -0.002954911878457559\n",
      "p-value : 0.9582870336467576\n",
      "Number of Lags Used : 0\n",
      "Number of Observations Used : 251\n",
      "weak evidence against null hypothesis, time series has a unit root, indicating it is non-stationary \n",
      "\n"
     ]
    }
   ],
   "source": [
    "df_ADF['Open'] = df_ADF['Open'].diff().diff()\n",
    "df_ADF = df.drop(df.index[[0,1]])\n",
    "df_ADF\n",
    "adf_check(df)"
   ]
  },
  {
   "cell_type": "markdown",
   "metadata": {},
   "source": [
    "# GARCH for Volatility Prediction"
   ]
  },
  {
   "cell_type": "markdown",
   "metadata": {},
   "source": [
    "## Read Data"
   ]
  },
  {
   "cell_type": "code",
   "execution_count": null,
   "metadata": {},
   "outputs": [],
   "source": [
    "import pandas_datareader.data as web\n",
    "from datetime import datetime, timedelta\n",
    "import pandas as pd\n",
    "import matplotlib.pyplot as plt\n",
    "from arch import arch_model\n",
    "from statsmodels.graphics.tsaplots import plot_acf, plot_pacf\n",
    "import numpy as np"
   ]
  },
  {
   "cell_type": "markdown",
   "metadata": {},
   "source": [
    "# Case study: Apple stock price"
   ]
  },
  {
   "cell_type": "code",
   "execution_count": null,
   "metadata": {},
   "outputs": [],
   "source": [
    "# set the start date and the end date you would like to study\n",
    "# start = datetime(\"2010-01-01\")\n",
    "# end = datetime(\"2020-06-10\")\n",
    "start = \"2010-01-01\"\n",
    "end = \"2020-06-10\""
   ]
  },
  {
   "cell_type": "code",
   "execution_count": null,
   "metadata": {},
   "outputs": [],
   "source": [
    "# extract data from various Internet sources into a pandas DataFrame.\n",
    "# Not limited with finance data from Yahoo, it provides other popular data sources (e.g., world bank, Naver).\n",
    "# See details: https://pandas-datareader.readthedocs.io/en/latest/remote_data.html\n",
    "aapl = web.DataReader('AAPL', 'yahoo', start=start, end=end)"
   ]
  },
  {
   "cell_type": "code",
   "execution_count": null,
   "metadata": {},
   "outputs": [],
   "source": [
    "# calculate volatility of returns by the function pct_change()\n",
    "# For more details about why view percentage change as volatility: https://finance.zacks.com/price-change-vs-volatility-7592.html\n",
    "returns = 100 * aapl.Close.pct_change().dropna()"
   ]
  },
  {
   "cell_type": "code",
   "execution_count": null,
   "metadata": {},
   "outputs": [
    {
     "data": {
      "text/plain": [
       "Text(0.5, 1.0, 'AAPL Returns')"
      ]
     },
     "execution_count": 21,
     "metadata": {},
     "output_type": "execute_result"
    },
    {
     "data": {
      "image/png": "[encoded data removed]",
      "text/plain": [
       "<Figure size 720x288 with 1 Axes>"
      ]
     },
     "metadata": {
      "needs_background": "light"
     },
     "output_type": "display_data"
    }
   ],
   "source": [
    "# visualise PCT return that is the percentage change from the immediately previous row by default\n",
    "plt.figure(figsize=(10,4))\n",
    "plt.plot(returns)\n",
    "plt.ylabel('Pct Return', fontsize=16)\n",
    "plt.title('AAPL Returns', fontsize=20)"
   ]
  },
  {
   "cell_type": "markdown",
   "metadata": {},
   "source": [
    "## PACF"
   ]
  },
  {
   "cell_type": "code",
   "execution_count": null,
   "metadata": {},
   "outputs": [
    {
     "data": {
      "image/png": "[encoded data removed]",
      "text/plain": [
       "<Figure size 432x288 with 1 Axes>"
      ]
     },
     "metadata": {
      "needs_background": "light"
     },
     "output_type": "display_data"
    }
   ],
   "source": [
    "# calculate the PACF with the variance of return as an input\n",
    "plot_pacf(returns**2, method='ywm')\n",
    "plt.show()"
   ]
  },
  {
   "cell_type": "markdown",
   "metadata": {},
   "source": [
    "## Fit GARCH(3,3)"
   ]
  },
  {
   "cell_type": "code",
   "execution_count": null,
   "metadata": {},
   "outputs": [],
   "source": [
    "# A GARCH model subsumes ARCH models, where a GARCH(0, q) is equivalent to an ARCH(q) model.\n",
    "model = arch_model(returns, p=3, q=3)"
   ]
  },
  {
   "cell_type": "code",
   "execution_count": null,
   "metadata": {},
   "outputs": [
    {
     "name": "stdout",
     "output_type": "stream",
     "text": [
      "Iteration:      1,   Func. Count:     10,   Neg. LLF: 15446.467306460918\n",
      "Iteration:      2,   Func. Count:     23,   Neg. LLF: 4261980878.2285337\n",
      "Iteration:      3,   Func. Count:     34,   Neg. LLF: 5964.864036484298\n",
      "Iteration:      4,   Func. Count:     44,   Neg. LLF: 5135.076623060451\n",
      "Iteration:      5,   Func. Count:     55,   Neg. LLF: 4998.763463076342\n",
      "Iteration:      6,   Func. Count:     65,   Neg. LLF: 5045.593908554274\n",
      "Iteration:      7,   Func. Count:     76,   Neg. LLF: 4969.425180512532\n",
      "Iteration:      8,   Func. Count:     86,   Neg. LLF: 4955.545073731328\n",
      "Iteration:      9,   Func. Count:     96,   Neg. LLF: 4958.1362356550435\n",
      "Iteration:     10,   Func. Count:    106,   Neg. LLF: 4975.462255637902\n",
      "Iteration:     11,   Func. Count:    117,   Neg. LLF: 4953.705120173426\n",
      "Iteration:     12,   Func. Count:    127,   Neg. LLF: 4953.040244469283\n",
      "Iteration:     13,   Func. Count:    136,   Neg. LLF: 4953.028074437223\n",
      "Iteration:     14,   Func. Count:    145,   Neg. LLF: 4953.025430848018\n",
      "Iteration:     15,   Func. Count:    154,   Neg. LLF: 4953.025076531068\n",
      "Iteration:     16,   Func. Count:    163,   Neg. LLF: 4953.02505648622\n",
      "Iteration:     17,   Func. Count:    172,   Neg. LLF: 4953.02505411538\n",
      "Iteration:     18,   Func. Count:    180,   Neg. LLF: 4953.025054115182\n",
      "Optimization terminated successfully    (Exit mode 0)\n",
      "            Current function value: 4953.02505411538\n",
      "            Iterations: 18\n",
      "            Function evaluations: 180\n",
      "            Gradient evaluations: 18\n"
     ]
    }
   ],
   "source": [
    "model_fit = model.fit()"
   ]
  },
  {
   "cell_type": "code",
   "execution_count": null,
   "metadata": {},
   "outputs": [
    {
     "data": {
      "text/html": [
       "<table class=\"simpletable\">\n",
       "<caption>Constant Mean - GARCH Model Results</caption>\n",
       "<tr>\n",
       "  <th>Dep. Variable:</th>        <td>Close</td>       <th>  R-squared:         </th>  <td>   0.000</td> \n",
       "</tr>\n",
       "<tr>\n",
       "  <th>Mean Model:</th>       <td>Constant Mean</td>   <th>  Adj. R-squared:    </th>  <td>   0.000</td> \n",
       "</tr>\n",
       "<tr>\n",
       "  <th>Vol Model:</th>            <td>GARCH</td>       <th>  Log-Likelihood:    </th> <td>  -4953.03</td>\n",
       "</tr>\n",
       "<tr>\n",
       "  <th>Distribution:</th>        <td>Normal</td>       <th>  AIC:               </th> <td>   9922.05</td>\n",
       "</tr>\n",
       "<tr>\n",
       "  <th>Method:</th>        <td>Maximum Likelihood</td> <th>  BIC:               </th> <td>   9969.04</td>\n",
       "</tr>\n",
       "<tr>\n",
       "  <th></th>                        <td></td>          <th>  No. Observations:  </th>    <td>2626</td>   \n",
       "</tr>\n",
       "<tr>\n",
       "  <th>Date:</th>           <td>Thu, Mar 10 2022</td>  <th>  Df Residuals:      </th>    <td>2625</td>   \n",
       "</tr>\n",
       "<tr>\n",
       "  <th>Time:</th>               <td>16:32:17</td>      <th>  Df Model:          </th>      <td>1</td>    \n",
       "</tr>\n",
       "</table>\n",
       "<table class=\"simpletable\">\n",
       "<caption>Mean Model</caption>\n",
       "<tr>\n",
       "   <td></td>     <th>coef</th>     <th>std err</th>      <th>t</th>       <th>P>|t|</th>   <th>95.0% Conf. Int.</th> \n",
       "</tr>\n",
       "<tr>\n",
       "  <th>mu</th> <td>    0.1830</td> <td>3.256e-02</td> <td>    5.623</td> <td>1.880e-08</td> <td>[  0.119,  0.247]</td>\n",
       "</tr>\n",
       "</table>\n",
       "<table class=\"simpletable\">\n",
       "<caption>Volatility Model</caption>\n",
       "<tr>\n",
       "      <td></td>        <th>coef</th>     <th>std err</th>      <th>t</th>       <th>P>|t|</th>      <th>95.0% Conf. Int.</th>   \n",
       "</tr>\n",
       "<tr>\n",
       "  <th>omega</th>    <td>    0.4266</td> <td>    0.207</td> <td>    2.065</td> <td>3.897e-02</td>   <td>[2.161e-02,  0.832]</td> \n",
       "</tr>\n",
       "<tr>\n",
       "  <th>alpha[1]</th> <td>    0.1616</td> <td>4.204e-02</td> <td>    3.844</td> <td>1.210e-04</td>   <td>[7.921e-02,  0.244]</td> \n",
       "</tr>\n",
       "<tr>\n",
       "  <th>alpha[2]</th> <td>    0.0636</td> <td>9.487e-02</td> <td>    0.671</td> <td>    0.502</td>    <td>[ -0.122,  0.250]</td>  \n",
       "</tr>\n",
       "<tr>\n",
       "  <th>alpha[3]</th> <td>    0.0339</td> <td>2.940e-02</td> <td>    1.152</td> <td>    0.249</td> <td>[-2.376e-02,9.149e-02]</td>\n",
       "</tr>\n",
       "<tr>\n",
       "  <th>beta[1]</th>  <td>7.4285e-16</td> <td>    0.533</td> <td>1.393e-15</td> <td>    1.000</td>    <td>[ -1.045,  1.045]</td>  \n",
       "</tr>\n",
       "<tr>\n",
       "  <th>beta[2]</th>  <td>    0.5384</td> <td>    0.154</td> <td>    3.504</td> <td>4.576e-04</td>    <td>[  0.237,  0.840]</td>  \n",
       "</tr>\n",
       "<tr>\n",
       "  <th>beta[3]</th>  <td>    0.0659</td> <td>    0.323</td> <td>    0.204</td> <td>    0.838</td>    <td>[ -0.566,  0.698]</td>  \n",
       "</tr>\n",
       "</table><br/><br/>Covariance estimator: robust"
      ],
      "text/plain": [
       "<class 'statsmodels.iolib.summary.Summary'>\n",
       "\"\"\"\n",
       "                     Constant Mean - GARCH Model Results                      \n",
       "==============================================================================\n",
       "Dep. Variable:                  Close   R-squared:                       0.000\n",
       "Mean Model:             Constant Mean   Adj. R-squared:                  0.000\n",
       "Vol Model:                      GARCH   Log-Likelihood:               -4953.03\n",
       "Distribution:                  Normal   AIC:                           9922.05\n",
       "Method:            Maximum Likelihood   BIC:                           9969.04\n",
       "                                        No. Observations:                 2626\n",
       "Date:                Thu, Mar 10 2022   Df Residuals:                     2625\n",
       "Time:                        16:32:17   Df Model:                            1\n",
       "                               Mean Model                               \n",
       "========================================================================\n",
       "                 coef    std err          t      P>|t|  95.0% Conf. Int.\n",
       "------------------------------------------------------------------------\n",
       "mu             0.1830  3.256e-02      5.623  1.880e-08 [  0.119,  0.247]\n",
       "                               Volatility Model                              \n",
       "=============================================================================\n",
       "                 coef    std err          t      P>|t|       95.0% Conf. Int.\n",
       "-----------------------------------------------------------------------------\n",
       "omega          0.4266      0.207      2.065  3.897e-02    [2.161e-02,  0.832]\n",
       "alpha[1]       0.1616  4.204e-02      3.844  1.210e-04    [7.921e-02,  0.244]\n",
       "alpha[2]       0.0636  9.487e-02      0.671      0.502      [ -0.122,  0.250]\n",
       "alpha[3]       0.0339  2.940e-02      1.152      0.249 [-2.376e-02,9.149e-02]\n",
       "beta[1]    7.4285e-16      0.533  1.393e-15      1.000      [ -1.045,  1.045]\n",
       "beta[2]        0.5384      0.154      3.504  4.576e-04      [  0.237,  0.840]\n",
       "beta[3]        0.0659      0.323      0.204      0.838      [ -0.566,  0.698]\n",
       "=============================================================================\n",
       "\n",
       "Covariance estimator: robust\n",
       "\"\"\""
      ]
     },
     "execution_count": 25,
     "metadata": {},
     "output_type": "execute_result"
    }
   ],
   "source": [
    "model_fit.summary()"
   ]
  },
  {
   "cell_type": "markdown",
   "metadata": {},
   "source": [
    "# How to use the model"
   ]
  },
  {
   "cell_type": "code",
   "execution_count": null,
   "metadata": {},
   "outputs": [],
   "source": [
    "train = returns\n",
    "model = arch_model(train, p=2, q=2)\n",
    "model_fit = model.fit(disp='off')"
   ]
  },
  {
   "cell_type": "code",
   "execution_count": null,
   "metadata": {},
   "outputs": [],
   "source": [
    "from arch.__future__ import reindexing\n",
    "pred = model_fit.forecast(horizon=7)\n",
    "future_dates = [returns.index[-1] + timedelta(days=i) for i in range(1,8)]\n",
    "pred = pd.Series(np.sqrt(pred.variance.values[-1,:]), index=future_dates)"
   ]
  },
  {
   "cell_type": "code",
   "execution_count": null,
   "metadata": {},
   "outputs": [
    {
     "data": {
      "text/plain": [
       "Text(0.5, 1.0, 'Volatility Prediction - Next 7 Days')"
      ]
     },
     "execution_count": 28,
     "metadata": {},
     "output_type": "execute_result"
    },
    {
     "data": {
      "image/png": "[encoded data removed]",
      "text/plain": [
       "<Figure size 720x288 with 1 Axes>"
      ]
     },
     "metadata": {
      "needs_background": "light"
     },
     "output_type": "display_data"
    }
   ],
   "source": [
    "plt.figure(figsize=(10,4))\n",
    "plt.plot(pred)\n",
    "plt.title('Volatility Prediction - Next 7 Days', fontsize=20)"
   ]
  },
  {
   "cell_type": "code",
   "execution_count": null,
   "metadata": {},
   "outputs": [],
   "source": []
  }
 ],
 "metadata": {
  "colab": {
   "authorship_tag": "ABX9TyMWfhj+QNF5qfMea3tyuvJl",
   "collapsed_sections": [
    "FNjoBztsQmjA",
    "uF7YAA-CUdJ5",
    "wYNmLLLaWCIg"
   ],
   "name": "ARIMA.ipynb",
   "provenance": []
  },
  "kernelspec": {
   "display_name": "Python 3 (ipykernel)",
   "language": "python",
   "name": "python3"
  },
  "language_info": {
   "codemirror_mode": {
    "name": "ipython",
    "version": 3
   },
   "file_extension": ".py",
   "mimetype": "text/x-python",
   "name": "python",
   "nbconvert_exporter": "python",
   "pygments_lexer": "ipython3",
   "version": "3.8.12"
  }
 },
 "nbformat": 4,
 "nbformat_minor": 1
}
